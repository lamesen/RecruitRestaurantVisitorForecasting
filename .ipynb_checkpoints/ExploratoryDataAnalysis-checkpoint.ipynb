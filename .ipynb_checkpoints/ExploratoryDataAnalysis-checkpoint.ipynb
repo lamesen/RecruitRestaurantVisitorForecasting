{
 "cells": [
  {
   "cell_type": "code",
   "execution_count": 2,
   "metadata": {},
   "outputs": [],
   "source": [
    "import pandas as pd"
   ]
  },
  {
   "cell_type": "code",
   "execution_count": null,
   "metadata": {
    "collapsed": true
   },
   "outputs": [],
   "source": [
    "air_reserve_df = pd.read_csv(r'./data/air_reserve.csv')\n",
    "air_reserve_df = pd.read_csv(r'./data/air_reserve.csv')\n",
    "air_reserve_df = pd.read_csv(r'./data/air_reserve.csv')\n",
    "air_reserve_df = pd.read_csv(r'./data/air_reserve.csv')\n",
    "air_reserve_df = pd.read_csv(r'./data/air_reserve.csv')\n",
    "air_reserve_df = pd.read_csv(r'./data/air_reserve.csv')\n",
    "air_reserve_df = pd.read_csv(r'./data/air_reserve.csv')\n",
    "air_reserve_df = pd.read_csv(r'./data/air_reserve.csv')"
   ]
  }
 ],
 "metadata": {
  "kernelspec": {
   "display_name": "Python 3",
   "language": "python",
   "name": "python3"
  },
  "language_info": {
   "codemirror_mode": {
    "name": "ipython",
    "version": 3
   },
   "file_extension": ".py",
   "mimetype": "text/x-python",
   "name": "python",
   "nbconvert_exporter": "python",
   "pygments_lexer": "ipython3",
   "version": "3.6.2"
  }
 },
 "nbformat": 4,
 "nbformat_minor": 1
}
