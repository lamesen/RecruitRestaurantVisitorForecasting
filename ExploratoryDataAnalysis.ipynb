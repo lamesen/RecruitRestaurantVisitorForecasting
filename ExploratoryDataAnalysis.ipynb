{
 "cells": [
  {
   "cell_type": "code",
   "execution_count": 1,
   "metadata": {
    "collapsed": true
   },
   "outputs": [],
   "source": [
    "import pandas as pd\n",
    "import numpy as np\n",
    "import matplotlib\n",
    "from bokeh.io import output_notebook"
   ]
  },
  {
   "cell_type": "code",
   "execution_count": 2,
   "metadata": {
    "collapsed": true
   },
   "outputs": [],
   "source": [
    "# Import data into pandas data frames\n",
    "air_reserve_df = pd.read_csv(r'./data/air_reserve.csv', parse_dates=['visit_datetime', 'reserve_datetime'])\n",
    "air_store_info_df = pd.read_csv(r'./data/air_store_info.csv')\n",
    "air_visit_data_df = pd.read_csv(r'./data/air_visit_data.csv', parse_dates=['visit_date'])\n",
    "date_info_df = pd.read_csv(r'./data/date_info.csv', parse_dates=['calendar_date'])\n",
    "date_info_df['calendar_date'] = date_info_df['calendar_date'].dt.date\n",
    "# hpg_reserve_df = pd.read_csv(r'./data/hpg_reserve.csv')\n",
    "hpg_store_info_df = pd.read_csv(r'./data/hpg_store_info.csv')\n",
    "store_id_relation_df = pd.read_csv(r'./data/store_id_relation.csv')"
   ]
  },
  {
   "cell_type": "code",
   "execution_count": 3,
   "metadata": {},
   "outputs": [
    {
     "data": {
      "text/html": [
       "<div>\n",
       "<style>\n",
       "    .dataframe thead tr:only-child th {\n",
       "        text-align: right;\n",
       "    }\n",
       "\n",
       "    .dataframe thead th {\n",
       "        text-align: left;\n",
       "    }\n",
       "\n",
       "    .dataframe tbody tr th {\n",
       "        vertical-align: top;\n",
       "    }\n",
       "</style>\n",
       "<table border=\"1\" class=\"dataframe\">\n",
       "  <thead>\n",
       "    <tr style=\"text-align: right;\">\n",
       "      <th></th>\n",
       "      <th>air_store_id</th>\n",
       "      <th>visit_datetime</th>\n",
       "      <th>reserve_datetime</th>\n",
       "      <th>reserve_visitors</th>\n",
       "    </tr>\n",
       "  </thead>\n",
       "  <tbody>\n",
       "    <tr>\n",
       "      <th>0</th>\n",
       "      <td>air_877f79706adbfb06</td>\n",
       "      <td>2016-01-01 19:00:00</td>\n",
       "      <td>2016-01-01 16:00:00</td>\n",
       "      <td>1</td>\n",
       "    </tr>\n",
       "    <tr>\n",
       "      <th>1</th>\n",
       "      <td>air_db4b38ebe7a7ceff</td>\n",
       "      <td>2016-01-01 19:00:00</td>\n",
       "      <td>2016-01-01 19:00:00</td>\n",
       "      <td>3</td>\n",
       "    </tr>\n",
       "    <tr>\n",
       "      <th>2</th>\n",
       "      <td>air_db4b38ebe7a7ceff</td>\n",
       "      <td>2016-01-01 19:00:00</td>\n",
       "      <td>2016-01-01 19:00:00</td>\n",
       "      <td>6</td>\n",
       "    </tr>\n",
       "    <tr>\n",
       "      <th>3</th>\n",
       "      <td>air_877f79706adbfb06</td>\n",
       "      <td>2016-01-01 20:00:00</td>\n",
       "      <td>2016-01-01 16:00:00</td>\n",
       "      <td>2</td>\n",
       "    </tr>\n",
       "    <tr>\n",
       "      <th>4</th>\n",
       "      <td>air_db80363d35f10926</td>\n",
       "      <td>2016-01-01 20:00:00</td>\n",
       "      <td>2016-01-01 01:00:00</td>\n",
       "      <td>5</td>\n",
       "    </tr>\n",
       "  </tbody>\n",
       "</table>\n",
       "</div>"
      ],
      "text/plain": [
       "           air_store_id      visit_datetime    reserve_datetime  \\\n",
       "0  air_877f79706adbfb06 2016-01-01 19:00:00 2016-01-01 16:00:00   \n",
       "1  air_db4b38ebe7a7ceff 2016-01-01 19:00:00 2016-01-01 19:00:00   \n",
       "2  air_db4b38ebe7a7ceff 2016-01-01 19:00:00 2016-01-01 19:00:00   \n",
       "3  air_877f79706adbfb06 2016-01-01 20:00:00 2016-01-01 16:00:00   \n",
       "4  air_db80363d35f10926 2016-01-01 20:00:00 2016-01-01 01:00:00   \n",
       "\n",
       "   reserve_visitors  \n",
       "0                 1  \n",
       "1                 3  \n",
       "2                 6  \n",
       "3                 2  \n",
       "4                 5  "
      ]
     },
     "execution_count": 3,
     "metadata": {},
     "output_type": "execute_result"
    }
   ],
   "source": [
    "air_reserve_df.head()"
   ]
  },
  {
   "cell_type": "code",
   "execution_count": 4,
   "metadata": {},
   "outputs": [
    {
     "name": "stdout",
     "output_type": "stream",
     "text": [
      "<class 'pandas.core.frame.DataFrame'>\n",
      "RangeIndex: 92378 entries, 0 to 92377\n",
      "Data columns (total 4 columns):\n",
      "air_store_id        92378 non-null object\n",
      "visit_datetime      92378 non-null datetime64[ns]\n",
      "reserve_datetime    92378 non-null datetime64[ns]\n",
      "reserve_visitors    92378 non-null int64\n",
      "dtypes: datetime64[ns](2), int64(1), object(1)\n",
      "memory usage: 2.8+ MB\n"
     ]
    }
   ],
   "source": [
    "air_reserve_df.info()"
   ]
  },
  {
   "cell_type": "code",
   "execution_count": 5,
   "metadata": {},
   "outputs": [
    {
     "data": {
      "text/html": [
       "<div>\n",
       "<style>\n",
       "    .dataframe thead tr:only-child th {\n",
       "        text-align: right;\n",
       "    }\n",
       "\n",
       "    .dataframe thead th {\n",
       "        text-align: left;\n",
       "    }\n",
       "\n",
       "    .dataframe tbody tr th {\n",
       "        vertical-align: top;\n",
       "    }\n",
       "</style>\n",
       "<table border=\"1\" class=\"dataframe\">\n",
       "  <thead>\n",
       "    <tr style=\"text-align: right;\">\n",
       "      <th></th>\n",
       "      <th>reserve_visitors</th>\n",
       "    </tr>\n",
       "  </thead>\n",
       "  <tbody>\n",
       "    <tr>\n",
       "      <th>count</th>\n",
       "      <td>92378.000000</td>\n",
       "    </tr>\n",
       "    <tr>\n",
       "      <th>mean</th>\n",
       "      <td>4.481749</td>\n",
       "    </tr>\n",
       "    <tr>\n",
       "      <th>std</th>\n",
       "      <td>4.919669</td>\n",
       "    </tr>\n",
       "    <tr>\n",
       "      <th>min</th>\n",
       "      <td>1.000000</td>\n",
       "    </tr>\n",
       "    <tr>\n",
       "      <th>25%</th>\n",
       "      <td>2.000000</td>\n",
       "    </tr>\n",
       "    <tr>\n",
       "      <th>50%</th>\n",
       "      <td>3.000000</td>\n",
       "    </tr>\n",
       "    <tr>\n",
       "      <th>75%</th>\n",
       "      <td>5.000000</td>\n",
       "    </tr>\n",
       "    <tr>\n",
       "      <th>max</th>\n",
       "      <td>100.000000</td>\n",
       "    </tr>\n",
       "  </tbody>\n",
       "</table>\n",
       "</div>"
      ],
      "text/plain": [
       "       reserve_visitors\n",
       "count      92378.000000\n",
       "mean           4.481749\n",
       "std            4.919669\n",
       "min            1.000000\n",
       "25%            2.000000\n",
       "50%            3.000000\n",
       "75%            5.000000\n",
       "max          100.000000"
      ]
     },
     "execution_count": 5,
     "metadata": {},
     "output_type": "execute_result"
    }
   ],
   "source": [
    "air_reserve_df.describe()"
   ]
  },
  {
   "cell_type": "code",
   "execution_count": 6,
   "metadata": {},
   "outputs": [
    {
     "data": {
      "text/html": [
       "<div>\n",
       "<style>\n",
       "    .dataframe thead tr:only-child th {\n",
       "        text-align: right;\n",
       "    }\n",
       "\n",
       "    .dataframe thead th {\n",
       "        text-align: left;\n",
       "    }\n",
       "\n",
       "    .dataframe tbody tr th {\n",
       "        vertical-align: top;\n",
       "    }\n",
       "</style>\n",
       "<table border=\"1\" class=\"dataframe\">\n",
       "  <thead>\n",
       "    <tr style=\"text-align: right;\">\n",
       "      <th></th>\n",
       "      <th>air_store_id</th>\n",
       "      <th>air_genre_name</th>\n",
       "      <th>air_area_name</th>\n",
       "      <th>latitude</th>\n",
       "      <th>longitude</th>\n",
       "    </tr>\n",
       "  </thead>\n",
       "  <tbody>\n",
       "    <tr>\n",
       "      <th>0</th>\n",
       "      <td>air_0f0cdeee6c9bf3d7</td>\n",
       "      <td>Italian/French</td>\n",
       "      <td>Hyōgo-ken Kōbe-shi Kumoidōri</td>\n",
       "      <td>34.695124</td>\n",
       "      <td>135.197852</td>\n",
       "    </tr>\n",
       "    <tr>\n",
       "      <th>1</th>\n",
       "      <td>air_7cc17a324ae5c7dc</td>\n",
       "      <td>Italian/French</td>\n",
       "      <td>Hyōgo-ken Kōbe-shi Kumoidōri</td>\n",
       "      <td>34.695124</td>\n",
       "      <td>135.197852</td>\n",
       "    </tr>\n",
       "    <tr>\n",
       "      <th>2</th>\n",
       "      <td>air_fee8dcf4d619598e</td>\n",
       "      <td>Italian/French</td>\n",
       "      <td>Hyōgo-ken Kōbe-shi Kumoidōri</td>\n",
       "      <td>34.695124</td>\n",
       "      <td>135.197852</td>\n",
       "    </tr>\n",
       "    <tr>\n",
       "      <th>3</th>\n",
       "      <td>air_a17f0778617c76e2</td>\n",
       "      <td>Italian/French</td>\n",
       "      <td>Hyōgo-ken Kōbe-shi Kumoidōri</td>\n",
       "      <td>34.695124</td>\n",
       "      <td>135.197852</td>\n",
       "    </tr>\n",
       "    <tr>\n",
       "      <th>4</th>\n",
       "      <td>air_83db5aff8f50478e</td>\n",
       "      <td>Italian/French</td>\n",
       "      <td>Tōkyō-to Minato-ku Shibakōen</td>\n",
       "      <td>35.658068</td>\n",
       "      <td>139.751599</td>\n",
       "    </tr>\n",
       "  </tbody>\n",
       "</table>\n",
       "</div>"
      ],
      "text/plain": [
       "           air_store_id  air_genre_name                 air_area_name  \\\n",
       "0  air_0f0cdeee6c9bf3d7  Italian/French  Hyōgo-ken Kōbe-shi Kumoidōri   \n",
       "1  air_7cc17a324ae5c7dc  Italian/French  Hyōgo-ken Kōbe-shi Kumoidōri   \n",
       "2  air_fee8dcf4d619598e  Italian/French  Hyōgo-ken Kōbe-shi Kumoidōri   \n",
       "3  air_a17f0778617c76e2  Italian/French  Hyōgo-ken Kōbe-shi Kumoidōri   \n",
       "4  air_83db5aff8f50478e  Italian/French  Tōkyō-to Minato-ku Shibakōen   \n",
       "\n",
       "    latitude   longitude  \n",
       "0  34.695124  135.197852  \n",
       "1  34.695124  135.197852  \n",
       "2  34.695124  135.197852  \n",
       "3  34.695124  135.197852  \n",
       "4  35.658068  139.751599  "
      ]
     },
     "execution_count": 6,
     "metadata": {},
     "output_type": "execute_result"
    }
   ],
   "source": [
    "air_store_info_df.head()"
   ]
  },
  {
   "cell_type": "code",
   "execution_count": 7,
   "metadata": {},
   "outputs": [
    {
     "name": "stdout",
     "output_type": "stream",
     "text": [
      "<class 'pandas.core.frame.DataFrame'>\n",
      "RangeIndex: 829 entries, 0 to 828\n",
      "Data columns (total 5 columns):\n",
      "air_store_id      829 non-null object\n",
      "air_genre_name    829 non-null object\n",
      "air_area_name     829 non-null object\n",
      "latitude          829 non-null float64\n",
      "longitude         829 non-null float64\n",
      "dtypes: float64(2), object(3)\n",
      "memory usage: 32.5+ KB\n"
     ]
    }
   ],
   "source": [
    "air_store_info_df.info()"
   ]
  },
  {
   "cell_type": "code",
   "execution_count": 8,
   "metadata": {},
   "outputs": [
    {
     "data": {
      "text/html": [
       "<div>\n",
       "<style>\n",
       "    .dataframe thead tr:only-child th {\n",
       "        text-align: right;\n",
       "    }\n",
       "\n",
       "    .dataframe thead th {\n",
       "        text-align: left;\n",
       "    }\n",
       "\n",
       "    .dataframe tbody tr th {\n",
       "        vertical-align: top;\n",
       "    }\n",
       "</style>\n",
       "<table border=\"1\" class=\"dataframe\">\n",
       "  <thead>\n",
       "    <tr style=\"text-align: right;\">\n",
       "      <th></th>\n",
       "      <th>latitude</th>\n",
       "      <th>longitude</th>\n",
       "    </tr>\n",
       "  </thead>\n",
       "  <tbody>\n",
       "    <tr>\n",
       "      <th>count</th>\n",
       "      <td>829.000000</td>\n",
       "      <td>829.000000</td>\n",
       "    </tr>\n",
       "    <tr>\n",
       "      <th>mean</th>\n",
       "      <td>35.647042</td>\n",
       "      <td>137.415311</td>\n",
       "    </tr>\n",
       "    <tr>\n",
       "      <th>std</th>\n",
       "      <td>2.084659</td>\n",
       "      <td>3.650971</td>\n",
       "    </tr>\n",
       "    <tr>\n",
       "      <th>min</th>\n",
       "      <td>33.211967</td>\n",
       "      <td>130.195555</td>\n",
       "    </tr>\n",
       "    <tr>\n",
       "      <th>25%</th>\n",
       "      <td>34.695124</td>\n",
       "      <td>135.341564</td>\n",
       "    </tr>\n",
       "    <tr>\n",
       "      <th>50%</th>\n",
       "      <td>35.658068</td>\n",
       "      <td>139.685474</td>\n",
       "    </tr>\n",
       "    <tr>\n",
       "      <th>75%</th>\n",
       "      <td>35.694003</td>\n",
       "      <td>139.751599</td>\n",
       "    </tr>\n",
       "    <tr>\n",
       "      <th>max</th>\n",
       "      <td>44.020632</td>\n",
       "      <td>144.273398</td>\n",
       "    </tr>\n",
       "  </tbody>\n",
       "</table>\n",
       "</div>"
      ],
      "text/plain": [
       "         latitude   longitude\n",
       "count  829.000000  829.000000\n",
       "mean    35.647042  137.415311\n",
       "std      2.084659    3.650971\n",
       "min     33.211967  130.195555\n",
       "25%     34.695124  135.341564\n",
       "50%     35.658068  139.685474\n",
       "75%     35.694003  139.751599\n",
       "max     44.020632  144.273398"
      ]
     },
     "execution_count": 8,
     "metadata": {},
     "output_type": "execute_result"
    }
   ],
   "source": [
    "air_store_info_df.describe()"
   ]
  },
  {
   "cell_type": "code",
   "execution_count": 9,
   "metadata": {},
   "outputs": [
    {
     "data": {
      "text/html": [
       "<div>\n",
       "<style>\n",
       "    .dataframe thead tr:only-child th {\n",
       "        text-align: right;\n",
       "    }\n",
       "\n",
       "    .dataframe thead th {\n",
       "        text-align: left;\n",
       "    }\n",
       "\n",
       "    .dataframe tbody tr th {\n",
       "        vertical-align: top;\n",
       "    }\n",
       "</style>\n",
       "<table border=\"1\" class=\"dataframe\">\n",
       "  <thead>\n",
       "    <tr style=\"text-align: right;\">\n",
       "      <th></th>\n",
       "      <th>air_store_id</th>\n",
       "      <th>visit_date</th>\n",
       "      <th>visitors</th>\n",
       "    </tr>\n",
       "  </thead>\n",
       "  <tbody>\n",
       "    <tr>\n",
       "      <th>0</th>\n",
       "      <td>air_ba937bf13d40fb24</td>\n",
       "      <td>2016-01-13</td>\n",
       "      <td>25</td>\n",
       "    </tr>\n",
       "    <tr>\n",
       "      <th>1</th>\n",
       "      <td>air_ba937bf13d40fb24</td>\n",
       "      <td>2016-01-14</td>\n",
       "      <td>32</td>\n",
       "    </tr>\n",
       "    <tr>\n",
       "      <th>2</th>\n",
       "      <td>air_ba937bf13d40fb24</td>\n",
       "      <td>2016-01-15</td>\n",
       "      <td>29</td>\n",
       "    </tr>\n",
       "    <tr>\n",
       "      <th>3</th>\n",
       "      <td>air_ba937bf13d40fb24</td>\n",
       "      <td>2016-01-16</td>\n",
       "      <td>22</td>\n",
       "    </tr>\n",
       "    <tr>\n",
       "      <th>4</th>\n",
       "      <td>air_ba937bf13d40fb24</td>\n",
       "      <td>2016-01-18</td>\n",
       "      <td>6</td>\n",
       "    </tr>\n",
       "  </tbody>\n",
       "</table>\n",
       "</div>"
      ],
      "text/plain": [
       "           air_store_id visit_date  visitors\n",
       "0  air_ba937bf13d40fb24 2016-01-13        25\n",
       "1  air_ba937bf13d40fb24 2016-01-14        32\n",
       "2  air_ba937bf13d40fb24 2016-01-15        29\n",
       "3  air_ba937bf13d40fb24 2016-01-16        22\n",
       "4  air_ba937bf13d40fb24 2016-01-18         6"
      ]
     },
     "execution_count": 9,
     "metadata": {},
     "output_type": "execute_result"
    }
   ],
   "source": [
    "air_visit_data_df.head()"
   ]
  },
  {
   "cell_type": "code",
   "execution_count": 10,
   "metadata": {},
   "outputs": [
    {
     "name": "stdout",
     "output_type": "stream",
     "text": [
      "<class 'pandas.core.frame.DataFrame'>\n",
      "RangeIndex: 252108 entries, 0 to 252107\n",
      "Data columns (total 3 columns):\n",
      "air_store_id    252108 non-null object\n",
      "visit_date      252108 non-null datetime64[ns]\n",
      "visitors        252108 non-null int64\n",
      "dtypes: datetime64[ns](1), int64(1), object(1)\n",
      "memory usage: 5.8+ MB\n"
     ]
    }
   ],
   "source": [
    "air_visit_data_df.info()"
   ]
  },
  {
   "cell_type": "code",
   "execution_count": 11,
   "metadata": {},
   "outputs": [
    {
     "data": {
      "text/html": [
       "<div>\n",
       "<style>\n",
       "    .dataframe thead tr:only-child th {\n",
       "        text-align: right;\n",
       "    }\n",
       "\n",
       "    .dataframe thead th {\n",
       "        text-align: left;\n",
       "    }\n",
       "\n",
       "    .dataframe tbody tr th {\n",
       "        vertical-align: top;\n",
       "    }\n",
       "</style>\n",
       "<table border=\"1\" class=\"dataframe\">\n",
       "  <thead>\n",
       "    <tr style=\"text-align: right;\">\n",
       "      <th></th>\n",
       "      <th>visitors</th>\n",
       "    </tr>\n",
       "  </thead>\n",
       "  <tbody>\n",
       "    <tr>\n",
       "      <th>count</th>\n",
       "      <td>252108.000000</td>\n",
       "    </tr>\n",
       "    <tr>\n",
       "      <th>mean</th>\n",
       "      <td>20.973761</td>\n",
       "    </tr>\n",
       "    <tr>\n",
       "      <th>std</th>\n",
       "      <td>16.757007</td>\n",
       "    </tr>\n",
       "    <tr>\n",
       "      <th>min</th>\n",
       "      <td>1.000000</td>\n",
       "    </tr>\n",
       "    <tr>\n",
       "      <th>25%</th>\n",
       "      <td>9.000000</td>\n",
       "    </tr>\n",
       "    <tr>\n",
       "      <th>50%</th>\n",
       "      <td>17.000000</td>\n",
       "    </tr>\n",
       "    <tr>\n",
       "      <th>75%</th>\n",
       "      <td>29.000000</td>\n",
       "    </tr>\n",
       "    <tr>\n",
       "      <th>max</th>\n",
       "      <td>877.000000</td>\n",
       "    </tr>\n",
       "  </tbody>\n",
       "</table>\n",
       "</div>"
      ],
      "text/plain": [
       "            visitors\n",
       "count  252108.000000\n",
       "mean       20.973761\n",
       "std        16.757007\n",
       "min         1.000000\n",
       "25%         9.000000\n",
       "50%        17.000000\n",
       "75%        29.000000\n",
       "max       877.000000"
      ]
     },
     "execution_count": 11,
     "metadata": {},
     "output_type": "execute_result"
    }
   ],
   "source": [
    "air_visit_data_df.describe()"
   ]
  },
  {
   "cell_type": "code",
   "execution_count": 12,
   "metadata": {},
   "outputs": [
    {
     "data": {
      "text/html": [
       "<div>\n",
       "<style>\n",
       "    .dataframe thead tr:only-child th {\n",
       "        text-align: right;\n",
       "    }\n",
       "\n",
       "    .dataframe thead th {\n",
       "        text-align: left;\n",
       "    }\n",
       "\n",
       "    .dataframe tbody tr th {\n",
       "        vertical-align: top;\n",
       "    }\n",
       "</style>\n",
       "<table border=\"1\" class=\"dataframe\">\n",
       "  <thead>\n",
       "    <tr style=\"text-align: right;\">\n",
       "      <th></th>\n",
       "      <th>calendar_date</th>\n",
       "      <th>day_of_week</th>\n",
       "      <th>holiday_flg</th>\n",
       "    </tr>\n",
       "  </thead>\n",
       "  <tbody>\n",
       "    <tr>\n",
       "      <th>0</th>\n",
       "      <td>2016-01-01</td>\n",
       "      <td>Friday</td>\n",
       "      <td>1</td>\n",
       "    </tr>\n",
       "    <tr>\n",
       "      <th>1</th>\n",
       "      <td>2016-01-02</td>\n",
       "      <td>Saturday</td>\n",
       "      <td>1</td>\n",
       "    </tr>\n",
       "    <tr>\n",
       "      <th>2</th>\n",
       "      <td>2016-01-03</td>\n",
       "      <td>Sunday</td>\n",
       "      <td>1</td>\n",
       "    </tr>\n",
       "    <tr>\n",
       "      <th>3</th>\n",
       "      <td>2016-01-04</td>\n",
       "      <td>Monday</td>\n",
       "      <td>0</td>\n",
       "    </tr>\n",
       "    <tr>\n",
       "      <th>4</th>\n",
       "      <td>2016-01-05</td>\n",
       "      <td>Tuesday</td>\n",
       "      <td>0</td>\n",
       "    </tr>\n",
       "  </tbody>\n",
       "</table>\n",
       "</div>"
      ],
      "text/plain": [
       "  calendar_date day_of_week  holiday_flg\n",
       "0    2016-01-01      Friday            1\n",
       "1    2016-01-02    Saturday            1\n",
       "2    2016-01-03      Sunday            1\n",
       "3    2016-01-04      Monday            0\n",
       "4    2016-01-05     Tuesday            0"
      ]
     },
     "execution_count": 12,
     "metadata": {},
     "output_type": "execute_result"
    }
   ],
   "source": [
    "date_info_df.head()"
   ]
  },
  {
   "cell_type": "code",
   "execution_count": 13,
   "metadata": {},
   "outputs": [
    {
     "name": "stdout",
     "output_type": "stream",
     "text": [
      "<class 'pandas.core.frame.DataFrame'>\n",
      "RangeIndex: 517 entries, 0 to 516\n",
      "Data columns (total 3 columns):\n",
      "calendar_date    517 non-null object\n",
      "day_of_week      517 non-null object\n",
      "holiday_flg      517 non-null int64\n",
      "dtypes: int64(1), object(2)\n",
      "memory usage: 12.2+ KB\n"
     ]
    }
   ],
   "source": [
    "date_info_df.info()"
   ]
  },
  {
   "cell_type": "code",
   "execution_count": 14,
   "metadata": {},
   "outputs": [
    {
     "data": {
      "text/html": [
       "<div>\n",
       "<style>\n",
       "    .dataframe thead tr:only-child th {\n",
       "        text-align: right;\n",
       "    }\n",
       "\n",
       "    .dataframe thead th {\n",
       "        text-align: left;\n",
       "    }\n",
       "\n",
       "    .dataframe tbody tr th {\n",
       "        vertical-align: top;\n",
       "    }\n",
       "</style>\n",
       "<table border=\"1\" class=\"dataframe\">\n",
       "  <thead>\n",
       "    <tr style=\"text-align: right;\">\n",
       "      <th></th>\n",
       "      <th>holiday_flg</th>\n",
       "    </tr>\n",
       "  </thead>\n",
       "  <tbody>\n",
       "    <tr>\n",
       "      <th>count</th>\n",
       "      <td>517.000000</td>\n",
       "    </tr>\n",
       "    <tr>\n",
       "      <th>mean</th>\n",
       "      <td>0.067698</td>\n",
       "    </tr>\n",
       "    <tr>\n",
       "      <th>std</th>\n",
       "      <td>0.251471</td>\n",
       "    </tr>\n",
       "    <tr>\n",
       "      <th>min</th>\n",
       "      <td>0.000000</td>\n",
       "    </tr>\n",
       "    <tr>\n",
       "      <th>25%</th>\n",
       "      <td>0.000000</td>\n",
       "    </tr>\n",
       "    <tr>\n",
       "      <th>50%</th>\n",
       "      <td>0.000000</td>\n",
       "    </tr>\n",
       "    <tr>\n",
       "      <th>75%</th>\n",
       "      <td>0.000000</td>\n",
       "    </tr>\n",
       "    <tr>\n",
       "      <th>max</th>\n",
       "      <td>1.000000</td>\n",
       "    </tr>\n",
       "  </tbody>\n",
       "</table>\n",
       "</div>"
      ],
      "text/plain": [
       "       holiday_flg\n",
       "count   517.000000\n",
       "mean      0.067698\n",
       "std       0.251471\n",
       "min       0.000000\n",
       "25%       0.000000\n",
       "50%       0.000000\n",
       "75%       0.000000\n",
       "max       1.000000"
      ]
     },
     "execution_count": 14,
     "metadata": {},
     "output_type": "execute_result"
    }
   ],
   "source": [
    "date_info_df.describe()"
   ]
  },
  {
   "cell_type": "code",
   "execution_count": 15,
   "metadata": {},
   "outputs": [
    {
     "data": {
      "text/html": [
       "<div>\n",
       "<style>\n",
       "    .dataframe thead tr:only-child th {\n",
       "        text-align: right;\n",
       "    }\n",
       "\n",
       "    .dataframe thead th {\n",
       "        text-align: left;\n",
       "    }\n",
       "\n",
       "    .dataframe tbody tr th {\n",
       "        vertical-align: top;\n",
       "    }\n",
       "</style>\n",
       "<table border=\"1\" class=\"dataframe\">\n",
       "  <thead>\n",
       "    <tr style=\"text-align: right;\">\n",
       "      <th></th>\n",
       "      <th>air_store_id</th>\n",
       "      <th>visit_datetime</th>\n",
       "      <th>reserve_datetime</th>\n",
       "      <th>reserve_visitors</th>\n",
       "      <th>air_genre_name</th>\n",
       "      <th>air_area_name</th>\n",
       "      <th>latitude</th>\n",
       "      <th>longitude</th>\n",
       "      <th>visit_date</th>\n",
       "      <th>calendar_date</th>\n",
       "      <th>day_of_week</th>\n",
       "      <th>holiday_flg</th>\n",
       "    </tr>\n",
       "  </thead>\n",
       "  <tbody>\n",
       "    <tr>\n",
       "      <th>0</th>\n",
       "      <td>air_877f79706adbfb06</td>\n",
       "      <td>2016-01-01 19:00:00</td>\n",
       "      <td>2016-01-01 16:00:00</td>\n",
       "      <td>1</td>\n",
       "      <td>Japanese food</td>\n",
       "      <td>Tōkyō-to Minato-ku Shibakōen</td>\n",
       "      <td>35.658068</td>\n",
       "      <td>139.751599</td>\n",
       "      <td>2016-01-01</td>\n",
       "      <td>2016-01-01</td>\n",
       "      <td>Friday</td>\n",
       "      <td>1</td>\n",
       "    </tr>\n",
       "    <tr>\n",
       "      <th>1</th>\n",
       "      <td>air_db4b38ebe7a7ceff</td>\n",
       "      <td>2016-01-01 19:00:00</td>\n",
       "      <td>2016-01-01 19:00:00</td>\n",
       "      <td>3</td>\n",
       "      <td>Dining bar</td>\n",
       "      <td>Ōsaka-fu Ōsaka-shi Shinmachi</td>\n",
       "      <td>34.676231</td>\n",
       "      <td>135.486059</td>\n",
       "      <td>2016-01-01</td>\n",
       "      <td>2016-01-01</td>\n",
       "      <td>Friday</td>\n",
       "      <td>1</td>\n",
       "    </tr>\n",
       "    <tr>\n",
       "      <th>2</th>\n",
       "      <td>air_db4b38ebe7a7ceff</td>\n",
       "      <td>2016-01-01 19:00:00</td>\n",
       "      <td>2016-01-01 19:00:00</td>\n",
       "      <td>6</td>\n",
       "      <td>Dining bar</td>\n",
       "      <td>Ōsaka-fu Ōsaka-shi Shinmachi</td>\n",
       "      <td>34.676231</td>\n",
       "      <td>135.486059</td>\n",
       "      <td>2016-01-01</td>\n",
       "      <td>2016-01-01</td>\n",
       "      <td>Friday</td>\n",
       "      <td>1</td>\n",
       "    </tr>\n",
       "    <tr>\n",
       "      <th>3</th>\n",
       "      <td>air_877f79706adbfb06</td>\n",
       "      <td>2016-01-01 20:00:00</td>\n",
       "      <td>2016-01-01 16:00:00</td>\n",
       "      <td>2</td>\n",
       "      <td>Japanese food</td>\n",
       "      <td>Tōkyō-to Minato-ku Shibakōen</td>\n",
       "      <td>35.658068</td>\n",
       "      <td>139.751599</td>\n",
       "      <td>2016-01-01</td>\n",
       "      <td>2016-01-01</td>\n",
       "      <td>Friday</td>\n",
       "      <td>1</td>\n",
       "    </tr>\n",
       "    <tr>\n",
       "      <th>4</th>\n",
       "      <td>air_db80363d35f10926</td>\n",
       "      <td>2016-01-01 20:00:00</td>\n",
       "      <td>2016-01-01 01:00:00</td>\n",
       "      <td>5</td>\n",
       "      <td>Dining bar</td>\n",
       "      <td>Hokkaidō Asahikawa-shi 6 Jōdōri</td>\n",
       "      <td>43.770635</td>\n",
       "      <td>142.364819</td>\n",
       "      <td>2016-01-01</td>\n",
       "      <td>2016-01-01</td>\n",
       "      <td>Friday</td>\n",
       "      <td>1</td>\n",
       "    </tr>\n",
       "  </tbody>\n",
       "</table>\n",
       "</div>"
      ],
      "text/plain": [
       "           air_store_id      visit_datetime    reserve_datetime  \\\n",
       "0  air_877f79706adbfb06 2016-01-01 19:00:00 2016-01-01 16:00:00   \n",
       "1  air_db4b38ebe7a7ceff 2016-01-01 19:00:00 2016-01-01 19:00:00   \n",
       "2  air_db4b38ebe7a7ceff 2016-01-01 19:00:00 2016-01-01 19:00:00   \n",
       "3  air_877f79706adbfb06 2016-01-01 20:00:00 2016-01-01 16:00:00   \n",
       "4  air_db80363d35f10926 2016-01-01 20:00:00 2016-01-01 01:00:00   \n",
       "\n",
       "   reserve_visitors air_genre_name                    air_area_name  \\\n",
       "0                 1  Japanese food     Tōkyō-to Minato-ku Shibakōen   \n",
       "1                 3     Dining bar     Ōsaka-fu Ōsaka-shi Shinmachi   \n",
       "2                 6     Dining bar     Ōsaka-fu Ōsaka-shi Shinmachi   \n",
       "3                 2  Japanese food     Tōkyō-to Minato-ku Shibakōen   \n",
       "4                 5     Dining bar  Hokkaidō Asahikawa-shi 6 Jōdōri   \n",
       "\n",
       "    latitude   longitude  visit_date calendar_date day_of_week  holiday_flg  \n",
       "0  35.658068  139.751599  2016-01-01    2016-01-01      Friday            1  \n",
       "1  34.676231  135.486059  2016-01-01    2016-01-01      Friday            1  \n",
       "2  34.676231  135.486059  2016-01-01    2016-01-01      Friday            1  \n",
       "3  35.658068  139.751599  2016-01-01    2016-01-01      Friday            1  \n",
       "4  43.770635  142.364819  2016-01-01    2016-01-01      Friday            1  "
      ]
     },
     "execution_count": 15,
     "metadata": {},
     "output_type": "execute_result"
    }
   ],
   "source": [
    "air_reserve_complete_df = air_reserve_df.join(air_store_info_df.set_index('air_store_id'), on='air_store_id')\n",
    "air_reserve_complete_df['visit_date'] = air_reserve_complete_df['visit_datetime'].dt.date\n",
    "air_reserve_complete_df = pd.merge(air_reserve_complete_df, date_info_df, how='left', left_on='visit_date', right_on='calendar_date')\n",
    "air_reserve_complete_df.head()"
   ]
  },
  {
   "cell_type": "code",
   "execution_count": 16,
   "metadata": {},
   "outputs": [
    {
     "name": "stdout",
     "output_type": "stream",
     "text": [
      "<class 'pandas.core.frame.DataFrame'>\n",
      "Int64Index: 92378 entries, 0 to 92377\n",
      "Data columns (total 12 columns):\n",
      "air_store_id        92378 non-null object\n",
      "visit_datetime      92378 non-null datetime64[ns]\n",
      "reserve_datetime    92378 non-null datetime64[ns]\n",
      "reserve_visitors    92378 non-null int64\n",
      "air_genre_name      92378 non-null object\n",
      "air_area_name       92378 non-null object\n",
      "latitude            92378 non-null float64\n",
      "longitude           92378 non-null float64\n",
      "visit_date          92378 non-null object\n",
      "calendar_date       92378 non-null object\n",
      "day_of_week         92378 non-null object\n",
      "holiday_flg         92378 non-null int64\n",
      "dtypes: datetime64[ns](2), float64(2), int64(2), object(6)\n",
      "memory usage: 9.2+ MB\n"
     ]
    }
   ],
   "source": [
    "air_reserve_complete_df.info()"
   ]
  },
  {
   "cell_type": "code",
   "execution_count": 17,
   "metadata": {},
   "outputs": [
    {
     "data": {
      "text/html": [
       "<div>\n",
       "<style>\n",
       "    .dataframe thead tr:only-child th {\n",
       "        text-align: right;\n",
       "    }\n",
       "\n",
       "    .dataframe thead th {\n",
       "        text-align: left;\n",
       "    }\n",
       "\n",
       "    .dataframe tbody tr th {\n",
       "        vertical-align: top;\n",
       "    }\n",
       "</style>\n",
       "<table border=\"1\" class=\"dataframe\">\n",
       "  <thead>\n",
       "    <tr style=\"text-align: right;\">\n",
       "      <th></th>\n",
       "      <th>reserve_visitors</th>\n",
       "      <th>latitude</th>\n",
       "      <th>longitude</th>\n",
       "      <th>holiday_flg</th>\n",
       "    </tr>\n",
       "  </thead>\n",
       "  <tbody>\n",
       "    <tr>\n",
       "      <th>count</th>\n",
       "      <td>92378.000000</td>\n",
       "      <td>92378.000000</td>\n",
       "      <td>92378.000000</td>\n",
       "      <td>92378.000000</td>\n",
       "    </tr>\n",
       "    <tr>\n",
       "      <th>mean</th>\n",
       "      <td>4.481749</td>\n",
       "      <td>36.296511</td>\n",
       "      <td>137.258264</td>\n",
       "      <td>0.066228</td>\n",
       "    </tr>\n",
       "    <tr>\n",
       "      <th>std</th>\n",
       "      <td>4.919669</td>\n",
       "      <td>2.994006</td>\n",
       "      <td>3.802518</td>\n",
       "      <td>0.248681</td>\n",
       "    </tr>\n",
       "    <tr>\n",
       "      <th>min</th>\n",
       "      <td>1.000000</td>\n",
       "      <td>33.211967</td>\n",
       "      <td>130.348436</td>\n",
       "      <td>0.000000</td>\n",
       "    </tr>\n",
       "    <tr>\n",
       "      <th>25%</th>\n",
       "      <td>2.000000</td>\n",
       "      <td>34.681261</td>\n",
       "      <td>134.841177</td>\n",
       "      <td>0.000000</td>\n",
       "    </tr>\n",
       "    <tr>\n",
       "      <th>50%</th>\n",
       "      <td>3.000000</td>\n",
       "      <td>35.641463</td>\n",
       "      <td>139.036327</td>\n",
       "      <td>0.000000</td>\n",
       "    </tr>\n",
       "    <tr>\n",
       "      <th>75%</th>\n",
       "      <td>5.000000</td>\n",
       "      <td>35.694003</td>\n",
       "      <td>139.770825</td>\n",
       "      <td>0.000000</td>\n",
       "    </tr>\n",
       "    <tr>\n",
       "      <th>max</th>\n",
       "      <td>100.000000</td>\n",
       "      <td>44.020632</td>\n",
       "      <td>144.273398</td>\n",
       "      <td>1.000000</td>\n",
       "    </tr>\n",
       "  </tbody>\n",
       "</table>\n",
       "</div>"
      ],
      "text/plain": [
       "       reserve_visitors      latitude     longitude   holiday_flg\n",
       "count      92378.000000  92378.000000  92378.000000  92378.000000\n",
       "mean           4.481749     36.296511    137.258264      0.066228\n",
       "std            4.919669      2.994006      3.802518      0.248681\n",
       "min            1.000000     33.211967    130.348436      0.000000\n",
       "25%            2.000000     34.681261    134.841177      0.000000\n",
       "50%            3.000000     35.641463    139.036327      0.000000\n",
       "75%            5.000000     35.694003    139.770825      0.000000\n",
       "max          100.000000     44.020632    144.273398      1.000000"
      ]
     },
     "execution_count": 17,
     "metadata": {},
     "output_type": "execute_result"
    }
   ],
   "source": [
    "air_reserve_complete_df.describe()"
   ]
  },
  {
   "cell_type": "code",
   "execution_count": 18,
   "metadata": {},
   "outputs": [
    {
     "data": {
      "text/html": [
       "\n",
       "    <div class=\"bk-root\">\n",
       "        <a href=\"https://bokeh.pydata.org\" target=\"_blank\" class=\"bk-logo bk-logo-small bk-logo-notebook\"></a>\n",
       "        <span id=\"05e6a66a-4c99-43a1-846d-e46c8564fa1e\">Loading BokehJS ...</span>\n",
       "    </div>"
      ]
     },
     "metadata": {},
     "output_type": "display_data"
    },
    {
     "data": {
      "application/javascript": [
       "\n",
       "(function(root) {\n",
       "  function now() {\n",
       "    return new Date();\n",
       "  }\n",
       "\n",
       "  var force = true;\n",
       "\n",
       "  if (typeof (root._bokeh_onload_callbacks) === \"undefined\" || force === true) {\n",
       "    root._bokeh_onload_callbacks = [];\n",
       "    root._bokeh_is_loading = undefined;\n",
       "  }\n",
       "\n",
       "\n",
       "  \n",
       "  if (typeof (root._bokeh_timeout) === \"undefined\" || force === true) {\n",
       "    root._bokeh_timeout = Date.now() + 5000;\n",
       "    root._bokeh_failed_load = false;\n",
       "  }\n",
       "\n",
       "  var NB_LOAD_WARNING = {'data': {'text/html':\n",
       "     \"<div style='background-color: #fdd'>\\n\"+\n",
       "     \"<p>\\n\"+\n",
       "     \"BokehJS does not appear to have successfully loaded. If loading BokehJS from CDN, this \\n\"+\n",
       "     \"may be due to a slow or bad network connection. Possible fixes:\\n\"+\n",
       "     \"</p>\\n\"+\n",
       "     \"<ul>\\n\"+\n",
       "     \"<li>re-rerun `output_notebook()` to attempt to load from CDN again, or</li>\\n\"+\n",
       "     \"<li>use INLINE resources instead, as so:</li>\\n\"+\n",
       "     \"</ul>\\n\"+\n",
       "     \"<code>\\n\"+\n",
       "     \"from bokeh.resources import INLINE\\n\"+\n",
       "     \"output_notebook(resources=INLINE)\\n\"+\n",
       "     \"</code>\\n\"+\n",
       "     \"</div>\"}};\n",
       "\n",
       "  function display_loaded() {\n",
       "    if (root.Bokeh !== undefined) {\n",
       "      var el = document.getElementById(\"05e6a66a-4c99-43a1-846d-e46c8564fa1e\");\n",
       "      if (el != null) {\n",
       "        el.textContent = \"BokehJS \" + Bokeh.version + \" successfully loaded.\";\n",
       "      }\n",
       "    } else if (Date.now() < root._bokeh_timeout) {\n",
       "      setTimeout(display_loaded, 100)\n",
       "    }\n",
       "  }\n",
       "\n",
       "\n",
       "  function run_callbacks() {\n",
       "    try {\n",
       "      root._bokeh_onload_callbacks.forEach(function(callback) { callback() });\n",
       "    }\n",
       "    finally {\n",
       "      delete root._bokeh_onload_callbacks\n",
       "    }\n",
       "    console.info(\"Bokeh: all callbacks have finished\");\n",
       "  }\n",
       "\n",
       "  function load_libs(js_urls, callback) {\n",
       "    root._bokeh_onload_callbacks.push(callback);\n",
       "    if (root._bokeh_is_loading > 0) {\n",
       "      console.log(\"Bokeh: BokehJS is being loaded, scheduling callback at\", now());\n",
       "      return null;\n",
       "    }\n",
       "    if (js_urls == null || js_urls.length === 0) {\n",
       "      run_callbacks();\n",
       "      return null;\n",
       "    }\n",
       "    console.log(\"Bokeh: BokehJS not loaded, scheduling load and callback at\", now());\n",
       "    root._bokeh_is_loading = js_urls.length;\n",
       "    for (var i = 0; i < js_urls.length; i++) {\n",
       "      var url = js_urls[i];\n",
       "      var s = document.createElement('script');\n",
       "      s.src = url;\n",
       "      s.async = false;\n",
       "      s.onreadystatechange = s.onload = function() {\n",
       "        root._bokeh_is_loading--;\n",
       "        if (root._bokeh_is_loading === 0) {\n",
       "          console.log(\"Bokeh: all BokehJS libraries loaded\");\n",
       "          run_callbacks()\n",
       "        }\n",
       "      };\n",
       "      s.onerror = function() {\n",
       "        console.warn(\"failed to load library \" + url);\n",
       "      };\n",
       "      console.log(\"Bokeh: injecting script tag for BokehJS library: \", url);\n",
       "      document.getElementsByTagName(\"head\")[0].appendChild(s);\n",
       "    }\n",
       "  };var element = document.getElementById(\"05e6a66a-4c99-43a1-846d-e46c8564fa1e\");\n",
       "  if (element == null) {\n",
       "    console.log(\"Bokeh: ERROR: autoload.js configured with elementid '05e6a66a-4c99-43a1-846d-e46c8564fa1e' but no matching script tag was found. \")\n",
       "    return false;\n",
       "  }\n",
       "\n",
       "  var js_urls = [\"https://cdn.pydata.org/bokeh/release/bokeh-0.12.7.min.js\", \"https://cdn.pydata.org/bokeh/release/bokeh-widgets-0.12.7.min.js\", \"https://cdn.pydata.org/bokeh/release/bokeh-tables-0.12.7.min.js\", \"https://cdn.pydata.org/bokeh/release/bokeh-gl-0.12.7.min.js\"];\n",
       "\n",
       "  var inline_js = [\n",
       "    function(Bokeh) {\n",
       "      Bokeh.set_log_level(\"info\");\n",
       "    },\n",
       "    \n",
       "    function(Bokeh) {\n",
       "      \n",
       "    },\n",
       "    \n",
       "    function(Bokeh) {\n",
       "      \n",
       "      document.getElementById(\"05e6a66a-4c99-43a1-846d-e46c8564fa1e\").textContent = \"BokehJS is loading...\";\n",
       "    },\n",
       "    function(Bokeh) {\n",
       "      console.log(\"Bokeh: injecting CSS: https://cdn.pydata.org/bokeh/release/bokeh-0.12.7.min.css\");\n",
       "      Bokeh.embed.inject_css(\"https://cdn.pydata.org/bokeh/release/bokeh-0.12.7.min.css\");\n",
       "      console.log(\"Bokeh: injecting CSS: https://cdn.pydata.org/bokeh/release/bokeh-widgets-0.12.7.min.css\");\n",
       "      Bokeh.embed.inject_css(\"https://cdn.pydata.org/bokeh/release/bokeh-widgets-0.12.7.min.css\");\n",
       "      console.log(\"Bokeh: injecting CSS: https://cdn.pydata.org/bokeh/release/bokeh-tables-0.12.7.min.css\");\n",
       "      Bokeh.embed.inject_css(\"https://cdn.pydata.org/bokeh/release/bokeh-tables-0.12.7.min.css\");\n",
       "    }\n",
       "  ];\n",
       "\n",
       "  function run_inline_js() {\n",
       "    \n",
       "    if ((root.Bokeh !== undefined) || (force === true)) {\n",
       "      for (var i = 0; i < inline_js.length; i++) {\n",
       "        inline_js[i].call(root, root.Bokeh);\n",
       "      }if (force === true) {\n",
       "        display_loaded();\n",
       "      }} else if (Date.now() < root._bokeh_timeout) {\n",
       "      setTimeout(run_inline_js, 100);\n",
       "    } else if (!root._bokeh_failed_load) {\n",
       "      console.log(\"Bokeh: BokehJS failed to load within specified timeout.\");\n",
       "      root._bokeh_failed_load = true;\n",
       "    } else if (force !== true) {\n",
       "      var cell = $(document.getElementById(\"05e6a66a-4c99-43a1-846d-e46c8564fa1e\")).parents('.cell').data().cell;\n",
       "      cell.output_area.append_execute_result(NB_LOAD_WARNING)\n",
       "    }\n",
       "\n",
       "  }\n",
       "\n",
       "  if (root._bokeh_is_loading === 0) {\n",
       "    console.log(\"Bokeh: BokehJS loaded, going straight to plotting\");\n",
       "    run_inline_js();\n",
       "  } else {\n",
       "    load_libs(js_urls, function() {\n",
       "      console.log(\"Bokeh: BokehJS plotting callback run at\", now());\n",
       "      run_inline_js();\n",
       "    });\n",
       "  }\n",
       "}(window));"
      ]
     },
     "metadata": {},
     "output_type": "display_data"
    }
   ],
   "source": [
    "output_notebook()"
   ]
  },
  {
   "cell_type": "code",
   "execution_count": 19,
   "metadata": {
    "collapsed": true
   },
   "outputs": [],
   "source": [
    "from bokeh.layouts import gridplot\n",
    "from bokeh.plotting import figure, show"
   ]
  },
  {
   "cell_type": "code",
   "execution_count": 20,
   "metadata": {
    "scrolled": true
   },
   "outputs": [
    {
     "name": "stderr",
     "output_type": "stream",
     "text": [
      "D:\\Users\\Luis\\Programs\\Anaconda3\\envs\\PREDICT-env\\lib\\site-packages\\ipykernel_launcher.py:16: SettingWithCopyWarning: \n",
      "A value is trying to be set on a copy of a slice from a DataFrame.\n",
      "Try using .loc[row_indexer,col_indexer] = value instead\n",
      "\n",
      "See the caveats in the documentation: http://pandas.pydata.org/pandas-docs/stable/indexing.html#indexing-view-versus-copy\n",
      "  app.launch_new_instance()\n"
     ]
    },
    {
     "data": {
      "text/html": [
       "\n",
       "\n",
       "    <div class=\"bk-root\">\n",
       "        <div class=\"bk-plotdiv\" id=\"3b4c6888-a68d-46cd-9814-c557d4f30423\"></div>\n",
       "    </div>\n",
       "<script type=\"text/javascript\">\n",
       "  \n",
       "  (function(root) {\n",
       "    function now() {\n",
       "      return new Date();\n",
       "    }\n",
       "  \n",
       "    var force = false;\n",
       "  \n",
       "    if (typeof (root._bokeh_onload_callbacks) === \"undefined\" || force === true) {\n",
       "      root._bokeh_onload_callbacks = [];\n",
       "      root._bokeh_is_loading = undefined;\n",
       "    }\n",
       "  \n",
       "  \n",
       "    \n",
       "    if (typeof (root._bokeh_timeout) === \"undefined\" || force === true) {\n",
       "      root._bokeh_timeout = Date.now() + 0;\n",
       "      root._bokeh_failed_load = false;\n",
       "    }\n",
       "  \n",
       "    var NB_LOAD_WARNING = {'data': {'text/html':\n",
       "       \"<div style='background-color: #fdd'>\\n\"+\n",
       "       \"<p>\\n\"+\n",
       "       \"BokehJS does not appear to have successfully loaded. If loading BokehJS from CDN, this \\n\"+\n",
       "       \"may be due to a slow or bad network connection. Possible fixes:\\n\"+\n",
       "       \"</p>\\n\"+\n",
       "       \"<ul>\\n\"+\n",
       "       \"<li>re-rerun `output_notebook()` to attempt to load from CDN again, or</li>\\n\"+\n",
       "       \"<li>use INLINE resources instead, as so:</li>\\n\"+\n",
       "       \"</ul>\\n\"+\n",
       "       \"<code>\\n\"+\n",
       "       \"from bokeh.resources import INLINE\\n\"+\n",
       "       \"output_notebook(resources=INLINE)\\n\"+\n",
       "       \"</code>\\n\"+\n",
       "       \"</div>\"}};\n",
       "  \n",
       "    function display_loaded() {\n",
       "      if (root.Bokeh !== undefined) {\n",
       "        var el = document.getElementById(\"3b4c6888-a68d-46cd-9814-c557d4f30423\");\n",
       "        if (el != null) {\n",
       "          el.textContent = \"BokehJS \" + Bokeh.version + \" successfully loaded.\";\n",
       "        }\n",
       "      } else if (Date.now() < root._bokeh_timeout) {\n",
       "        setTimeout(display_loaded, 100)\n",
       "      }\n",
       "    }\n",
       "  \n",
       "  \n",
       "    function run_callbacks() {\n",
       "      try {\n",
       "        root._bokeh_onload_callbacks.forEach(function(callback) { callback() });\n",
       "      }\n",
       "      finally {\n",
       "        delete root._bokeh_onload_callbacks\n",
       "      }\n",
       "      console.info(\"Bokeh: all callbacks have finished\");\n",
       "    }\n",
       "  \n",
       "    function load_libs(js_urls, callback) {\n",
       "      root._bokeh_onload_callbacks.push(callback);\n",
       "      if (root._bokeh_is_loading > 0) {\n",
       "        console.log(\"Bokeh: BokehJS is being loaded, scheduling callback at\", now());\n",
       "        return null;\n",
       "      }\n",
       "      if (js_urls == null || js_urls.length === 0) {\n",
       "        run_callbacks();\n",
       "        return null;\n",
       "      }\n",
       "      console.log(\"Bokeh: BokehJS not loaded, scheduling load and callback at\", now());\n",
       "      root._bokeh_is_loading = js_urls.length;\n",
       "      for (var i = 0; i < js_urls.length; i++) {\n",
       "        var url = js_urls[i];\n",
       "        var s = document.createElement('script');\n",
       "        s.src = url;\n",
       "        s.async = false;\n",
       "        s.onreadystatechange = s.onload = function() {\n",
       "          root._bokeh_is_loading--;\n",
       "          if (root._bokeh_is_loading === 0) {\n",
       "            console.log(\"Bokeh: all BokehJS libraries loaded\");\n",
       "            run_callbacks()\n",
       "          }\n",
       "        };\n",
       "        s.onerror = function() {\n",
       "          console.warn(\"failed to load library \" + url);\n",
       "        };\n",
       "        console.log(\"Bokeh: injecting script tag for BokehJS library: \", url);\n",
       "        document.getElementsByTagName(\"head\")[0].appendChild(s);\n",
       "      }\n",
       "    };var element = document.getElementById(\"3b4c6888-a68d-46cd-9814-c557d4f30423\");\n",
       "    if (element == null) {\n",
       "      console.log(\"Bokeh: ERROR: autoload.js configured with elementid '3b4c6888-a68d-46cd-9814-c557d4f30423' but no matching script tag was found. \")\n",
       "      return false;\n",
       "    }\n",
       "  \n",
       "    var js_urls = [];\n",
       "  \n",
       "    var inline_js = [\n",
       "      function(Bokeh) {\n",
       "        (function() {\n",
       "          var fn = function() {\n",
       "            var docs_json = {\"4b04cc3c-0a23-42ef-935e-66d1037244e2\":{\"roots\":{\"references\":[{\"attributes\":{\"source\":{\"id\":\"d6102117-f04c-4896-8edb-e53d7c3268df\",\"type\":\"ColumnDataSource\"}},\"id\":\"700a11d8-195c-4c9c-8fef-4fa37ab937fa\",\"type\":\"CDSView\"},{\"attributes\":{},\"id\":\"a9fd5095-2f78-4570-8b0d-948b11aeb7d0\",\"type\":\"BasicTickFormatter\"},{\"attributes\":{\"x0\":{\"field\":\"x0\"},\"x1\":{\"field\":\"x1\"},\"y0\":{\"field\":\"y0\"},\"y1\":{\"field\":\"y1\"}},\"id\":\"49dd27eb-95bd-4f6d-9d57-1d7b53a4f81d\",\"type\":\"Segment\"},{\"attributes\":{\"callback\":null,\"column_names\":[\"x0\",\"y0\",\"x1\",\"y1\"],\"data\":{\"x0\":[0,1],\"x1\":[0,1],\"y0\":{\"__ndarray__\":\"AAAAAAAAI0AAAAAAAAAcQA==\",\"dtype\":\"float64\",\"shape\":[2]},\"y1\":{\"__ndarray__\":\"AAAAAAAAFEAAAAAAAAAQQA==\",\"dtype\":\"float64\",\"shape\":[2]}}},\"id\":\"b6cd477f-841d-47aa-9723-8f8543b80a15\",\"type\":\"ColumnDataSource\"},{\"attributes\":{\"callback\":null,\"column_names\":[\"x\",\"y\"],\"data\":{\"x\":[0,1],\"y\":{\"__ndarray__\":\"AAAAAAAAI0AAAAAAAAAcQA==\",\"dtype\":\"float64\",\"shape\":[2]}}},\"id\":\"aa421dbd-ac45-46ff-871a-06b224154060\",\"type\":\"ColumnDataSource\"},{\"attributes\":{\"formatter\":{\"id\":\"a9fd5095-2f78-4570-8b0d-948b11aeb7d0\",\"type\":\"BasicTickFormatter\"},\"plot\":{\"id\":\"b1300ce0-6b3e-4ec7-9dcc-e104ec421f19\",\"subtype\":\"Figure\",\"type\":\"Plot\"},\"ticker\":{\"id\":\"82fc09b1-7699-4152-9a1e-c6af670fb743\",\"type\":\"BasicTicker\"}},\"id\":\"2ef86ee9-c218-4865-a995-bf3f8e283b72\",\"type\":\"LinearAxis\"},{\"attributes\":{\"data_source\":{\"id\":\"b6cd477f-841d-47aa-9723-8f8543b80a15\",\"type\":\"ColumnDataSource\"},\"glyph\":{\"id\":\"49dd27eb-95bd-4f6d-9d57-1d7b53a4f81d\",\"type\":\"Segment\"},\"hover_glyph\":null,\"muted_glyph\":null,\"nonselection_glyph\":{\"id\":\"1d437c55-bfbf-498b-b1d7-b7c606a8657a\",\"type\":\"Segment\"},\"selection_glyph\":null,\"view\":{\"id\":\"92f20e40-abad-4b96-883c-114a572cb8a2\",\"type\":\"CDSView\"}},\"id\":\"88e5ced1-dd91-4ab8-a797-911ad42d5270\",\"type\":\"GlyphRenderer\"},{\"attributes\":{},\"id\":\"d361c5b7-c211-413b-9e46-237243d378c3\",\"type\":\"BasicTicker\"},{\"attributes\":{\"line_alpha\":{\"value\":0.1},\"line_color\":{\"value\":\"#1f77b4\"},\"x0\":{\"field\":\"x0\"},\"x1\":{\"field\":\"x1\"},\"y0\":{\"field\":\"y0\"},\"y1\":{\"field\":\"y1\"}},\"id\":\"1d437c55-bfbf-498b-b1d7-b7c606a8657a\",\"type\":\"Segment\"},{\"attributes\":{},\"id\":\"2f5b584b-331f-4556-b734-36989df05593\",\"type\":\"LinearScale\"},{\"attributes\":{\"source\":{\"id\":\"b6cd477f-841d-47aa-9723-8f8543b80a15\",\"type\":\"ColumnDataSource\"}},\"id\":\"92f20e40-abad-4b96-883c-114a572cb8a2\",\"type\":\"CDSView\"},{\"attributes\":{\"callback\":null,\"column_names\":[\"x0\",\"y0\",\"x1\",\"y1\"],\"data\":{\"x0\":[0,1],\"x1\":[0,1],\"y0\":{\"__ndarray__\":\"AAAAAAAA8D8AAAAAAADwPw==\",\"dtype\":\"float64\",\"shape\":[2]},\"y1\":{\"__ndarray__\":\"AAAAAAAAAEAAAAAAAAAAQA==\",\"dtype\":\"float64\",\"shape\":[2]}}},\"id\":\"136840bc-7c25-4907-93a7-b0b06d75a5c6\",\"type\":\"ColumnDataSource\"},{\"attributes\":{},\"id\":\"d39a6b10-64b8-4548-8cf1-0e00ee7c103f\",\"type\":\"BasicTickFormatter\"},{\"attributes\":{\"background_fill_color\":{\"value\":\"#EFE8E2\"},\"below\":[{\"id\":\"19ac4045-c5d8-4b6e-99fe-ed695114382e\",\"type\":\"LinearAxis\"}],\"left\":[{\"id\":\"2ef86ee9-c218-4865-a995-bf3f8e283b72\",\"type\":\"LinearAxis\"}],\"plot_height\":250,\"plot_width\":250,\"renderers\":[{\"id\":\"19ac4045-c5d8-4b6e-99fe-ed695114382e\",\"type\":\"LinearAxis\"},{\"id\":\"54fbd271-bc9d-440e-8149-e6470e030066\",\"type\":\"Grid\"},{\"id\":\"2ef86ee9-c218-4865-a995-bf3f8e283b72\",\"type\":\"LinearAxis\"},{\"id\":\"83b15674-b986-4fd2-b40b-6237c573b9d3\",\"type\":\"Grid\"},{\"id\":\"88e5ced1-dd91-4ab8-a797-911ad42d5270\",\"type\":\"GlyphRenderer\"},{\"id\":\"0a645149-9ee7-48b8-afca-a126879f565f\",\"type\":\"GlyphRenderer\"},{\"id\":\"e69f4987-c045-4f00-9855-7ade4147a2cb\",\"type\":\"GlyphRenderer\"},{\"id\":\"fb8b7116-5989-48eb-acac-bc2eede5161f\",\"type\":\"GlyphRenderer\"},{\"id\":\"c9b90ca5-fe48-4444-ba7b-b52623b65e21\",\"type\":\"GlyphRenderer\"},{\"id\":\"88a702c9-a0c7-4498-8c0e-cf719f04a690\",\"type\":\"GlyphRenderer\"},{\"id\":\"d938978d-beec-492d-b9ae-8ed575961f59\",\"type\":\"GlyphRenderer\"}],\"title\":{\"id\":\"9f934967-6c38-442c-8aa7-8f22e307e859\",\"type\":\"Title\"},\"toolbar\":{\"id\":\"f3230112-3542-4583-9f94-04181c7a8dca\",\"type\":\"Toolbar\"},\"toolbar_location\":null,\"x_range\":{\"id\":\"cb4678d4-3fc9-449b-8f0b-3793438a4ccb\",\"type\":\"Range1d\"},\"x_scale\":{\"id\":\"f77d8b20-7d03-4637-9614-c32f2eae2176\",\"type\":\"LinearScale\"},\"y_range\":{\"id\":\"90741b34-73ce-4425-a961-6156c825aa4b\",\"type\":\"DataRange1d\"},\"y_scale\":{\"id\":\"2f5b584b-331f-4556-b734-36989df05593\",\"type\":\"LinearScale\"}},\"id\":\"b1300ce0-6b3e-4ec7-9dcc-e104ec421f19\",\"subtype\":\"Figure\",\"type\":\"Plot\"},{\"attributes\":{},\"id\":\"82fc09b1-7699-4152-9a1e-c6af670fb743\",\"type\":\"BasicTicker\"},{\"attributes\":{\"dimension\":1,\"grid_line_color\":{\"value\":\"white\"},\"grid_line_width\":{\"value\":2},\"plot\":{\"id\":\"b1300ce0-6b3e-4ec7-9dcc-e104ec421f19\",\"subtype\":\"Figure\",\"type\":\"Plot\"},\"ticker\":{\"id\":\"82fc09b1-7699-4152-9a1e-c6af670fb743\",\"type\":\"BasicTicker\"}},\"id\":\"83b15674-b986-4fd2-b40b-6237c573b9d3\",\"type\":\"Grid\"},{\"attributes\":{\"callback\":null,\"column_names\":[\"x\",\"top\",\"bottom\"],\"data\":{\"bottom\":{\"__ndarray__\":\"AAAAAAAAFEAAAAAAAAAQQA==\",\"dtype\":\"float64\",\"shape\":[2]},\"top\":{\"__ndarray__\":\"AAAAAAAACEAAAAAAAAAIQA==\",\"dtype\":\"float64\",\"shape\":[2]},\"x\":[0,1]}},\"id\":\"3de3940a-9e64-485f-a043-d9379e333865\",\"type\":\"ColumnDataSource\"},{\"attributes\":{\"x0\":{\"field\":\"x0\"},\"x1\":{\"field\":\"x1\"},\"y0\":{\"field\":\"y0\"},\"y1\":{\"field\":\"y1\"}},\"id\":\"c55ccbdf-d747-41d0-b908-58c98ef7da76\",\"type\":\"Segment\"},{\"attributes\":{\"data_source\":{\"id\":\"136840bc-7c25-4907-93a7-b0b06d75a5c6\",\"type\":\"ColumnDataSource\"},\"glyph\":{\"id\":\"c55ccbdf-d747-41d0-b908-58c98ef7da76\",\"type\":\"Segment\"},\"hover_glyph\":null,\"muted_glyph\":null,\"nonselection_glyph\":{\"id\":\"ddf08af5-e579-4520-9547-5be3826d92a8\",\"type\":\"Segment\"},\"selection_glyph\":null,\"view\":{\"id\":\"2b2b21c0-f86d-4d04-adda-0a6d880fd7d6\",\"type\":\"CDSView\"}},\"id\":\"0a645149-9ee7-48b8-afca-a126879f565f\",\"type\":\"GlyphRenderer\"},{\"attributes\":{\"line_alpha\":{\"value\":0.1},\"line_color\":{\"value\":\"#1f77b4\"},\"x0\":{\"field\":\"x0\"},\"x1\":{\"field\":\"x1\"},\"y0\":{\"field\":\"y0\"},\"y1\":{\"field\":\"y1\"}},\"id\":\"ddf08af5-e579-4520-9547-5be3826d92a8\",\"type\":\"Segment\"},{\"attributes\":{\"source\":{\"id\":\"136840bc-7c25-4907-93a7-b0b06d75a5c6\",\"type\":\"ColumnDataSource\"}},\"id\":\"2b2b21c0-f86d-4d04-adda-0a6d880fd7d6\",\"type\":\"CDSView\"},{\"attributes\":{\"bottom\":{\"field\":\"bottom\"},\"fill_alpha\":{\"value\":0.1},\"fill_color\":{\"value\":\"#1f77b4\"},\"line_alpha\":{\"value\":0.1},\"line_color\":{\"value\":\"#1f77b4\"},\"top\":{\"field\":\"top\"},\"width\":{\"value\":0.7},\"x\":{\"field\":\"x\"}},\"id\":\"ddea6170-e7fb-45b7-889b-86bc17bf490e\",\"type\":\"VBar\"},{\"attributes\":{\"callback\":null,\"column_names\":[\"x\",\"top\",\"bottom\"],\"data\":{\"bottom\":{\"__ndarray__\":\"AAAAAAAACEAAAAAAAAAIQA==\",\"dtype\":\"float64\",\"shape\":[2]},\"top\":{\"__ndarray__\":\"AAAAAAAAAEAAAAAAAAAAQA==\",\"dtype\":\"float64\",\"shape\":[2]},\"x\":[0,1]}},\"id\":\"0fed54cf-b3e1-4587-bd88-83954edb7912\",\"type\":\"ColumnDataSource\"},{\"attributes\":{\"active_drag\":\"auto\",\"active_inspect\":\"auto\",\"active_scroll\":\"auto\",\"active_tap\":\"auto\",\"tools\":[{\"id\":\"065c1ec6-d2a3-4a9c-b5b6-7eea0b999688\",\"type\":\"SaveTool\"}]},\"id\":\"f3230112-3542-4583-9f94-04181c7a8dca\",\"type\":\"Toolbar\"},{\"attributes\":{\"bottom\":{\"field\":\"bottom\"},\"fill_color\":{\"value\":\"#3B8686\"},\"top\":{\"field\":\"top\"},\"width\":{\"value\":0.7},\"x\":{\"field\":\"x\"}},\"id\":\"348e701e-964f-4da7-a103-14253d2e05dc\",\"type\":\"VBar\"},{\"attributes\":{\"source\":{\"id\":\"3de3940a-9e64-485f-a043-d9379e333865\",\"type\":\"ColumnDataSource\"}},\"id\":\"dced6e10-4338-4579-a25b-3335c769abff\",\"type\":\"CDSView\"},{\"attributes\":{\"plot\":null,\"text\":\"\"},\"id\":\"9f934967-6c38-442c-8aa7-8f22e307e859\",\"type\":\"Title\"},{\"attributes\":{\"bottom\":{\"field\":\"bottom\"},\"fill_color\":{\"value\":\"#E08E79\"},\"top\":{\"field\":\"top\"},\"width\":{\"value\":0.7},\"x\":{\"field\":\"x\"}},\"id\":\"233902a7-293c-45fe-b240-971f6582f056\",\"type\":\"VBar\"},{\"attributes\":{\"grid_line_color\":{\"value\":null},\"grid_line_width\":{\"value\":2},\"plot\":{\"id\":\"b1300ce0-6b3e-4ec7-9dcc-e104ec421f19\",\"subtype\":\"Figure\",\"type\":\"Plot\"},\"ticker\":{\"id\":\"d361c5b7-c211-413b-9e46-237243d378c3\",\"type\":\"BasicTicker\"}},\"id\":\"54fbd271-bc9d-440e-8149-e6470e030066\",\"type\":\"Grid\"},{\"attributes\":{\"data_source\":{\"id\":\"3de3940a-9e64-485f-a043-d9379e333865\",\"type\":\"ColumnDataSource\"},\"glyph\":{\"id\":\"233902a7-293c-45fe-b240-971f6582f056\",\"type\":\"VBar\"},\"hover_glyph\":null,\"muted_glyph\":null,\"nonselection_glyph\":{\"id\":\"ddea6170-e7fb-45b7-889b-86bc17bf490e\",\"type\":\"VBar\"},\"selection_glyph\":null,\"view\":{\"id\":\"dced6e10-4338-4579-a25b-3335c769abff\",\"type\":\"CDSView\"}},\"id\":\"e69f4987-c045-4f00-9855-7ade4147a2cb\",\"type\":\"GlyphRenderer\"},{\"attributes\":{\"bottom\":{\"field\":\"bottom\"},\"fill_alpha\":{\"value\":0.1},\"fill_color\":{\"value\":\"#1f77b4\"},\"line_alpha\":{\"value\":0.1},\"line_color\":{\"value\":\"#1f77b4\"},\"top\":{\"field\":\"top\"},\"width\":{\"value\":0.7},\"x\":{\"field\":\"x\"}},\"id\":\"c8e5bff9-7cde-4fd7-9e63-c3bb426565d6\",\"type\":\"VBar\"},{\"attributes\":{},\"id\":\"065c1ec6-d2a3-4a9c-b5b6-7eea0b999688\",\"type\":\"SaveTool\"},{\"attributes\":{\"callback\":null,\"column_names\":[\"x\",\"y\"],\"data\":{\"x\":[0,1],\"y\":{\"__ndarray__\":\"AAAAAAAA8D8AAAAAAADwPw==\",\"dtype\":\"float64\",\"shape\":[2]}}},\"id\":\"18ed7a12-cd3d-4a98-8865-17b4cf526fce\",\"type\":\"ColumnDataSource\"},{\"attributes\":{},\"id\":\"f77d8b20-7d03-4637-9614-c32f2eae2176\",\"type\":\"LinearScale\"},{\"attributes\":{\"callback\":null},\"id\":\"cb4678d4-3fc9-449b-8f0b-3793438a4ccb\",\"type\":\"Range1d\"},{\"attributes\":{\"source\":{\"id\":\"0fed54cf-b3e1-4587-bd88-83954edb7912\",\"type\":\"ColumnDataSource\"}},\"id\":\"b32c8a9f-9edd-47f8-a77d-e0a92ad52909\",\"type\":\"CDSView\"},{\"attributes\":{\"fill_color\":{\"value\":\"#1f77b4\"},\"height\":{\"units\":\"data\",\"value\":0.01},\"width\":{\"units\":\"data\",\"value\":0.2},\"x\":{\"field\":\"x\"},\"y\":{\"field\":\"y\"}},\"id\":\"968db131-8799-4ef6-9732-696c47f1b285\",\"type\":\"Rect\"},{\"attributes\":{\"bottom\":{\"value\":0},\"fill_color\":{\"value\":\"#036564\"},\"left\":{\"field\":\"left\"},\"line_color\":{\"value\":\"#033649\"},\"right\":{\"field\":\"right\"},\"top\":{\"field\":\"top\"}},\"id\":\"424420bd-363d-46bc-8690-3df90072e235\",\"type\":\"Quad\"},{\"attributes\":{\"data_source\":{\"id\":\"0fed54cf-b3e1-4587-bd88-83954edb7912\",\"type\":\"ColumnDataSource\"},\"glyph\":{\"id\":\"348e701e-964f-4da7-a103-14253d2e05dc\",\"type\":\"VBar\"},\"hover_glyph\":null,\"muted_glyph\":null,\"nonselection_glyph\":{\"id\":\"c8e5bff9-7cde-4fd7-9e63-c3bb426565d6\",\"type\":\"VBar\"},\"selection_glyph\":null,\"view\":{\"id\":\"b32c8a9f-9edd-47f8-a77d-e0a92ad52909\",\"type\":\"CDSView\"}},\"id\":\"fb8b7116-5989-48eb-acac-bc2eede5161f\",\"type\":\"GlyphRenderer\"},{\"attributes\":{\"fill_alpha\":{\"value\":0.6},\"fill_color\":{\"value\":\"#F38630\"},\"line_color\":{\"value\":\"#F38630\"},\"size\":{\"units\":\"screen\",\"value\":6},\"x\":{\"field\":\"x\"},\"y\":{\"field\":\"y\"}},\"id\":\"77cfa3d8-6288-4f71-82cf-121ee9d699e0\",\"type\":\"Circle\"},{\"attributes\":{},\"id\":\"a0cd5204-4eb8-4e4a-a3e5-07c5303efde7\",\"type\":\"BasicTickFormatter\"},{\"attributes\":{\"source\":{\"id\":\"aa421dbd-ac45-46ff-871a-06b224154060\",\"type\":\"ColumnDataSource\"}},\"id\":\"3c019495-67b6-4d89-bc0f-e7e2ec0baf4f\",\"type\":\"CDSView\"},{\"attributes\":{\"formatter\":{\"id\":\"d39a6b10-64b8-4548-8cf1-0e00ee7c103f\",\"type\":\"BasicTickFormatter\"},\"major_label_text_font_size\":{\"value\":\"12pt\"},\"plot\":{\"id\":\"b1300ce0-6b3e-4ec7-9dcc-e104ec421f19\",\"subtype\":\"Figure\",\"type\":\"Plot\"},\"ticker\":{\"id\":\"d361c5b7-c211-413b-9e46-237243d378c3\",\"type\":\"BasicTicker\"}},\"id\":\"19ac4045-c5d8-4b6e-99fe-ed695114382e\",\"type\":\"LinearAxis\"},{\"attributes\":{\"data_source\":{\"id\":\"aa421dbd-ac45-46ff-871a-06b224154060\",\"type\":\"ColumnDataSource\"},\"glyph\":{\"id\":\"968db131-8799-4ef6-9732-696c47f1b285\",\"type\":\"Rect\"},\"hover_glyph\":null,\"muted_glyph\":null,\"nonselection_glyph\":{\"id\":\"b1e2e562-de13-4e17-9048-7d06a682509b\",\"type\":\"Rect\"},\"selection_glyph\":null,\"view\":{\"id\":\"3c019495-67b6-4d89-bc0f-e7e2ec0baf4f\",\"type\":\"CDSView\"}},\"id\":\"88a702c9-a0c7-4498-8c0e-cf719f04a690\",\"type\":\"GlyphRenderer\"},{\"attributes\":{\"children\":[{\"id\":\"72f789f2-d637-4ac2-9410-94018aaa3b43\",\"type\":\"Row\"}]},\"id\":\"ee5d7287-35ca-4135-9882-3640bb2ad7e0\",\"type\":\"Column\"},{\"attributes\":{\"fill_alpha\":{\"value\":0.1},\"fill_color\":{\"value\":\"#1f77b4\"},\"height\":{\"units\":\"data\",\"value\":0.01},\"line_alpha\":{\"value\":0.1},\"line_color\":{\"value\":\"#1f77b4\"},\"width\":{\"units\":\"data\",\"value\":0.2},\"x\":{\"field\":\"x\"},\"y\":{\"field\":\"y\"}},\"id\":\"b1e2e562-de13-4e17-9048-7d06a682509b\",\"type\":\"Rect\"},{\"attributes\":{\"source\":{\"id\":\"9e1e7769-85bf-4a60-b883-e67d59426d19\",\"type\":\"ColumnDataSource\"}},\"id\":\"7b781546-2d84-4f02-ada1-09ab8a3bbfdb\",\"type\":\"CDSView\"},{\"attributes\":{\"fill_alpha\":{\"value\":0.1},\"fill_color\":{\"value\":\"#1f77b4\"},\"line_alpha\":{\"value\":0.1},\"line_color\":{\"value\":\"#1f77b4\"},\"size\":{\"units\":\"screen\",\"value\":6},\"x\":{\"field\":\"x\"},\"y\":{\"field\":\"y\"}},\"id\":\"568c0140-a2ca-477d-8ef9-61925a740236\",\"type\":\"Circle\"},{\"attributes\":{\"data_source\":{\"id\":\"d6102117-f04c-4896-8edb-e53d7c3268df\",\"type\":\"ColumnDataSource\"},\"glyph\":{\"id\":\"424420bd-363d-46bc-8690-3df90072e235\",\"type\":\"Quad\"},\"hover_glyph\":null,\"muted_glyph\":null,\"nonselection_glyph\":{\"id\":\"39eb4832-dc78-4aa2-98de-00f344ecc433\",\"type\":\"Quad\"},\"selection_glyph\":null,\"view\":{\"id\":\"700a11d8-195c-4c9c-8fef-4fa37ab937fa\",\"type\":\"CDSView\"}},\"id\":\"2be0ce0a-6dcd-41b2-b26a-5c24facdac17\",\"type\":\"GlyphRenderer\"},{\"attributes\":{\"background_fill_color\":{\"value\":\"#9D9D9C\"},\"below\":[{\"id\":\"928d3987-4be6-43ce-a223-e797b2bab4c6\",\"type\":\"LinearAxis\"}],\"left\":[{\"id\":\"6a6ef9a6-c2f5-4786-ad7f-918770047297\",\"type\":\"LinearAxis\"}],\"plot_height\":250,\"plot_width\":250,\"renderers\":[{\"id\":\"928d3987-4be6-43ce-a223-e797b2bab4c6\",\"type\":\"LinearAxis\"},{\"id\":\"2e4f5e58-9310-4cf8-a3b8-de8555ee26b3\",\"type\":\"Grid\"},{\"id\":\"6a6ef9a6-c2f5-4786-ad7f-918770047297\",\"type\":\"LinearAxis\"},{\"id\":\"084d37e1-06b7-4f22-b9f1-e4e108bf6b28\",\"type\":\"Grid\"},{\"id\":\"2be0ce0a-6dcd-41b2-b26a-5c24facdac17\",\"type\":\"GlyphRenderer\"}],\"title\":{\"id\":\"6cf9b863-3f64-4766-a580-8a8bd61d734a\",\"type\":\"Title\"},\"toolbar\":{\"id\":\"bd4f77e5-8d4f-4b64-a05f-2534b46df4c6\",\"type\":\"Toolbar\"},\"toolbar_location\":null,\"x_range\":{\"id\":\"8bd4e452-a854-4f25-9830-089c9fc177e7\",\"type\":\"DataRange1d\"},\"x_scale\":{\"id\":\"9a1b5c48-a677-418b-8e65-61039119c560\",\"type\":\"LinearScale\"},\"y_range\":{\"id\":\"8c136fcd-ccfc-4052-9d36-f0c74f3a3655\",\"type\":\"DataRange1d\"},\"y_scale\":{\"id\":\"61f4e8f8-b9e9-404a-9823-49cac12ec3e4\",\"type\":\"LinearScale\"}},\"id\":\"2f1a07e8-9bf4-4a78-a814-a228828c427f\",\"subtype\":\"Figure\",\"type\":\"Plot\"},{\"attributes\":{\"data_source\":{\"id\":\"9e1e7769-85bf-4a60-b883-e67d59426d19\",\"type\":\"ColumnDataSource\"},\"glyph\":{\"id\":\"77cfa3d8-6288-4f71-82cf-121ee9d699e0\",\"type\":\"Circle\"},\"hover_glyph\":null,\"muted_glyph\":null,\"nonselection_glyph\":{\"id\":\"568c0140-a2ca-477d-8ef9-61925a740236\",\"type\":\"Circle\"},\"selection_glyph\":null,\"view\":{\"id\":\"7b781546-2d84-4f02-ada1-09ab8a3bbfdb\",\"type\":\"CDSView\"}},\"id\":\"d938978d-beec-492d-b9ae-8ed575961f59\",\"type\":\"GlyphRenderer\"},{\"attributes\":{\"callback\":null},\"id\":\"90741b34-73ce-4425-a961-6156c825aa4b\",\"type\":\"DataRange1d\"},{\"attributes\":{\"callback\":null,\"column_names\":[\"left\",\"right\",\"top\"],\"data\":{\"left\":{\"__ndarray__\":\"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\",\"dtype\":\"float64\",\"shape\":[746]},\"right\":{\"__ndarray__\":\"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\",\"dtype\":\"float64\",\"shape\":[746]},\"top\":{\"__ndarray__\":\"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\",\"dtype\":\"float64\",\"shape\":[746]}}},\"id\":\"d6102117-f04c-4896-8edb-e53d7c3268df\",\"type\":\"ColumnDataSource\"},{\"attributes\":{\"children\":[{\"id\":\"2f1a07e8-9bf4-4a78-a814-a228828c427f\",\"subtype\":\"Figure\",\"type\":\"Plot\"},{\"id\":\"b1300ce0-6b3e-4ec7-9dcc-e104ec421f19\",\"subtype\":\"Figure\",\"type\":\"Plot\"}]},\"id\":\"72f789f2-d637-4ac2-9410-94018aaa3b43\",\"type\":\"Row\"},{\"attributes\":{\"plot\":null,\"text\":\"Air Reservation Visitors Distribution\"},\"id\":\"6cf9b863-3f64-4766-a580-8a8bd61d734a\",\"type\":\"Title\"},{\"attributes\":{\"callback\":null},\"id\":\"8bd4e452-a854-4f25-9830-089c9fc177e7\",\"type\":\"DataRange1d\"},{\"attributes\":{\"active_drag\":\"auto\",\"active_inspect\":\"auto\",\"active_scroll\":\"auto\",\"active_tap\":\"auto\",\"tools\":[{\"id\":\"0492d8cc-1813-4841-813f-250262b96147\",\"type\":\"SaveTool\"}]},\"id\":\"bd4f77e5-8d4f-4b64-a05f-2534b46df4c6\",\"type\":\"Toolbar\"},{\"attributes\":{},\"id\":\"9a1b5c48-a677-418b-8e65-61039119c560\",\"type\":\"LinearScale\"},{\"attributes\":{\"callback\":null},\"id\":\"8c136fcd-ccfc-4052-9d36-f0c74f3a3655\",\"type\":\"DataRange1d\"},{\"attributes\":{},\"id\":\"61f4e8f8-b9e9-404a-9823-49cac12ec3e4\",\"type\":\"LinearScale\"},{\"attributes\":{},\"id\":\"0492d8cc-1813-4841-813f-250262b96147\",\"type\":\"SaveTool\"},{\"attributes\":{\"axis_label\":\"Number of visitors\",\"formatter\":{\"id\":\"a0cd5204-4eb8-4e4a-a3e5-07c5303efde7\",\"type\":\"BasicTickFormatter\"},\"plot\":{\"id\":\"2f1a07e8-9bf4-4a78-a814-a228828c427f\",\"subtype\":\"Figure\",\"type\":\"Plot\"},\"ticker\":{\"id\":\"b48cacfd-158c-4d04-b7ae-14a3244c5b7b\",\"type\":\"BasicTicker\"}},\"id\":\"928d3987-4be6-43ce-a223-e797b2bab4c6\",\"type\":\"LinearAxis\"},{\"attributes\":{\"fill_color\":{\"value\":\"#1f77b4\"},\"height\":{\"units\":\"data\",\"value\":0.01},\"width\":{\"units\":\"data\",\"value\":0.2},\"x\":{\"field\":\"x\"},\"y\":{\"field\":\"y\"}},\"id\":\"a3c1479b-a3c8-4e99-a0f3-33db14a57c89\",\"type\":\"Rect\"},{\"attributes\":{},\"id\":\"b48cacfd-158c-4d04-b7ae-14a3244c5b7b\",\"type\":\"BasicTicker\"},{\"attributes\":{\"fill_alpha\":{\"value\":0.1},\"fill_color\":{\"value\":\"#1f77b4\"},\"height\":{\"units\":\"data\",\"value\":0.01},\"line_alpha\":{\"value\":0.1},\"line_color\":{\"value\":\"#1f77b4\"},\"width\":{\"units\":\"data\",\"value\":0.2},\"x\":{\"field\":\"x\"},\"y\":{\"field\":\"y\"}},\"id\":\"4704c760-e602-419d-b8ee-2825bc5d684e\",\"type\":\"Rect\"},{\"attributes\":{\"plot\":{\"id\":\"2f1a07e8-9bf4-4a78-a814-a228828c427f\",\"subtype\":\"Figure\",\"type\":\"Plot\"},\"ticker\":{\"id\":\"b48cacfd-158c-4d04-b7ae-14a3244c5b7b\",\"type\":\"BasicTicker\"}},\"id\":\"2e4f5e58-9310-4cf8-a3b8-de8555ee26b3\",\"type\":\"Grid\"},{\"attributes\":{\"axis_label\":\"Frequency\",\"formatter\":{\"id\":\"b164176b-469f-4083-bb6c-269d3fd483da\",\"type\":\"BasicTickFormatter\"},\"plot\":{\"id\":\"2f1a07e8-9bf4-4a78-a814-a228828c427f\",\"subtype\":\"Figure\",\"type\":\"Plot\"},\"ticker\":{\"id\":\"145a272e-e310-455f-b6a6-d5b2a87a4339\",\"type\":\"BasicTicker\"}},\"id\":\"6a6ef9a6-c2f5-4786-ad7f-918770047297\",\"type\":\"LinearAxis\"},{\"attributes\":{},\"id\":\"145a272e-e310-455f-b6a6-d5b2a87a4339\",\"type\":\"BasicTicker\"},{\"attributes\":{\"dimension\":1,\"plot\":{\"id\":\"2f1a07e8-9bf4-4a78-a814-a228828c427f\",\"subtype\":\"Figure\",\"type\":\"Plot\"},\"ticker\":{\"id\":\"145a272e-e310-455f-b6a6-d5b2a87a4339\",\"type\":\"BasicTicker\"}},\"id\":\"084d37e1-06b7-4f22-b9f1-e4e108bf6b28\",\"type\":\"Grid\"},{\"attributes\":{\"bottom\":{\"value\":0},\"fill_alpha\":{\"value\":0.1},\"fill_color\":{\"value\":\"#1f77b4\"},\"left\":{\"field\":\"left\"},\"line_alpha\":{\"value\":0.1},\"line_color\":{\"value\":\"#1f77b4\"},\"right\":{\"field\":\"right\"},\"top\":{\"field\":\"top\"}},\"id\":\"39eb4832-dc78-4aa2-98de-00f344ecc433\",\"type\":\"Quad\"},{\"attributes\":{\"callback\":null,\"column_names\":[\"x\",\"y\"],\"data\":{\"x\":[0,0,0,0,0,0,0,0,0,0,0,0,0,0,0,0,0,0,0,0,0,0,0,0,0,0,0,0,0,0,0,0,0,0,0,0,0,0,0,0,0,0,0,0,0,0,0,0,0,0,0,0,0,0,0,0,0,0,0,0,0,0,0,0,0,0,0,0,0,0,0,0,0,0,0,0,0,0,0,0,0,0,0,0,0,0,0,0,0,0,0,0,0,0,0,0,0,0,0,0,0,0,0,0,0,0,0,0,0,0,0,0,0,0,0,0,0,0,0,0,0,0,0,0,0,0,0,0,0,0,0,0,0,0,0,0,0,0,0,0,0,0,0,0,0,0,0,0,0,0,0,0,0,0,0,0,0,0,0,0,0,0,0,0,0,0,0,0,0,0,0,0,0,0,0,0,0,0,0,0,0,0,0,0,0,0,0,0,0,0,0,0,0,0,0,0,0,0,0,0,0,0,0,0,0,0,0,0,0,0,0,0,0,0,0,0,0,0,0,0,0,0,0,0,0,0,0,0,0,0,0,0,0,0,0,0,0,0,0,0,0,0,0,0,0,0,0,0,0,0,0,0,0,0,0,0,0,0,0,0,0,0,0,0,0,0,0,0,0,0,0,0,0,0,0,0,0,0,0,0,0,0,0,0,0,0,0,0,0,0,0,0,0,0,0,0,0,0,0,0,0,0,0,0,0,0,0,0,0,0,0,0,0,0,0,0,0,0,0,0,0,0,0,0,0,0,0,0,0,0,0,0,0,0,0,0,0,0,0,0,0,0,0,0,0,0,0,0,0,0,0,0,0,0,0,0,0,0,0,0,0,0,0,0,0,0,0,0,0,0,0,0,0,0,0,0,0,0,0,0,0,0,0,0,0,0,0,0,0,0,0,0,0,0,0,0,0,0,0,0,0,0,0,0,0,0,0,0,0,0,0,0,0,0,0,0,0,0,0,0,0,0,0,0,0,0,0,0,0,0,0,0,0,0,0,0,0,0,0,0,0,0,0,0,0,0,0,0,0,0,0,0,0,0,0,0,0,0,0,0,0,0,0,0,0,0,0,0,0,0,0,0,0,0,0,0,0,0,0,0,0,0,0,0,0,0,0,0,0,0,0,0,0,0,0,0,0,0,0,0,0,0,0,0,0,0,0,0,0,0,0,0,0,0,0,0,0,0,0,0,0,0,0,0,0,0,0,0,0,0,0,0,0,0,0,0,0,0,0,0,0,0,0,0,0,0,0,0,0,0,0,0,0,0,0,0,0,0,0,0,0,0,0,0,0,0,0,0,0,0,0,0,0,0,0,0,0,0,0,0,0,0,0,0,0,0,0,0,0,0,0,0,0,0,0,0,0,0,0,0,0,0,0,0,0,0,0,0,0,0,0,0,0,0,0,0,0,0,0,0,0,0,0,0,0,0,0,0,0,0,0,0,0,0,0,0,0,0,0,0,0,0,0,0,0,0,0,0,0,0,0,0,0,0,0,0,0,0,0,0,0,0,0,0,0,0,0,0,0,0,0,0,0,0,0,0,0,0,0,0,0,0,0,0,0,0,0,0,0,0,0,0,0,0,0,0,0,0,0,0,0,0,0,0,0,0,0,0,0,0,0,0,0,0,0,0,0,0,0,0,0,0,0,0,0,0,0,0,0,0,0,0,0,0,0,0,0,0,0,0,0,0,0,0,0,0,0,0,0,0,0,0,0,0,0,0,0,0,0,0,0,0,0,0,0,0,0,0,0,0,0,0,0,0,0,0,0,0,0,0,0,0,0,0,0,0,0,0,0,0,0,0,0,0,0,0,0,0,0,0,0,0,0,0,0,0,0,0,0,0,0,0,0,0,0,0,0,0,0,0,0,0,0,0,0,0,0,0,0,0,0,0,0,0,0,0,0,0,0,0,0,0,0,0,0,0,0,0,0,0,0,0,0,0,0,0,0,0,0,0,0,0,0,0,0,0,0,0,0,0,0,0,0,0,0,0,0,0,0,0,0,0,0,0,0,0,0,0,0,0,0,0,0,0,0,0,0,0,0,0,0,0,0,0,0,0,0,0,0,0,0,0,0,0,0,0,0,0,0,0,0,0,0,0,0,0,0,0,0,0,0,0,0,0,0,0,0,0,0,0,0,0,0,0,0,0,0,0,0,0,0,0,0,0,0,0,0,0,0,0,0,0,0,0,0,0,0,0,0,0,0,0,0,0,0,0,0,0,0,0,0,0,0,0,0,0,0,0,0,0,0,0,0,0,0,0,0,0,0,0,0,0,0,0,0,0,0,0,0,0,0,0,0,0,0,0,0,0,0,0,0,0,0,0,0,0,0,0,0,0,0,0,0,0,0,0,0,0,0,0,0,0,0,0,0,0,0,0,0,0,0,0,0,0,0,0,0,0,0,0,0,0,0,0,0,0,0,0,0,0,0,0,0,0,0,0,0,0,0,0,0,0,0,0,0,0,0,0,0,0,0,0,0,0,0,0,0,0,0,0,0,0,0,0,0,0,0,0,0,0,0,0,0,0,0,0,0,0,0,0,0,0,0,0,0,0,0,0,0,0,0,0,0,0,0,0,0,0,0,0,0,0,0,0,0,0,0,0,0,0,0,0,0,0,0,0,0,0,0,0,0,0,0,0,0,0,0,0,0,0,0,0,0,0,0,0,0,0,0,0,0,0,0,0,0,0,0,0,0,0,0,0,0,0,0,0,0,0,0,0,0,0,0,0,0,0,0,0,0,0,0,0,0,0,0,0,0,0,0,0,0,0,0,0,0,0,0,0,0,0,0,0,0,0,0,0,0,0,0,0,0,0,0,0,0,0,0,0,0,0,0,0,0,0,0,0,0,0,0,0,0,0,0,0,0,0,0,0,0,0,0,0,0,0,0,0,0,0,0,0,0,0,0,0,0,0,0,0,0,0,0,0,0,0,0,0,0,0,0,0,0,0,0,0,0,0,0,0,0,0,0,0,0,0,0,0,0,0,0,0,0,0,0,0,0,0,0,0,0,0,0,0,0,0,0,0,0,0,0,0,0,0,0,0,0,0,0,0,0,0,0,0,0,0,0,0,0,0,0,0,0,0,0,0,0,0,0,0,0,0,0,0,0,0,0,0,0,0,0,0,0,0,0,0,0,0,0,0,0,0,0,0,0,0,0,0,0,0,0,0,0,0,0,0,0,0,0,0,0,0,0,0,0,0,0,0,0,0,0,0,0,0,0,0,0,0,0,0,0,0,0,0,0,0,0,0,0,0,0,0,0,0,0,0,0,0,0,0,0,0,0,0,0,0,0,0,0,0,0,0,0,0,0,0,0,0,0,0,0,0,0,0,0,0,0,0,0,0,0,0,0,0,0,0,0,0,0,0,0,0,0,0,0,0,0,0,0,0,0,0,0,0,0,0,0,0,0,0,0,0,0,0,0,0,0,0,0,0,0,0,0,0,0,0,0,0,0,0,0,0,0,0,0,0,0,0,0,0,0,0,0,0,0,0,0,0,0,0,0,0,0,0,0,0,0,0,0,0,0,0,0,0,0,0,0,0,0,0,0,0,0,0,0,0,0,0,0,0,0,0,0,0,0,0,0,0,0,0,0,0,0,0,0,0,0,0,0,0,0,0,0,0,0,0,0,0,0,0,0,0,0,0,0,0,0,0,0,0,0,0,0,0,0,0,0,0,0,0,0,0,0,0,0,0,0,0,0,0,0,0,0,0,0,0,0,0,0,0,0,0,0,0,0,0,0,0,0,0,0,0,0,0,0,0,0,0,0,0,0,0,0,0,0,0,0,0,0,0,0,0,0,0,0,0,0,0,0,0,0,0,0,0,0,0,0,0,0,0,0,0,0,0,0,0,0,0,0,0,0,0,0,0,0,0,0,0,0,0,0,0,0,0,0,0,0,0,0,0,0,0,0,0,0,0,0,0,0,0,0,0,0,0,0,0,0,0,0,0,0,0,0,0,0,0,0,0,0,0,0,0,0,0,0,0,0,0,0,0,0,0,0,0,0,0,0,0,0,0,0,0,0,0,0,0,0,0,0,0,0,0,0,0,0,0,0,0,0,0,0,0,0,0,0,0,0,0,0,0,0,0,0,0,0,0,0,0,0,0,0,0,0,0,0,0,0,0,0,0,0,0,0,0,0,0,0,0,0,0,0,0,0,0,0,0,0,0,0,0,0,0,0,0,0,0,0,0,0,0,0,0,0,0,0,0,0,0,0,0,0,0,0,0,0,0,0,0,0,0,0,0,0,0,0,0,0,0,0,0,0,0,0,0,0,0,0,0,0,0,0,0,0,0,0,0,0,0,0,0,0,0,0,0,0,0,0,0,0,0,0,0,0,0,0,0,0,0,0,0,0,0,0,0,0,0,0,0,0,0,0,0,0,0,0,0,0,0,0,0,0,0,0,0,0,0,0,0,0,0,0,0,0,0,0,0,0,0,0,0,0,0,0,0,0,0,0,0,0,0,0,0,0,0,0,0,0,0,0,0,0,0,0,0,0,0,0,0,0,0,0,0,0,0,0,0,0,0,0,0,0,0,0,0,0,0,0,0,0,0,0,0,0,0,0,0,0,0,0,0,0,0,0,0,0,0,0,0,0,0,0,0,0,0,0,0,0,0,0,0,0,0,0,0,0,0,0,0,0,0,0,0,0,0,0,0,0,0,0,0,0,0,0,0,0,0,0,0,0,0,0,0,0,0,0,0,0,0,0,0,0,0,0,0,0,0,0,0,0,0,0,0,0,0,0,0,0,0,0,0,0,0,0,0,0,0,0,0,0,0,0,0,0,0,0,0,0,0,0,0,0,0,0,0,0,0,0,0,0,0,0,0,0,0,0,0,0,0,0,0,0,0,0,0,0,0,0,0,0,0,0,0,0,0,0,0,0,0,0,0,0,0,0,0,0,0,0,0,0,0,0,0,0,0,0,0,0,0,0,0,0,0,0,0,0,0,0,0,0,0,0,0,0,0,0,0,0,0,0,0,0,0,0,0,0,0,0,0,0,0,0,0,0,0,0,0,0,0,0,0,0,0,0,0,0,0,0,0,0,0,0,0,0,0,0,0,0,0,0,0,0,0,0,0,0,0,0,0,0,0,0,0,0,0,0,0,0,0,0,0,0,0,0,0,0,0,0,0,0,0,0,0,0,0,0,0,0,0,0,0,0,0,0,0,0,0,0,0,0,0,0,0,0,0,0,0,0,0,0,0,0,0,0,0,0,0,0,0,0,0,0,0,0,0,0,0,0,0,0,0,0,0,0,0,0,0,0,0,0,0,0,0,0,0,0,0,0,0,0,0,0,0,0,0,0,0,0,0,0,0,0,0,0,0,0,0,0,0,0,0,0,0,0,0,0,0,0,0,0,0,0,0,0,0,0,0,0,0,0,0,0,0,0,0,0,0,0,0,0,0,0,0,0,0,0,0,0,0,0,0,0,0,0,0,0,0,0,0,0,0,0,0,0,0,0,0,0,0,0,0,0,0,0,0,0,0,0,0,0,0,0,0,0,0,0,0,0,0,0,0,0,0,0,0,0,0,0,0,0,0,0,0,0,0,0,0,0,0,0,0,0,0,0,0,0,0,0,0,0,0,0,0,0,0,0,0,0,0,0,0,0,0,0,0,0,0,0,0,0,0,0,0,0,0,0,0,0,0,0,0,0,0,0,0,0,0,0,0,0,0,0,0,0,0,0,0,0,0,0,0,0,0,0,0,0,0,0,0,0,0,0,0,0,0,0,0,0,0,0,0,0,0,0,0,0,0,0,0,0,0,0,0,0,0,0,0,0,0,0,0,0,0,0,0,0,0,0,0,0,0,0,0,0,0,0,0,0,0,0,0,0,0,0,0,0,0,0,0,0,0,0,0,0,0,0,0,0,0,0,0,0,0,0,0,0,0,0,0,0,0,0,0,0,0,0,0,0,0,0,0,0,0,0,0,0,0,0,0,0,0,0,0,0,0,0,0,0,0,0,0,0,0,0,0,0,0,0,0,0,0,0,0,0,0,0,0,0,0,0,0,0,0,0,0,0,0,0,0,0,0,0,0,0,0,0,0,0,0,0,0,0,0,0,0,0,0,0,0,0,0,0,0,0,0,0,0,0,0,0,0,0,0,0,0,0,0,0,0,0,0,0,0,0,0,0,0,0,0,0,0,0,0,0,0,0,0,0,0,0,0,0,0,0,0,0,0,0,0,0,0,0,0,0,0,0,0,0,0,0,0,0,0,0,0,0,0,0,0,0,0,0,0,0,0,0,0,0,0,0,0,0,0,0,0,0,0,0,0,0,0,0,0,0,0,0,0,0,0,0,0,0,0,0,0,0,0,0,0,0,0,0,0,0,0,0,0,0,0,0,0,0,0,0,0,0,0,0,0,0,0,0,0,0,0,0,0,0,0,0,0,0,0,0,0,0,0,0,0,0,0,0,0,0,0,0,0,0,0,0,0,0,0,0,0,0,0,0,0,0,0,0,0,0,0,0,0,0,0,0,0,0,0,0,0,0,0,0,0,0,0,0,0,0,0,0,0,0,0,0,0,0,0,0,0,0,0,0,0,0,0,0,0,0,0,0,0,0,0,0,0,0,0,0,0,0,0,0,0,0,0,0,0,0,0,0,0,0,0,0,0,0,0,0,0,0,0,0,0,0,0,0,0,0,0,0,0,0,0,0,0,0,0,0,0,0,0,0,0,0,0,0,0,0,0,0,0,0,0,0,0,0,0,0,0,0,0,0,0,0,0,0,0,0,0,0,0,0,0,0,0,0,0,0,0,0,0,0,0,0,0,0,0,0,0,0,0,0,0,0,0,0,0,0,0,0,0,0,0,0,0,0,0,0,0,0,0,0,0,0,0,0,0,0,0,0,0,0,0,0,0,0,0,0,0,0,0,0,0,0,0,0,0,0,0,0,0,0,0,0,0,0,0,0,0,0,0,0,0,0,0,0,0,0,0,0,0,0,0,0,0,0,0,0,0,0,0,0,0,0,0,0,0,0,0,0,0,0,0,0,0,0,0,0,0,0,0,0,0,0,0,0,0,0,0,0,0,0,0,0,0,0,0,0,0,0,0,0,0,0,0,0,0,0,0,0,0,0,0,0,0,0,0,0,0,0,0,0,0,0,0,0,0,0,0,0,0,0,0,0,0,0,0,0,0,0,0,0,0,0,0,0,0,0,0,0,0,0,0,0,0,0,0,0,0,0,0,0,0,0,0,0,0,0,0,0,0,0,0,0,0,0,0,0,0,0,0,0,0,0,0,0,0,0,0,0,0,0,0,0,0,0,0,0,0,0,0,0,0,0,0,0,0,0,0,0,0,0,0,0,0,0,0,0,0,0,0,0,0,0,0,0,0,0,0,0,0,0,0,0,0,0,0,0,0,0,0,0,0,0,0,0,0,0,0,0,0,0,0,0,0,0,0,0,0,0,0,0,0,0,0,0,0,0,0,0,0,0,0,0,0,0,0,0,0,0,0,0,0,0,0,0,0,0,0,0,0,0,0,0,0,0,0,0,0,0,0,0,0,0,0,0,0,0,0,0,0,0,0,0,0,0,0,0,0,0,0,0,0,0,0,0,0,0,0,0,0,0,0,0,0,0,0,0,0,0,0,0,0,0,0,0,0,0,0,0,0,0,0,0,0,0,0,0,0,0,0,0,0,0,0,0,0,0,0,0,0,0,0,0,0,0,0,0,0,0,0,0,0,0,0,0,0,0,0,0,0,0,0,0,0,0,0,0,0,0,0,0,0,0,0,0,0,0,0,0,0,0,0,0,0,0,0,0,0,0,0,0,0,0,0,0,0,0,0,0,0,0,0,0,0,0,0,0,0,0,0,0,0,0,0,0,0,0,0,0,0,0,0,0,0,0,0,0,0,0,0,0,0,0,0,0,0,0,0,0,0,0,0,0,0,0,0,0,0,0,0,0,0,0,0,0,0,0,0,0,0,0,0,0,0,0,0,0,0,0,0,0,0,0,0,0,0,0,0,0,0,0,0,0,0,0,0,0,0,0,0,0,0,0,0,0,0,0,0,0,0,0,0,0,0,0,0,0,0,0,0,0,0,0,0,0,0,0,0,0,0,0,0,0,0,0,0,0,0,0,0,0,0,0,0,0,0,0,0,0,0,0,0,0,0,0,0,0,0,0,0,0,0,0,0,0,0,0,0,0,0,0,0,0,0,0,0,0,0,0,0,0,0,0,0,0,0,0,0,0,0,0,0,0,0,0,0,0,0,0,0,0,0,0,0,0,0,0,0,0,0,0,0,0,0,0,0,0,0,0,0,0,0,0,0,0,0,0,0,0,0,0,0,0,0,0,0,0,0,0,0,0,0,0,0,0,0,0,0,0,0,0,0,0,0,0,0,0,0,0,0,0,0,0,0,0,0,0,0,0,0,0,0,0,0,0,0,0,0,0,0,0,0,0,0,0,0,0,0,0,0,0,0,0,0,0,0,0,0,0,0,0,0,0,0,0,0,0,0,0,0,0,0,0,0,0,0,0,0,0,0,0,0,0,0,0,0,0,0,0,0,0,0,0,0,0,0,0,0,0,0,0,0,0,0,0,0,0,0,0,0,0,0,0,0,0,0,0,0,0,0,0,0,0,0,0,0,0,0,0,0,0,0,0,0,0,0,0,0,0,0,0,0,0,0,0,0,0,0,0,0,0,0,0,0,0,0,0,0,0,0,0,0,0,0,0,0,0,0,0,0,0,0,0,0,0,0,0,0,0,0,0,0,0,0,0,0,0,0,0,0,0,0,0,0,0,0,0,0,0,0,0,0,0,0,0,0,0,0,0,0,0,0,0,0,0,0,0,0,0,0,0,0,0,0,0,0,0,0,0,0,0,0,0,0,0,0,0,0,0,0,0,0,0,0,0,0,0,0,0,0,0,0,0,0,0,0,0,0,0,0,0,0,0,0,0,0,0,0,0,0,0,0,0,0,0,0,0,0,0,0,0,0,0,0,0,0,0,0,0,0,0,0,0,0,0,0,0,0,0,0,0,0,0,0,0,0,0,0,0,0,0,0,0,0,0,0,0,0,0,0,0,0,0,0,0,0,0,0,0,0,0,0,0,0,0,0,0,0,0,0,0,0,0,0,0,0,0,0,0,0,0,0,0,0,0,0,0,0,0,0,0,0,0,0,0,0,0,0,0,0,0,0,0,0,0,0,0,0,0,0,0,0,0,0,0,0,0,0,0,0,0,0,0,0,0,0,0,0,0,0,0,0,0,0,0,0,0,0,0,0,0,0,0,0,0,0,0,0,0,0,0,0,0,0,0,0,0,0,0,0,0,0,0,0,0,0,0,0,0,0,0,0,0,0,0,0,0,0,0,0,0,0,0,0,0,0,0,0,0,0,0,0,0,0,0,0,0,0,0,0,0,0,0,0,0,0,0,0,0,0,0,0,0,0,0,0,0,0,0,0,0,0,0,0,0,0,0,0,0,0,0,0,0,0,0,0,0,0,0,0,0,0,0,0,0,0,0,0,0,0,0,0,0,0,0,0,0,0,0,0,0,0,0,0,0,0,0,0,0,0,0,0,0,0,0,0,0,0,0,0,0,0,0,0,0,0,0,0,0,0,0,0,0,0,0,0,0,0,0,0,0,0,0,0,0,0,0,0,0,0,0,0,0,0,0,0,0,0,0,0,0,0,0,0,0,0,0,0,0,0,0,0,0,0,0,0,0,0,0,0,0,0,0,0,0,0,0,0,0,0,0,0,0,0,0,0,0,0,0,0,0,0,0,0,0,0,0,0,0,0,0,0,0,0,0,0,0,0,0,0,0,0,0,0,0,0,0,0,0,0,0,0,0,0,0,0,0,0,0,0,0,0,0,0,0,0,0,0,0,0,0,0,0,0,0,0,0,0,0,0,0,0,0,0,0,0,0,0,0,0,0,0,0,0,0,0,0,0,0,0,0,0,0,0,0,0,0,0,0,0,0,0,0,0,0,0,0,0,0,0,0,0,0,0,0,0,0,0,0,0,0,0,0,0,0,0,0,0,0,0,0,0,0,0,0,0,0,0,0,0,0,0,0,0,0,0,0,0,0,0,0,0,0,0,0,0,0,0,0,0,0,0,0,0,0,0,0,0,0,0,0,0,0,0,0,0,0,0,0,0,0,0,0,0,0,0,0,0,0,0,0,0,0,0,0,0,0,0,0,0,0,0,0,0,0,0,0,0,0,0,0,0,0,0,0,0,0,0,0,0,0,0,0,0,0,0,0,0,0,0,0,0,0,0,0,0,0,0,0,0,0,0,0,0,0,0,0,0,0,0,0,0,0,0,0,0,0,0,0,0,0,0,0,0,0,0,0,0,0,0,0,0,0,0,0,0,0,0,0,0,0,0,0,0,0,0,0,0,0,0,0,0,0,0,0,0,0,0,0,0,0,0,0,0,0,0,0,0,0,0,0,0,0,0,0,0,0,0,0,0,0,0,0,0,0,0,0,0,0,0,0,0,0,0,0,0,0,0,0,0,0,0,0,0,0,0,0,0,0,0,0,0,0,0,0,0,0,0,0,0,0,0,0,0,0,0,0,0,0,0,0,0,0,0,0,0,0,0,0,0,0,0,0,0,0,0,0,0,0,0,0,0,0,0,0,0,0,0,0,0,0,0,0,0,0,0,0,0,0,0,0,0,0,0,0,0,0,0,0,0,0,0,0,0,0,0,0,0,0,0,0,0,0,0,0,0,0,0,0,0,0,0,0,0,0,0,0,0,0,0,0,0,0,0,0,0,0,0,0,0,0,0,0,0,0,0,0,0,0,0,0,0,0,0,0,0,0,0,0,0,0,0,0,0,0,0,0,0,0,0,0,0,0,0,0,0,0,0,0,0,0,0,0,0,0,0,0,0,0,0,0,0,0,0,0,0,0,0,0,0,0,0,0,0,0,0,0,0,0,0,0,0,0,0,0,0,0,0,0,0,0,0,0,0,0,0,0,0,0,0,0,0,0,0,0,0,0,0,0,0,0,0,0,0,0,0,0,0,0,0,0,0,0,0,0,0,0,0,0,0,0,0,0,0,0,0,0,0,0,0,0,0,0,0,0,0,0,0,0,0,0,0,0,0,0,0,0,0,0,0,0,0,0,0,0,0,0,0,0,0,0,0,0,0,0,0,0,0,0,0,0,0,0,0,0,0,0,0,0,0,0,0,0,0,0,0,0,0,0,0,0,0,0,0,0,0,0,0,0,0,0,0,0,0,0,0,0,0,0,0,0,0,0,0,0,0,0,0,0,0,0,0,0,0,0,0,0,0,0,0,0,0,0,0,0,0,0,0,0,0,0,0,0,0,0,0,0,0,0,0,0,0,0,0,0,0,0,0,0,0,0,0,0,0,0,0,0,0,0,0,0,0,0,0,0,0,0,0,0,0,0,0,0,0,0,0,0,0,0,0,0,0,0,0,0,0,0,0,0,0,0,0,0,0,0,0,0,0,0,0,0,0,0,0,0,0,0,0,0,0,0,0,0,0,0,0,0,0,0,0,0,0,0,0,0,0,0,0,0,0,0,0,0,0,0,0,0,0,0,0,0,0,0,0,0,0,0,0,0,0,0,0,0,0,0,0,0,0,0,0,0,0,0,0,0,0,0,0,0,0,0,0,0,0,0,0,0,0,0,0,0,0,0,0,0,0,0,0,0,0,0,0,0,0,0,0,0,0,0,0,0,0,0,0,0,0,0,0,0,0,0,0,0,0,0,0,0,0,0,0,0,0,0,0,0,0,0,0,0,0,0,0,0,0,0,0,0,0,0,0,0,0,0,0,0,0,0,0,0,0,0,0,0,0,0,0,0,0,0,0,0,0,0,0,0,0,0,0,0,0,0,0,0,0,0,0,0,0,0,0,0,0,0,0,0,0,0,0,0,0,0,0,0,0,0,0,0,0,0,0,0,0,0,0,0,0,0,0,0,0,0,0,0,0,0,0,0,0,0,0,0,0,0,0,0,0,0,0,0,0,0,0,0,0,0,0,0,0,0,0,0,0,0,0,0,0,0,0,0,0,0,0,0,0,0,0,0,0,0,0,0,0,0,0,0,0,0,0,0,0,0,0,0,0,0,0,0,0,0,0,0,0,0,0,0,0,0,0,0,0,0,0,0,0,0,0,0,0,0,0,0,0,0,0,0,0,0,0,0,0,0,0,0,0,0,0,0,0,0,0,0,0,0,0,0,0,0,0,0,0,0,0,0,0,0,0,0,0,0,0,0,0,0,0,0,0,0,0,0,0,0,0,0,0,0,0,0,0,0,0,0,0,0,0,0,0,0,0,0,0,0,0,0,0,0,0,0,0,0,0,0,0,0,0,0,0,0,0,0,0,0,0,0,0,0,0,0,0,0,0,0,0,0,0,0,0,0,0,0,0,0,0,0,0,0,0,0,0,0,0,0,0,0,0,0,0,0,0,0,0,0,0,0,0,0,0,0,0,0,0,0,0,0,0,0,0,0,0,0,0,0,0,0,0,0,0,0,0,0,0,0,0,0,0,0,0,0,0,0,0,0,0,0,0,0,0,0,0,0,0,0,0,0,0,0,0,0,0,0,0,0,0,0,0,0,0,0,0,0,0,0,0,0,0,0,0,0,0,0,0,0,0,0,0,0,0,0,0,0,0,0,0,0,0,0,0,0,0,0,0,0,0,0,0,0,0,0,0,0,0,0,0,0,0,0,0,0,0,0,0,0,0,0,0,0,0,0,0,0,0,0,0,0,0,0,0,0,0,0,0,0,0,0,0,0,0,0,0,0,0,0,0,0,0,0,0,0,0,0,0,0,0,0,0,0,0,0,0,0,0,0,0,0,0,0,0,0,0,0,0,0,0,0,0,0,0,0,0,0,0,0,0,0,0,0,0,0,0,0,0,0,0,0,0,0,0,0,0,0,0,0,0,0,0,0,0,0,0,0,0,0,0,0,0,0,0,0,0,0,0,0,0,0,0,0,0,0,0,0,0,0,0,0,0,0,0,0,0,0,0,0,0,0,0,0,0,0,0,0,0,0,0,0,0,0,0,0,0,0,0,0,0,0,0,0,0,0,0,0,0,0,0,0,0,0,0,0,0,0,0,0,0,0,0,0,0,0,0,0,0,0,0,0,0,0,0,0,0,0,0,0,0,0,0,0,0,0,0,0,0,0,0,0,0,0,0,0,0,0,0,0,0,0,0,0,0,0,0,0,0,0,0,0,0,0,0,0,0,0,0,0,0,0,0,0,0,0,0,0,0,0,0,0,0,0,0,0,0,0,0,0,0,0,0,0,0,0,0,0,0,0,0,0,0,0,0,0,0,0,0,0,0,0,0,0,0,0,0,0,0,0,0,0,0,0,0,0,0,0,0,0,0,0,0,0,0,0,0,0,0,0,0,0,0,0,0,0,0,0,0,0,0,0,0,0,0,0,0,0,0,0,0,0,0,0,0,0,0,0,0,0,0,0,0,0,0,0,0,0,0,0,0,0,0,0,0,0,0,0,0,0,0,0,0,0,0,0,0,0,0,0,0,0,0,0,0,0,0,0,0,0,0,0,0,0,0,0,0,0,0,0,0,0,0,0,0,0,0,0,0,0,0,0,0,0,0,0,0,0,0,0,0,0,0,0,0,0,0,0,0,0,0,0,0,0,0,0,0,0,0,0,0,0,0,0,0,0,0,0,0,0,0,0,0,0,0,0,0,0,0,0,0,0,0,0,0,0,0,0,0,0,0,0,0,0,0,0,0,0,0,0,0,0,0,0,0,0,0,0,0,0,0,0,0,0,0,0,0,0,0,0,0,0,0,0,0,0,0,0,0,0,0,0,0,0,0,0,0,0,0,0,0,0,0,0,0,0,0,0,0,0,0,0,0,0,0,0,0,0,0,0,0,0,0,0,0,0,0,0,0,0,0,0,0,0,0,0,0,0,0,0,0,0,0,0,0,0,0,0,0,0,0,0,0,0,0,0,0,0,0,0,0,0,0,0,0,0,0,0,0,0,0,0,0,0,0,0,0,0,0,0,0,0,0,0,0,0,0,0,0,0,0,0,0,0,0,0,0,0,0,0,0,0,0,0,0,0,0,0,0,0,0,0,0,0,0,0,0,0,0,0,0,0,0,0,0,0,0,0,0,0,0,0,0,0,0,0,0,0,0,0,0,0,0,0,0,0,0,0,0,0,0,0,0,0,0,0,0,0,0,0,0,0,0,0,0,0,0,0,0,0,0,0,0,0,0,0,0,0,0,0,0,0,0,0,0,0,0,0,0,0,0,0,0,0,0,0,0,0,0,0,0,0,0,0,0,0,0,0,0,0,0,0,0,0,0,0,0,0,0,0,0,0,0,0,0,0,0,0,0,0,0,0,0,0,0,0,0,0,0,0,0,0,0,0,0,0,0,0,0,0,0,0,0,0,0,0,0,0,0,0,0,0,0,0,0,0,0,0,0,0,0,0,0,0,0,0,0,0,0,0,0,0,0,0,0,0,0,0,0,0,0,0,0,0,0,0,0,0,0,0,0,0,0,0,0,0,0,0,0,0,0,0,0,0,0,0,0,0,0,0,0,0,0,0,0,0,0,0,0,0,0,0,0,0,0,0,0,0,0,0,0,0,0,0,0,0,0,0,0,0,0,0,0,0,0,0,0,0,0,0,0,0,0,0,0,0,0,0,0,0,0,0,0,0,0,0,0,0,0,0,0,0,0,0,0,0,0,0,0,0,0,0,0,0,0,0,0,0,0,0,0,0,0,0,0,0,0,0,0,0,0,0,0,0,0,0,0,0,0,0,0,0,0,0,0,0,0,0,0,0,0,0,0,0,0,0,0,0,0,0,0,0,0,0,0,0,0,0,0,0,0,0,0,0,0,0,0,0,0,0,0,0,0,0,0,0,0,0,0,0,0,0,0,0,0,0,0,0,0,0,0,0,0,0,0,0,0,0,0,0,0,0,0,0,0,0,0,0,0,0,0,0,0,0,0,0,0,0,0,0,0,0,0,0,0,0,0,0,0,0,0,0,0,0,0,0,0,0,0,0,0,0,0,0,0,0,0,0,0,0,0,0,0,0,0,0,0,0,0,0,0,0,0,0,0,0,0,0,0,0,0,0,0,0,0,0,0,0,0,0,0,0,0,0,0,0,0,0,0,0,0,0,0,0,0,0,0,0,0,0,0,0,0,0,0,0,0,0,0,0,0,0,0,0,0,0,0,0,0,0,0,0,0,0,0,0,0,0,0,0,0,0,0,0,0,0,0,0,0,0,0,0,0,0,0,0,0,0,0,0,0,0,0,0,0,0,0,0,0,0,0,0,0,0,0,0,0,0,0,0,0,0,0,0,0,0,0,0,0,0,0,0,0,0,0,0,0,0,0,0,0,0,0,0,0,0,0,0,0,0,0,0,0,0,0,0,0,0,0,0,0,0,0,0,0,0,0,0,0,0,0,0,0,0,0,0,0,0,0,0,0,0,0,0,0,0,0,0,0,0,0,0,0,0,0,0,0,0,0,0,0,0,0,0,0,0,0,0,0,0,0,0,0,0,0,0,0,0,0,0,0,0,0,0,0,0,0,0,0,0,0,0,0,0,0,0,0,0,0,0,0,0,0,0,0,0,0,0,0,0,0,0,0,0,0,0,0,0,0,0,0,0,0,0,0,0,0,0,0,0,0,0,0,0,0,0,0,0,0,0,0,0,0,0,0,0,0,0,0,0,0,0,0,0,0,0,0,0,0,0,0,0,0,0,0,0,0,0,0,0,0,0,0,0,0,0,0,0,0,0,0,0,0,0,0,0,0,0,0,0,0,0,0,0,0,0,0,0,0,0,0,0,0,0,0,0,0,0,0,0,0,0,0,0,0,0,0,0,0,0,0,0,0,0,0,0,0,0,0,0,0,0,0,0,0,0,0,0,0,0,0,0,0,0,0,0,0,0,0,0,0,0,0,0,0,0,0,0,0,0,0,0,0,0,0,0,0,0,0,0,0,0,0,0,0,0,0,0,0,0,0,0,0,0,0,0,0,0,0,0,0,0,0,0,0,0,0,0,0,0,0,0,0,0,0,0,0,0,0,0,0,0,0,0,0,0,0,0,0,0,0,0,0,0,0,0,0,0,0,0,0,0,0,0,0,0,0,0,0,0,0,0,0,0,0,0,0,0,0,0,0,0,0,0,0,0,0,0,0,0,0,0,0,0,0,0,0,0,0,0,0,0,0,0,0,0,0,0,0,0,0,0,0,0,0,0,0,0,0,0,0,0,0,0,0,0,0,0,0,0,0,0,0,0,0,0,0,0,0,0,0,0,0,0,0,0,0,0,0,0,0,0,0,0,0,0,0,0,0,0,0,0,0,0,0,0,0,0,0,0,0,0,0,0,0,0,0,0,0,0,0,0,0,0,0,0,0,0,0,0,0,0,0,0,0,0,0,0,0,0,0,0,0,0,0,0,0,0,0,0,0,0,0,0,0,0,0,0,0,0,0,0,0,0,0,0,0,0,0,0,0,0,0,0,0,0,0,0,0,0,0,0,0,0,0,0,0,0,0,0,0,0,0,0,0,0,0,0,0,0,0,0,0,0,0,0,0,0,0,0,0,0,0,0,0,0,0,0,0,0,0,0,0,0,0,0,0,0,0,0,0,0,0,0,0,0,0,0,0,0,0,0,0,0,0,0,0,0,0,0,0,0,0,0,0,0,0,0,0,0,0,0,0,0,0,0,1,1,1,1,1,1,1,1,1,1,1,1,1,1,1,1,1,1,1,1,1,1,1,1,1,1,1,1,1,1,1,1,1,1,1,1,1,1,1,1,1,1,1,1,1,1,1,1,1,1,1,1,1,1,1,1,1,1,1,1,1,1,1,1,1,1,1,1,1,1,1,1,1,1,1,1,1,1,1,1,1,1,1,1,1,1,1,1,1,1,1,1,1,1,1,1,1,1,1,1,1,1,1,1,1,1,1,1,1,1,1,1,1,1,1,1,1,1,1,1,1,1,1,1,1,1,1,1,1,1,1,1,1,1,1,1,1,1,1,1,1,1,1,1,1,1,1,1,1,1,1,1,1,1,1,1,1,1,1,1,1,1,1,1,1,1,1,1,1,1,1,1,1,1,1,1,1,1,1,1,1,1,1,1,1,1,1,1,1,1,1,1,1,1,1,1,1,1,1,1,1,1,1,1,1,1,1,1,1,1,1,1,1,1,1,1,1,1,1,1,1,1,1,1,1,1,1,1,1,1,1,1,1,1,1,1,1,1,1,1,1,1,1,1,1,1,1,1,1,1,1,1,1,1,1,1,1,1,1,1,1,1,1,1,1,1,1,1,1,1,1,1,1,1,1,1,1,1,1,1,1,1,1,1,1,1,1,1,1,1,1,1,1,1,1,1,1,1,1,1,1,1,1,1,1,1,1,1,1,1,1,1,1,1,1,1,1,1,1,1,1,1,1,1,1,1,1,1,1,1,1,1,1,1,1,1,1,1,1,1,1,1,1,1,1,1,1,1,1,1,1,1,1,1,1,1,1,1,1,1,1,1,1,1,1,1,1,1,1,1,1,1,1,1,1,1,1,1,1,1,1,1,1,1,1,1,1,1,1,1,1,1,1,1,1,1,1,1,1,1,1,1,1,1,1,1,1,1,1,1,1,1,1,1,1,1,1,1,1,1,1,1,1,1,1,1,1,1,1,1,1,1,1,1,1,1,1,1,1,1,1,1,1,1,1,1,1,1,1,1,1,1,1,1,1,1,1,1,1,1,1,1,1,1,1,1,1,1,1,1,1,1,1,1,1,1,1,1,1,1,1,1,1,1,1,1,1,1,1,1,1,1,1,1,1,1,1,1,1,1,1,1,1,1,1,1,1,1,1,1,1,1,1,1,1,1,1,1,1,1,1,1,1,1,1,1,1,1,1,1,1,1,1,1,1,1,1,1,1,1,1,1,1,1,1,1,1,1,1,1,1,1,1,1,1,1,1,1,1,1,1,1,1,1,1,1,1,1,1,1,1,1,1,1,1,1,1,1,1,1,1,1,1,1,1,1,1,1,1,1,1,1,1,1,1,1,1,1,1,1,1,1,1],\"y\":[10,22,10,16,11,13,18,19,10,24,14,13,19,12,16,10,20,14,11,13,14,23,10,14,10,22,10,12,13,13,53,37,10,10,12,14,11,17,12,13,14,39,10,10,24,17,10,11,12,11,13,12,10,13,10,10,25,38,10,10,11,10,16,11,10,15,12,10,34,10,17,23,22,14,10,10,19,11,22,19,21,26,10,14,10,11,14,11,11,10,17,13,13,12,27,12,21,14,13,18,12,12,17,10,15,15,18,14,13,12,16,16,12,13,13,11,10,12,22,34,19,22,12,13,11,17,16,16,15,16,10,27,14,17,42,10,12,12,10,15,11,14,10,13,10,16,23,11,10,22,22,13,12,27,10,10,15,10,12,15,10,16,12,10,12,22,13,54,10,10,12,14,10,24,16,31,11,15,13,14,13,13,10,11,20,16,10,10,10,11,10,11,12,20,20,10,14,17,12,13,12,10,18,32,10,18,10,14,12,10,20,18,16,10,10,10,11,12,13,18,14,22,35,10,11,14,10,11,11,12,15,18,24,17,10,14,11,19,25,43,14,12,27,23,10,51,13,13,14,19,24,10,16,12,13,12,40,12,12,10,26,12,10,15,20,10,14,10,17,10,20,10,16,13,26,12,25,15,10,10,17,10,14,15,10,15,11,23,11,11,15,13,10,22,40,10,10,20,15,11,22,12,14,22,18,10,14,11,12,18,11,17,10,19,20,15,13,14,11,10,15,45,12,24,11,19,15,13,10,19,11,16,17,10,20,11,10,44,19,11,32,10,16,19,10,13,24,25,12,23,33,11,10,15,15,12,35,17,11,12,14,16,10,13,26,13,12,12,16,16,12,19,12,21,10,15,15,25,15,14,23,16,10,12,10,25,16,40,10,12,57,14,11,40,12,13,37,14,14,11,23,13,12,10,14,13,11,10,10,10,15,12,17,16,11,19,16,22,10,17,18,20,11,12,11,10,10,13,12,10,10,12,38,11,13,22,22,10,21,20,11,17,10,16,18,13,12,40,18,11,15,14,20,13,13,13,11,20,19,11,11,14,12,32,12,11,20,28,16,14,28,14,11,21,17,19,11,21,19,11,10,14,10,15,45,11,17,12,15,11,10,16,10,15,10,20,15,25,16,17,10,18,12,25,24,25,11,13,32,10,12,16,24,24,13,14,17,23,22,25,15,32,30,12,11,11,17,20,11,29,14,13,10,22,10,15,25,10,12,20,11,31,11,13,10,11,14,25,26,18,31,11,12,22,27,16,20,20,32,14,35,33,12,11,31,10,10,15,10,19,11,19,11,12,18,10,12,13,29,12,12,14,13,18,19,14,10,11,17,13,25,17,10,21,17,30,23,21,23,13,12,25,27,10,23,10,15,30,10,13,11,18,18,18,18,16,15,12,12,12,11,11,19,15,20,22,20,11,14,12,19,21,13,10,35,18,38,16,44,19,20,12,12,18,10,13,12,17,16,13,28,10,26,13,11,10,30,10,13,13,45,11,13,10,27,16,12,12,13,10,34,11,10,21,11,12,10,10,12,19,15,10,20,13,13,22,11,14,13,11,25,12,13,15,23,10,16,16,10,25,10,17,22,12,18,11,28,20,18,19,15,10,13,10,28,14,12,28,12,10,10,12,13,13,31,38,14,12,12,10,10,16,11,11,10,50,19,15,41,16,13,15,14,32,13,11,18,12,23,14,10,10,28,12,10,14,21,11,15,10,10,11,17,24,19,12,10,11,30,11,11,10,10,19,17,12,15,20,40,26,13,11,33,14,10,14,10,10,14,14,11,20,12,12,16,14,23,10,10,20,10,10,35,14,15,11,13,29,12,14,12,19,15,19,10,12,12,14,10,26,25,16,24,16,11,12,15,50,30,12,12,26,17,50,14,10,20,10,10,23,10,18,10,14,19,12,11,11,16,20,11,14,10,15,10,18,10,16,21,11,10,24,15,11,11,17,33,10,11,10,11,11,13,46,15,22,23,17,13,22,20,10,10,11,17,14,30,37,20,19,12,50,22,15,14,10,18,13,18,10,10,36,12,40,10,10,20,11,24,11,18,43,15,10,15,18,10,20,12,15,13,10,14,10,50,14,15,10,19,19,12,13,11,13,14,13,10,11,10,17,18,11,11,12,13,13,24,10,12,19,11,10,10,19,13,18,11,11,20,15,11,10,10,14,12,11,10,11,16,10,11,13,15,21,10,40,11,13,10,11,23,11,11,12,21,10,10,19,12,25,12,20,16,10,23,13,11,13,10,10,15,16,16,10,10,19,29,18,12,10,10,35,14,14,20,14,29,10,13,23,14,29,14,11,18,15,13,15,10,11,12,22,10,10,14,51,31,15,23,29,18,10,16,15,20,10,14,11,10,18,10,18,10,10,12,10,19,26,10,30,19,15,12,10,13,23,10,13,11,15,20,12,13,10,23,12,10,16,18,11,10,33,15,10,63,30,12,12,10,12,18,11,11,13,21,16,17,12,16,17,12,44,10,39,16,15,45,10,13,17,20,19,19,24,16,18,30,22,25,13,13,40,24,50,20,35,12,10,13,16,37,12,10,18,14,25,11,12,10,10,27,50,31,15,23,19,12,10,20,19,21,10,13,11,15,21,11,20,10,31,16,29,14,10,13,17,10,10,11,30,40,11,11,10,10,10,25,10,11,18,10,10,11,12,12,10,11,15,16,15,10,15,22,25,12,12,10,11,15,21,12,10,14,32,34,28,20,10,24,40,13,33,20,49,12,14,24,27,13,15,10,25,14,11,22,40,40,19,18,11,15,11,10,18,12,20,14,15,14,10,12,30,11,12,19,16,11,23,18,10,13,10,13,11,25,11,18,31,16,16,13,10,15,12,15,10,11,10,24,15,10,22,12,10,10,13,19,10,11,13,24,15,20,10,13,21,13,10,11,17,14,10,10,17,15,13,10,15,10,10,18,15,30,20,13,20,12,13,20,12,10,27,10,16,14,28,11,25,50,10,12,10,12,19,12,20,10,12,10,11,14,40,30,10,14,10,11,13,23,30,13,10,14,12,23,49,20,30,10,30,12,28,30,16,10,19,12,12,11,11,12,23,20,10,13,29,30,13,17,12,10,11,12,19,16,18,17,19,14,69,11,19,13,17,16,40,17,30,10,13,10,10,11,11,22,10,17,19,10,28,15,27,29,12,16,10,16,10,11,16,15,24,12,17,15,15,10,10,10,15,10,12,10,15,30,10,14,10,29,12,18,11,11,12,14,20,15,10,12,11,10,10,25,17,17,25,11,10,10,10,15,27,10,11,10,33,18,30,11,14,16,22,18,11,14,10,15,10,10,36,20,23,10,14,45,35,12,15,20,20,18,26,10,12,35,10,15,40,11,20,48,11,12,10,27,12,12,12,10,19,24,10,12,13,24,10,20,12,16,13,23,15,38,14,11,30,10,14,10,10,15,12,15,15,21,27,21,12,10,15,11,18,20,10,17,12,28,57,16,11,12,18,10,10,10,20,10,28,16,14,12,30,14,12,10,14,14,19,12,11,16,16,20,26,11,14,10,41,15,15,11,25,20,10,14,17,45,37,60,45,15,19,39,29,13,17,19,35,20,15,11,16,10,11,12,15,11,65,10,11,20,20,21,11,22,12,10,23,14,16,13,10,10,50,12,16,21,11,24,72,10,50,10,13,10,32,10,17,11,11,18,21,12,13,10,16,10,17,11,12,10,22,28,13,12,19,12,11,19,10,19,20,26,14,11,30,10,18,10,15,24,30,10,10,10,20,40,15,14,20,13,20,14,15,20,11,13,10,10,10,32,33,10,15,16,12,11,12,35,24,54,11,13,15,19,38,17,11,22,10,12,14,11,10,28,11,19,12,13,12,13,74,12,10,10,14,13,11,13,11,14,22,14,16,33,15,12,20,13,17,16,14,14,14,18,11,10,10,21,13,12,15,18,10,11,21,11,12,22,19,12,10,10,10,24,20,12,15,14,15,13,18,10,10,17,11,25,20,23,13,10,27,12,10,14,17,15,35,11,16,10,15,13,21,12,26,11,25,12,13,15,18,11,17,17,11,30,14,10,20,17,12,15,12,16,13,11,20,15,20,50,43,18,14,16,10,13,95,16,12,12,15,18,10,17,10,11,17,15,14,10,29,11,14,12,16,15,37,10,15,10,20,17,22,13,10,18,12,10,11,12,10,30,10,10,54,15,13,55,18,10,30,21,12,14,10,12,21,11,16,10,21,14,50,16,33,30,20,20,100,50,14,13,30,18,10,12,13,20,10,18,20,26,10,14,22,25,10,10,12,11,13,10,35,11,11,32,10,18,12,11,14,16,10,16,15,16,14,14,33,15,15,13,15,20,10,15,25,18,14,10,11,13,15,24,15,16,10,13,15,12,16,12,14,15,15,18,10,22,10,14,23,10,10,19,10,40,10,22,10,25,14,14,11,16,10,20,12,10,21,12,10,10,15,33,15,12,22,13,10,10,27,16,24,32,11,15,10,30,13,21,10,16,22,10,20,15,20,26,29,12,35,34,13,14,10,13,10,26,10,13,12,10,13,30,32,40,10,10,13,28,35,12,16,12,12,10,16,22,11,42,12,21,11,13,16,22,26,22,10,17,15,12,18,14,10,26,10,31,17,35,15,10,55,10,13,15,12,25,11,33,11,10,20,15,23,12,11,15,21,10,11,33,10,10,11,11,19,15,19,29,24,13,11,10,24,10,17,10,27,10,21,10,14,20,18,12,11,11,14,16,12,11,10,18,10,15,12,10,10,20,20,13,18,20,11,14,10,10,11,13,11,16,13,10,15,20,15,13,11,11,13,15,13,14,13,10,13,10,10,20,11,10,17,16,43,14,17,12,12,10,11,39,13,21,20,15,16,14,12,11,13,15,19,12,10,19,15,43,21,13,13,18,15,30,18,12,21,17,12,13,15,18,39,19,22,19,28,31,14,17,33,14,15,10,10,15,19,18,13,27,25,13,15,28,44,32,19,12,30,18,15,15,28,11,17,12,55,15,18,18,10,11,14,33,10,20,11,10,20,13,29,12,13,23,12,26,17,42,24,12,27,20,11,10,35,16,16,17,35,10,14,27,12,15,10,11,11,10,24,26,13,14,11,32,14,10,15,10,10,11,21,33,14,16,11,10,25,12,35,12,11,12,14,23,13,14,24,25,40,31,10,21,26,15,26,12,30,55,18,10,19,34,10,15,15,10,47,10,12,27,60,28,14,10,10,51,20,11,11,25,21,10,10,10,12,34,24,10,13,10,11,29,21,15,30,30,13,10,21,11,20,18,13,24,15,10,12,10,14,10,12,12,10,12,30,20,10,10,12,11,12,15,12,14,14,16,36,10,14,15,12,10,15,27,10,14,21,10,18,13,10,11,15,10,12,20,10,27,16,17,14,15,11,12,16,17,10,10,13,24,13,13,16,10,10,20,16,24,15,12,14,14,15,21,15,10,31,10,12,10,11,15,10,25,10,12,11,11,10,13,25,32,30,10,10,13,20,10,30,29,23,10,19,24,12,13,14,11,10,10,11,11,16,18,29,31,18,25,22,15,17,10,11,27,17,10,27,10,10,36,10,10,16,13,14,13,17,10,19,12,10,30,10,11,10,15,10,11,27,12,17,15,32,14,12,21,10,11,14,14,15,16,11,36,18,23,14,10,10,10,18,14,23,33,12,56,12,10,10,25,11,12,10,33,10,23,11,42,10,25,17,10,23,39,16,10,26,15,18,34,16,15,46,13,25,16,15,24,10,24,21,10,13,10,36,22,10,22,14,40,20,17,34,15,20,15,13,22,14,11,16,11,11,26,15,13,17,18,26,11,10,15,14,11,51,15,41,14,56,14,22,34,12,10,20,18,37,23,12,12,10,11,15,16,21,18,13,16,17,34,30,15,12,12,15,13,40,11,36,12,37,17,10,11,12,23,28,12,10,17,18,22,15,22,30,11,13,22,12,21,26,42,10,10,17,25,22,20,28,14,27,36,17,17,35,20,19,14,20,12,51,58,13,19,12,23,10,20,23,20,20,14,11,12,50,12,27,24,10,26,20,19,12,13,13,10,31,10,19,14,11,18,16,10,17,43,15,18,51,15,10,10,20,11,17,10,11,17,11,10,10,17,10,11,13,10,20,15,14,24,14,10,15,13,11,12,11,13,14,28,17,14,10,12,10,16,13,11,14,17,31,20,10,16,16,10,17,13,16,13,10,14,22,19,15,30,20,19,50,14,10,10,29,10,15,14,12,30,13,10,13,18,13,13,21,14,11,10,11,10,12,20,19,30,10,16,14,12,10,13,13,45,16,11,20,10,10,24,15,16,16,12,14,24,12,12,40,12,20,15,31,10,11,20,14,11,10,18,22,14,11,19,10,10,11,24,28,37,17,13,13,10,13,36,21,17,10,10,12,11,44,14,10,18,17,25,15,17,19,28,56,18,12,14,21,27,13,16,10,23,21,15,10,10,24,12,16,13,12,25,10,19,12,16,12,21,15,20,20,13,15,21,22,12,10,10,16,24,14,26,14,10,12,13,10,13,10,16,12,30,25,12,10,11,30,14,12,14,21,10,15,19,26,10,40,12,24,12,19,10,22,19,12,44,10,28,14,16,25,17,10,20,12,30,31,11,11,51,10,10,39,10,14,15,12,40,20,35,16,10,15,16,17,23,21,13,10,12,22,10,16,10,20,16,25,22,30,10,24,28,20,25,16,12,30,18,20,10,31,10,19,10,54,30,11,21,50,10,11,10,17,12,11,21,22,20,15,13,24,15,70,12,11,25,10,14,12,13,13,18,22,60,10,12,45,22,10,14,23,40,10,12,22,15,20,10,14,20,14,25,15,14,40,22,12,13,25,10,10,26,12,10,13,43,40,15,11,32,12,14,20,21,11,15,14,25,28,15,20,18,15,28,18,100,22,39,29,10,17,40,17,35,25,11,12,12,15,30,10,40,36,13,20,10,56,12,18,16,11,21,25,10,23,10,47,23,18,10,44,12,21,11,11,10,11,15,15,20,15,32,15,23,10,14,20,30,20,16,12,12,15,22,10,11,14,17,23,23,12,12,10,10,17,18,43,10,11,11,30,12,11,14,14,19,16,40,16,13,11,10,35,12,13,32,10,13,15,11,14,10,10,15,17,17,14,20,11,19,11,21,32,17,25,11,10,10,11,15,17,37,22,25,15,13,15,12,12,30,15,16,19,15,25,19,14,19,22,12,12,21,10,10,16,11,13,10,10,12,17,13,45,10,18,15,30,17,12,18,43,10,23,13,16,19,27,40,12,12,19,27,19,40,10,11,38,10,15,11,10,39,11,16,11,17,35,12,12,10,20,10,18,10,11,10,17,11,19,11,13,12,25,11,11,20,11,24,10,11,11,14,11,23,14,36,26,10,11,10,18,35,24,15,14,12,40,15,10,17,16,17,10,17,57,13,15,12,12,11,10,43,12,16,10,14,11,15,15,10,14,14,12,44,25,10,15,12,12,15,12,16,12,14,10,16,20,25,28,20,10,26,40,24,13,11,13,10,10,10,20,12,30,10,10,10,10,15,16,13,26,25,18,11,17,26,10,11,10,10,36,11,24,10,16,11,35,22,15,12,13,18,29,13,17,23,15,10,12,10,41,10,12,11,13,10,19,10,10,15,12,24,33,18,10,10,25,12,10,20,15,24,17,15,30,20,13,11,15,14,11,50,12,25,30,22,36,30,17,10,10,20,10,51,10,18,12,18,16,18,22,12,12,14,13,19,10,17,16,10,22,11,10,21,18,16,15,11,11,26,10,15,18,11,21,12,10,18,10,17,31,16,15,14,19,20,10,16,10,20,10,10,20,30,10,10,21,16,27,20,12,28,24,40,12,37,20,13,17,11,13,11,13,35,13,12,20,10,18,12,10,10,23,19,25,11,15,11,26,11,15,10,20,12,10,15,18,10,63,23,11,10,10,10,10,14,19,30,16,24,11,12,10,14,16,25,10,20,15,39,20,10,30,24,10,10,24,14,14,48,12,12,10,15,17,12,10,16,17,12,30,13,16,14,20,12,10,12,26,10,17,12,13,15,20,14,11,14,10,20,13,24,29,17,17,25,11,15,30,13,18,10,11,10,17,12,35,13,10,21,24,13,15,14,11,24,23,17,11,15,12,16,12,19,17,15,10,30,10,10,10,10,12,13,22,11,12,10,12,20,10,20,10,30,16,13,10,11,10,20,14,12,12,10,11,14,12,12,14,11,10,10,20,10,19,44,14,35,11,12,12,10,10,10,10,30,12,11,19,12,12,29,13,20,18,12,10,17,16,12,13,10,28,14,28,36,14,14,12,21,11,11,13,10,18,24,21,12,13,18,23,15,22,13,12,28,15,11,10,15,12,10,15,10,27,23,10,35,36,41,33,10,10,10,14,15,15,10,24,13,10,11,38,15,15,11,13,17,13,14,11,12,29,30,13,35,14,46,11,12,18,11,13,10,17,11,16,10,12,12,50,34,13,25,16,14,43,16,13,15,29,26,12,13,10,12,15,13,16,37,18,17,12,20,21,17,30,10,14,11,15,12,12,15,16,12,11,21,10,13,10,35,15,15,15,11,14,11,22,10,13,13,10,20,22,12,13,17,12,12,23,11,11,17,13,20,14,20,12,11,13,10,15,11,23,10,21,10,12,29,14,14,18,14,17,21,18,12,18,11,11,10,18,18,16,11,17,10,10,11,18,19,14,17,10,16,13,14,10,15,17,17,26,10,11,10,14,27,12,12,10,14,19,12,26,15,22,14,30,14,30,12,18,11,13,11,12,11,20,11,15,10,10,12,11,14,11,11,13,12,18,11,10,19,10,23,13,26,12,12,35,14,12,15,10,11,12,11,15,60,13,15,11,13,15,18,11,10,12,15,19,10,18,29,13,28,13,16,16,30,10,18,37,32,23,13,13,15,10,13,21,43,18,12,29,12,16,11,18,11,15,14,16,17,12,20,21,12,17,19,15,29,33,13,18,14,12,17,15,10,17,12,14,10,11,10,60,10,25,11,17,10,13,10,16,12,10,20,20,40,30,30,20,20,45,40,15,30,60,30,35,60,30,12,30,32,26,60,60,28,30,30,36,14,10,12,16,14,14,30,20,12,23,20,20,20,10,50,10,40,25,36,12,24,10,10,15,20,21,14,11,12,11,22,11,12,10,10,14,21,11,19,15,18,16,18,17,17,11,12,13,25,15,42,16,12,11,12,10,10,15,18,11,20,12,10,12,14,15,17,10,13,19,15,11,13,10,13,11,12,14,10,19,17,10,14,12,13,17,53,11,11,20,10,10,11,11,14,13,12,11,13,12,12,14,12,10,11,14,35,12,13,11,15,10,18,31,20,23,17,10,12,39,17,12,11,28,15,10,16,40,14,11,12,10,12,12,42,30,20,15,10,35,11,10,37,11,23,10,15,20,11,20,56,20,20,10,18,26,31,25,23,11,10,12,17,21,21,11,18,10,17,12,40,25,24,33,11,13,23,10,13,15,24,10,11,10,15,24,12,15,32,11,23,10,15,19,11,10,12,14,33,15,15,13,17,17,17,18,12,15,20,14,15,11,34,20,17,10,10,23,10,15,19,13,11,13,11,28,15,10,11,11,13,15,16,11,11,11,18,35,12,10,14,16,14,11,12,10,26,14,10,13,11,11,13,12,13,17,10,19,14,12,12,11,13,12,10,10,16,14,11,10,15,17,33,14,14,16,29,13,13,19,10,12,14,15,12,11,25,11,14,10,15,15,12,20,13,17,11,18,10,12,19,12,10,12,11,23,10,10,10,17,20,14,14,40,20,10,10,13,14,10,10,10,13,10,14,20,11,18,11,13,15,26,18,14,12,12,35,10,20,21,18,40,12,14,10,12,10,17,10,13,10,11,27,16,10,14,40,14,10,11,16,11,12,27,20,14,10,10,30,12,50,12,10,10,11,28,25,30,33,22,51,23,15,13,12,20,15,10,10,21,12,11,26,10,11,11,20,19,10,12,10,20,13,17,12,13,10,13,11,30,13,22,34,21,13,12,11,18,12,20,10,14,12,17,24,11,13,10,11,27,11,11,27,25,10,19,19,12,26,19,10,11,13,13,11,12,30,13,23,15,14,11,10,12,24,12,10,15,10,12,34,17,10,15,50,11,14,12,10,13,22,25,11,32,18,19,11,12,11,11,11,25,12,12,16,10,15,14,10,20,17,12,12,14,16,15,19,24,12,10,11,10,40,24,30,45,10,12,40,10,11,20,10,20,45,12,11,10,11,10,27,10,10,16,19,21,15,10,11,20,32,15,14,10,14,13,10,12,13,10,15,42,15,12,14,11,14,12,11,14,10,12,10,12,25,25,19,10,55,20,10,13,10,14,14,26,19,25,11,10,40,12,13,12,20,24,10,22,12,10,12,27,16,12,23,20,11,15,26,12,12,12,14,10,10,13,10,14,10,15,12,11,11,13,15,12,10,12,40,20,22,11,30,16,12,12,12,23,11,11,10,11,11,14,10,10,12,13,12,10,19,15,11,13,10,16,15,18,11,15,14,22,11,13,14,19,18,10,15,16,16,10,13,21,10,12,11,11,10,20,11,10,13,10,12,30,10,10,15,28,20,10,11,10,12,12,22,10,10,11,11,12,11,13,12,10,15,19,12,24,11,45,17,23,17,14,13,18,17,14,16,13,10,11,13,34,10,14,10,12,16,16,23,15,16,10,19,10,30,16,19,10,10,10,12,38,20,14,10,23,11,11,14,16,20,12,30,22,27,14,12,16,13,12,10,11,13,16,10,11,10,11,12,10,10,32,11,18,18,22,20,39,11,11,10,12,20,22,12,12,10,11,10,17,12,10,17,25,10,13,23,13,24,21,15,15,14,12,12,15,23,10,10,14,10,10,14,13,13,23,18,10,12,12,14,20,10,10,10,10,33,10,12,11,15,12,10,50,15,18,13,13,15,10,18,17,13,10,13,10,13,13,13,31,13,15,10,24,13,10,11,32,13,13,17,16,10,10,18,18,16,12,15,10,14,16,21,19,21,10,21,14,45,12,15,14,23,11,12,10,10,42,12,11,15,10,17,10,20,12,13,11,14,14,14,28,12,14,10,11,10,16,10,11,12,23,10,10,12,10,25,16,12,11,10,11,11,12,12,11,10,10,16,12,14,15,12,10,20,36,12,20,14,11,13,10,10,10,41,30,13,20,20,18,17,15,30,11,25,23,20,14,12,12,28,57,23,26,10,13,13,10,26,10,50,14,11,14,10,30,14,25,17,10,11,32,11,33,14,10,10,15,14,22,10,13,16,10,33,27,12,10,17,28,11,10,10,10,10,16,11,21,12,12,13,14,10,11,56,13,17,12,10,10,13,10,10,18,10,14,40,13,17,21,15,11,15,15,10,16,13,12,10,10,17,10,10,13,25,19,17,12,15,15,12,20,100,10,10,19,14,16,33,15,15,10,11,14,28,10,12,23,13,23,23,12,17,16,11,15,16,10,13,18,11,18,13,13,10,12,25,14,13,16,15,10,15,13,10,15,11,20,20,10,21,14,22,14,19,29,18,27,25,21,23,19,50,12,20,15,14,24,12,14,38,12,14,20,11,50,17,18,10,30,35,10,10,16,24,32,39,40,20,20,21,13,10,18,13,21,32,21,10,17,15,10,17,13,25,12,10,30,11,15,32,10,27,10,30,30,14,10,12,10,24,14,30,10,14,18,11,20,13,25,11,10,13,11,13,11,11,13,12,18,10,14,13,10,14,10,19,28,12,12,10,10,13,32,10,19,12,10,31,11,23,15,21,11,16,11,11,14,13,17,24,11,13,11,10,20,15,20,12,30,20,23,10,14,10,15,14,10,25,15,14,32,16,17,15,10,12,10,15,11,16,18,41,26,13,12,11,20,14,15,45,17,12,12,23,11,18,14,26,11,13,15,10,10,15,10,20,19,13,13,12,14,18,15,17,21,28,36,15,10,10,11,10,17,10,22,13,15,31,15,12,14,10,10,11,20,10,30,11,12,27,14,16,20,16,11,19,13,11,13,35,10,23,10,10,10,20,12,12,20,33,50,10,37,12,12,14,12,19,27,25,30,11,14,24,10,20,16,11,10,12,11,11,11,14,14,15,13,14,11,10,12,40,14,21,12,10,25,14,12,18,25,12,19,13,19,11,10,16,15,18,10,16,36,11,17,13,10,11,20,30,60,22,47,11,27,22,15,13,15,18,19,11,12,12,12,10,19,22,17,12,15,10,10,43,18,20,13,20,20,24,15,12,10,12,11,19,10,36,11,15,10,11,29,12,19,10,12,10,10,22,12,31,25,11,20,13,21,26,16,16,18,25,17,15,12,20,19,24,10,41,10,12,11,40,12,26,12,34,20,14,14,13,11,13,13,11,12,24,38,14,15,19,18,12,15,21,32,33,16,21,12,35,30,12,16,21,10,13,10,15,12,13,10,45,10,26,15,10,20,18,12,21,20,10,10,40,12,10,15,14,20,20,14,11,11,40,22,12,10,13,10,12,35,11,10,10,34,10,15,13,11,12,15,27,37,12,12,12,30,15,10,17,15,12,32,20,10,20,10,20,11,12,11,10,21,12,12,30,15,15,15,16,11,14,33,46,19,10,19,10,14,25,26,16,21,23,11,15,11,15,12,11,12,16,10,17,10,19,16,12,11,11,12,14,16,17,13,11,18,13,17,15,10,10,11,20,11,11,10,12,23,32,22,16,10,13,13,11,27,12,14,20,16,31,10,10,10,10,13,10,11,21,14,26,33,20,12,13,10,24,19,45,10,14,12,25,20,15,15,15,14,18,20,11,20,14,20,20,20,19,29,15,10,16,32,20,50,12,18,13,13,10,11,11,30,30,27,15,32,24,14,10,11,23,20,30,10,11,20,10,20,19,12,25,22,16,15,10,15,18,20,17,23,11,19,10,12,16,19,16,11,24,11,11,12,16,10,10,13,14,30,29,11,45,12,10,14,14,11,10,15,24,34,15,14,34,11,19,16,18,15,10,23,34,20,17,29,18,14,12,13,38,56,27,11,10,12,30,17,27,17,10,12,26,21,27,11,13,16,20,31,27,10,10,11,33,11,21,10,15,17,11,25,12,34,40,14,22,30,40,42,12,14,10,25,12,10,10,16,13,16,18,30,16,31,37,11,11,13,11,28,13,10,50,10,15,29,10,12,11,27,30,41,60,15,43,16,54,20,12,30,14,10,11,29,12,40,21,11,15,11,13,11,10,33,18,12,30,11,14,28,29,11,16,10,10,11,19,13,11,27,20,10,18,14,11,25,11,12,11,12,16,13,11,17,12,20,21,16,10,16,10,21,11,13,10,12,12,35,10,12,17,12,26,14,13,15,26,10,18,10,14,21,16,16,11,14,18,10,10,14,16,22,25,10,10,25,10,21,13,11,20,10,10,28,13,10,11,16,10,11,15,20,10,13,10,11,10,10,26,11,29,13,13,11,12,13,11,10,16,12,24,16,15,24,30,13,11,15,16,31,11,16,10,10,10,20,12,14,35,14,15,11,22,26,12,10,32,14,18,16,17,17,12,11,10,13,12,12,11,15,15,14,42,10,13,19,15,25,11,11,19,30,24,13,26,29,16,27,15,21,13,10,25,25,30,15,31,37,42,22,11,26,10,15,29,17,41,15,13,17,11,29,25,36,10,10,11,11,14,15,10,15,12,13,20,12,28,20,15,24,17,10,18,32,35,17,11,19,12,10,10,29,20,13,26,18,25,10,34,16,10,25,13,20,16,26,15,10,14,13,16,32,10,19,14,10,11,35,44,16,50,25,18,10,13,13,11,14,23,10,10,18,50,12,35,14,10,21,10,10,29,80,29,21,20,20,10,66,10,24,20,20,15,20,10,10,25,14,16,11,12,10,15,15,17,14,18,20,14,11,14,15,13,19,11,11,12,20,12,16,14,10,10,16,15,11,20,12,15,25,13,10,27,13,10,23,15,25,19,15,16,31,14,11,25,10,25,29,10,11,12,13,15,17,17,11,35,40,12,13,10,16,11,10,14,11,36,46,10,16,12,10,31,20,16,17,13,19,10,24,12,18,15,40,27,18,12,23,13,15,24,10,14,11,10,27,15,12,20,15,28,15,10,20,40,24,11,10,11,20,17,30,11,17,16,19,21,14,26,45,33,18,14,29,21,10,10,11,18,17,14,13,11,12,10,11,10,10,10,10,13,17,24,17,20,16,14,24,11,15,40,13,10,24,20,14,11,14,10,13,21,22,10,12,20,10,26,11,10,17,14,16,19,21,13,10,14,12,15,18,12,15,11,10,17,10,30,10,23,12,23,20,21,10,10,51,25,11,11,10,10,18,20,15,10,11,12,10,46,12,16,30,30,52,20,20,35,10,19,11,11,13,11,14,10,12,11,22,10,10,15,15,24,17,10,13,12,13,24,15,13,15,11,11,11,13,12,10,40,23,13,11,20,20,10,28,19,13,30,11,27,12,23,24,14,15,16,20,36,14,40,11,10,10,17,15,14,15,13,15,12,10,10,10,14,13,21,19,20,22,37,24,24,13,10,10,20,14,16,20,16,14,15,20,13,30,17,16,20,11,11,12,29,22,13,25,12,12,20,10,16,35,15,14,11,15,14,10,10,14,14,11,20,10,36,17,14,25,17,11,12,10,21,20,19,16,12,20,27,12,16,10,14,10,14,13,17,14,20,15,11,22,12,34,12,10,14,10,18,10,29,16,28,23,10,33,14,10,10,12,15,14,13,14,16,20,13,28,10,12,16,20,15,10,25,20,26,11,18,18,16,13,12,10,16,12,18,26,15,25,17,16,15,12,17,13,20,20,40,13,12,15,24,12,23,18,10,17,16,36,11,16,15,20,12,33,72,10,11,24,15,12,11,11,19,26,12,14,14,13,14,14,12,12,17,13,10,12,11,12,10,10,22,10,13,13,10,26,15,20,14,14,10,10,33,10,10,48,12,26,14,13,16,14,13,18,13,11,21,12,11,40,14,11,18,27,13,10,10,10,14,20,21,33,13,10,22,45,13,18,12,19,17,10,11,14,13,13,13,17,11,15,12,14,10,31,11,10,13,10,12,14,16,10,10,15,28,12,11,11,12,12,13,20,45,10,15,25,10,16,18,10,10,27,40,14,11,15,12,13,10,32,10,11,39,13,17,10,13,13,16,18,12,34,31,12,10,12,12,14,16,11,12,16,25,12,18,10,12,10,20,14,12,26,12,11,13,17,11,18,20,28,10,28,26,13,11,12,12,14,25,31,23,17,14,11,27,15,11,16,14,13,28,24,10,14,11,13,12,41,12,12,18,17,28,12,12,39,13,10,14,10,34,16,11,14,20,11,12,25,24,18,30,22,28,16,22,28,27,20,12,15,26,10,12,19,18,29,12,16,16,10,24,18,36,12,16,10,20,15,10,11,14,23,13,10,10,11,18,10,17,30,44,10,32,40,20,10,10,26,13,26,20,12,40,15,11,18,11,10,14,12,12,24,15,20,15,24,15,15,28,18,18,18,12,22,13,32,20,12,10,12,10,10,11,11,28,11,13,43,10,23,19,19,16,18,30,12,12,21,17,10,10,15,23,12,11,14,16,25,20,20,14,19,10,13,32,23,10,33,13,36,16,12,17,28,15,21,17,23,11,12,10,49,20,23,10,14,11,10,17,10,10,11,15,12,10,11,13,16,20,14,12,33,21,10,13,10,15,50,16,19,19,28,12,12,12,10,14,32,12,13,14,10,13,50,11,12,10,14,19,18,12,13,48,10,11,12,24,13,14,18,15,30,14,20,29,21,13,15,10,14,11,13,23,15,34,11,17,11,14,15,53,18,12,13,15,26,26,20,28,19,17,17,12,24,10,23,12,18,13,10,10,11,24,10,51,19,13,11,14,12,11,17,15,20,10,11,15,11,10,10,14,10,10,34,13,13,11,22,13,18,10,12,16,18,11,16,14,11,11,21,12,35,14,20,11,15,11,14,10,15,13,15,28,27,29,10,15,27,18,11,13,10,10,23,14,19,21,30,10,12,12,32,21,56,50,10,10,20,15,28,14,15,20,27,11,10,50,10,16,12,16,14,15,28,16,12,10,11,12,31,10,20,10,20,10,12,25,10,31,11,10,23,11,12,10,10,16,12,17,24,18,10,17,32,10,10,17,18,11,10,11,10,12,21,10,17,28,20,12,10,22,15,11,13,14,30,22,12,12,20,14,36,11,12,38,16,27,13,21,20,13,12,17,29,17,15,23,11,16,12,10,26,14,40,16,20,17,24,19,11,37,11,11,22,12,17,12,15,10,15,13,15,26,14,14,11,11,11,15,16,34,21,20,11,13,16,20,18,22,11,34,11,11,14,30,16,28,11,15,10,31,19,23,10,11,17,10,20,23,11,16,20,26,10,29,37,16,10,10,28,16,10,13,10,12,45,14,11,14,20,11,13,40,13,10,13,20,38,37,14,14,44,16,14,50,17,15,13,17,20,15,12,12,10,10,15,23,13,18,44,10,14,16,22,12,16,11,12,13,21,26,10,17,18,15,13,19,26,26,13,33,10,35,14,20,11,16,25,40,24,19,10,15,30,10,30,18,28,10,11,62,13,17,16,12,11,33,20,40,10,18,12,20,25,11,36,15,21,30,25,13,18,14,20,35,29,23,10,51,30,24,18,28,25,10,11,11,14,17,32,35,14,14,13,32,30,47,16,13,48,10,41,13,8,10,24,13,10,10,22,11,13,9,10,9,18,9,43,15,23,8,11,8,8,8,10,40,8,27,9,36,15,20,10,8,8,17,22,20,12,10,9,8,8,10,40,13,11,9,12,17,9,38,8,8,9,9,34,8,13,8,17,8,10,32,19,12,9,8,9,20,9,9,10,8,16,12,35,8,8,8,10,8,15,11,9,13,9,54,38,9,8,11,30,10,11,10,8,8,8,18,15,9,10,12,8,8,18,8,8,40,12,12,20,16,8,9,9,13,15,13,25,9,11,30,10,8,44,10,12,21,8,33,13,8,9,10,10,10,9,13,9,10,14,14,9,8,9,16,8,10,20,30,8,8,18,33,20,18,8,9,12,40,10,12,9,10,13,13,10,8,27,8,8,10,40,8,8,8,8,24,15,13,10,9,22,8,18,9,11,9,22,17,8,11,14,14,8,15,8,17,8,8,8,10,20,8,10,10,8,15,9,9,10,15,13,10,9,10,8,10,9,13,9,16,8,8,15,8,10,10,8,8,17,10,14,8,8,8,10,18,10,15,20,15,36,9,19,9,8,20,10,30,17,10,10,14,25,9,22,23,15,8,10,10,30,15,28,14,8,8,10,16,14,8,9,11,8,8,20,8,8,32,9,11,9,10,9,8,10,9,9,12,9,15,13,9,17,9,12,9,22,28,10,9,11,10,8,8,11,18,10,8,10,54,9,8,8,9,16,11,9,16,8,12,18,12,9,45,15,10,16,10,25,10,9,9,8,10,17,8,12,12,10,10,8,8,16,8,8,10,8,13,13,8,10,13,14,11,9,13,24,16,13,15,14,22,11,10,11,8,10,32,10,9,12,8,10,9,16,10,8,8,10,11,20,20,9,9,9,11,13,23,11,8,8,15,11,16,8,11,8,9,9,20,10,12,8,8,10,10,8,16,10,11,16,8,10,8,9,8,10,9,8,15,8,17,8,8,10,10,13,8,14,14,30,30,30,30,30,30,30,30,30,30,30,30,30,30,30,16,10,11,9,10,19,15,10,18,9,17,9,13,14,9,36,17,40,9,16,9,10,8,8,20,15,9,8,9,16,17,10,31,9,8,8,8,8,9,9,11,10,8,12,8,15,8,19,9,25,16,27,23,9,8,8,8,12,8,10,8,8,8,10,16,8,10,16,8,8,40,28,15,30,8,26,10,8,8,12,8,23,9,14,8,20,14,17,13,13,10,8,31,8,8,8,8,15,23,28,36,76,18,20,27,9,11,15,18,9,18,11,12,14,8,55,16,9,13,21,8,8,10,40,10,31,19,13,10,8,15,13,28,8,12,9,8,25,30,40,24,13,8,11,25,15,30,14,11,11,8,33,20,10]}},\"id\":\"9e1e7769-85bf-4a60-b883-e67d59426d19\",\"type\":\"ColumnDataSource\"},{\"attributes\":{\"source\":{\"id\":\"18ed7a12-cd3d-4a98-8865-17b4cf526fce\",\"type\":\"ColumnDataSource\"}},\"id\":\"a0ceb652-228e-488f-91c3-4fd05a36a9ae\",\"type\":\"CDSView\"},{\"attributes\":{\"data_source\":{\"id\":\"18ed7a12-cd3d-4a98-8865-17b4cf526fce\",\"type\":\"ColumnDataSource\"},\"glyph\":{\"id\":\"a3c1479b-a3c8-4e99-a0f3-33db14a57c89\",\"type\":\"Rect\"},\"hover_glyph\":null,\"muted_glyph\":null,\"nonselection_glyph\":{\"id\":\"4704c760-e602-419d-b8ee-2825bc5d684e\",\"type\":\"Rect\"},\"selection_glyph\":null,\"view\":{\"id\":\"a0ceb652-228e-488f-91c3-4fd05a36a9ae\",\"type\":\"CDSView\"}},\"id\":\"c9b90ca5-fe48-4444-ba7b-b52623b65e21\",\"type\":\"GlyphRenderer\"},{\"attributes\":{},\"id\":\"b164176b-469f-4083-bb6c-269d3fd483da\",\"type\":\"BasicTickFormatter\"}],\"root_ids\":[\"ee5d7287-35ca-4135-9882-3640bb2ad7e0\"]},\"title\":\"Bokeh Application\",\"version\":\"0.12.7\"}};\n",
       "            var render_items = [{\"docid\":\"4b04cc3c-0a23-42ef-935e-66d1037244e2\",\"elementid\":\"3b4c6888-a68d-46cd-9814-c557d4f30423\",\"modelid\":\"ee5d7287-35ca-4135-9882-3640bb2ad7e0\"}];\n",
       "            \n",
       "            Bokeh.embed.embed_items(docs_json, render_items);\n",
       "          };\n",
       "          if (document.readyState != \"loading\") fn();\n",
       "          else document.addEventListener(\"DOMContentLoaded\", fn);\n",
       "        })();\n",
       "      },\n",
       "      function(Bokeh) {\n",
       "      }\n",
       "    ];\n",
       "  \n",
       "    function run_inline_js() {\n",
       "      \n",
       "      if ((root.Bokeh !== undefined) || (force === true)) {\n",
       "        for (var i = 0; i < inline_js.length; i++) {\n",
       "          inline_js[i].call(root, root.Bokeh);\n",
       "        }if (force === true) {\n",
       "          display_loaded();\n",
       "        }} else if (Date.now() < root._bokeh_timeout) {\n",
       "        setTimeout(run_inline_js, 100);\n",
       "      } else if (!root._bokeh_failed_load) {\n",
       "        console.log(\"Bokeh: BokehJS failed to load within specified timeout.\");\n",
       "        root._bokeh_failed_load = true;\n",
       "      } else if (force !== true) {\n",
       "        var cell = $(document.getElementById(\"3b4c6888-a68d-46cd-9814-c557d4f30423\")).parents('.cell').data().cell;\n",
       "        cell.output_area.append_execute_result(NB_LOAD_WARNING)\n",
       "      }\n",
       "  \n",
       "    }\n",
       "  \n",
       "    if (root._bokeh_is_loading === 0) {\n",
       "      console.log(\"Bokeh: BokehJS loaded, going straight to plotting\");\n",
       "      run_inline_js();\n",
       "    } else {\n",
       "      load_libs(js_urls, function() {\n",
       "        console.log(\"Bokeh: BokehJS plotting callback run at\", now());\n",
       "        run_inline_js();\n",
       "      });\n",
       "    }\n",
       "  }(window));\n",
       "</script>"
      ]
     },
     "metadata": {},
     "output_type": "display_data"
    }
   ],
   "source": [
    "p1 = figure(title=\"Air Reservation Visitors Distribution\", tools=\"save\",\n",
    "            background_fill_color=\"#9D9D9C\")\n",
    "\n",
    "measured = air_reserve_complete_df['reserve_visitors']\n",
    "hist, edges = np.histogram(measured, density=True, bins='fd')\n",
    "\n",
    "p1.quad(top=hist, bottom=0, left=edges[:-1], right=edges[1:],\n",
    "        fill_color=\"#036564\", line_color=\"#033649\")\n",
    "\n",
    "p1.legend.location = \"center_right\"\n",
    "p1.legend.background_fill_color = \"darkgrey\"\n",
    "p1.xaxis.axis_label = 'Number of visitors'\n",
    "p1.yaxis.axis_label = 'Frequency'\n",
    "\n",
    "df = air_reserve_complete_df[['reserve_visitors', 'holiday_flg']]\n",
    "df['holiday_flg'] = df['holiday_flg'].astype('category')\n",
    "\n",
    "cats = [0, 1]\n",
    "\n",
    "# find the quartiles and IQR for each category\n",
    "groups = air_reserve_complete_df[['reserve_visitors', 'holiday_flg']].groupby('holiday_flg')\n",
    "q1 = groups.quantile(q=0.25)\n",
    "q2 = groups.quantile(q=0.5)\n",
    "q3 = groups.quantile(q=0.75)\n",
    "iqr = q3 - q1\n",
    "upper = q3 + 1.5*iqr\n",
    "lower = q1 - 1.5*iqr\n",
    "\n",
    "# find the outliers for each category\n",
    "def outliers(group):\n",
    "    cat = group.name\n",
    "    return group[(group.reserve_visitors > upper.loc[cat]['reserve_visitors']) | (group.reserve_visitors < lower.loc[cat]['reserve_visitors'])]['reserve_visitors']\n",
    "out = groups.apply(outliers).dropna()\n",
    "\n",
    "# prepare outlier data for plotting, we need coordinates for every outlier.\n",
    "if not out.empty:\n",
    "    outx = []\n",
    "    outy = []\n",
    "    for cat in cats:\n",
    "        # only add outliers if they exist\n",
    "        if not out.loc[cat].empty:\n",
    "            for value in out[cat]:\n",
    "                outx.append(cat)\n",
    "                outy.append(value)\n",
    "\n",
    "p2 = figure(tools=\"save\", background_fill_color=\"#EFE8E2\", title=\"\", x_range=cats)\n",
    "\n",
    "# if no outliers, shrink lengths of stems to be no longer than the minimums or maximums\n",
    "qmin = groups.quantile(q=0.00)\n",
    "qmax = groups.quantile(q=1.00)\n",
    "upper.reserve_visitors = [min([x,y]) for (x,y) in zip(list(qmax.loc[:,'reserve_visitors']),upper.reserve_visitors)]\n",
    "lower.reserve_visitors = [max([x,y]) for (x,y) in zip(list(qmin.loc[:,'reserve_visitors']),lower.reserve_visitors)]\n",
    "\n",
    "# stems\n",
    "p2.segment(cats, upper.reserve_visitors, cats, q3.reserve_visitors, line_color=\"black\")\n",
    "p2.segment(cats, lower.reserve_visitors, cats, q1.reserve_visitors, line_color=\"black\")\n",
    "\n",
    "# boxes\n",
    "p2.vbar(cats, 0.7, q2.reserve_visitors, q3.reserve_visitors, fill_color=\"#E08E79\", line_color=\"black\")\n",
    "p2.vbar(cats, 0.7, q1.reserve_visitors, q2.reserve_visitors, fill_color=\"#3B8686\", line_color=\"black\")\n",
    "\n",
    "# whiskers (almost-0 height rects simpler than segments)\n",
    "p2.rect(cats, lower.reserve_visitors, 0.2, 0.01, line_color=\"black\")\n",
    "p2.rect(cats, upper.reserve_visitors, 0.2, 0.01, line_color=\"black\")\n",
    "\n",
    "# outliers\n",
    "if not out.empty:\n",
    "    p2.circle(outx, outy, size=6, color=\"#F38630\", fill_alpha=0.6)\n",
    "\n",
    "p2.xgrid.grid_line_color = None\n",
    "p2.ygrid.grid_line_color = \"white\"\n",
    "p2.grid.grid_line_width = 2\n",
    "p2.xaxis.major_label_text_font_size=\"12pt\"\n",
    "\n",
    "show(gridplot(p1,p2, ncols=2, plot_width=250, plot_height=250, toolbar_location=None))"
   ]
  },
  {
   "cell_type": "code",
   "execution_count": 21,
   "metadata": {},
   "outputs": [
    {
     "data": {
      "image/png": "[encoded data removed]",
      "text/plain": [
       "<matplotlib.figure.Figure at 0x178cbd2e438>"
      ]
     },
     "metadata": {},
     "output_type": "display_data"
    }
   ],
   "source": [
    "%matplotlib inline\n",
    "import matplotlib.pyplot as plt\n",
    "air_reserve_complete_df.hist(bins=50, figsize=(20, 15))\n",
    "plt.show()"
   ]
  },
  {
   "cell_type": "code",
   "execution_count": 24,
   "metadata": {},
   "outputs": [
    {
     "name": "stdout",
     "output_type": "stream",
     "text": [
      "73902 train records \n",
      " 18476 test records\n"
     ]
    }
   ],
   "source": [
    "from sklearn.model_selection import train_test_split\n",
    "\n",
    "# 80/20 train & test split\n",
    "air_reservations_indexed = air_reserve_complete_df.reset_index()\n",
    "train_set, test_set = train_test_split(air_reservations_indexed, test_size=0.2, random_state=123)\n",
    "print(len(train_set), \"train records \\n\", len(test_set), \"test records\")"
   ]
  },
  {
   "cell_type": "code",
   "execution_count": 28,
   "metadata": {},
   "outputs": [
    {
     "data": {
      "text/plain": [
       "<matplotlib.legend.Legend at 0x178cdf19e80>"
      ]
     },
     "execution_count": 28,
     "metadata": {},
     "output_type": "execute_result"
    },
    {
     "data": {
      "image/png": "[encoded data removed]",
      "text/plain": [
       "<matplotlib.figure.Figure at 0x178cdf1fef0>"
      ]
     },
     "metadata": {},
     "output_type": "display_data"
    }
   ],
   "source": [
    "air_reservations_indexed.plot(kind=\"scatter\", x=\"longitude\", y=\"latitude\", \n",
    "                              alpha=0.4, s=air_reservations_indexed[\"reserve_visitors\"], \n",
    "                              label=\"# of visitors\", c=air_reservations_indexed[\"reserve_visitors\"], \n",
    "                              cmap=plt.get_cmap(\"jet\"), colorbar=True)\n",
    "plt.legend()"
   ]
  },
  {
   "cell_type": "code",
   "execution_count": 36,
   "metadata": {},
   "outputs": [],
   "source": [
    "ts = pd.DataFrame(air_reservations_indexed['reserve_visitors'])\n",
    "ts = ts.set_index(air_reservations_indexed['visit_datetime'])"
   ]
  },
  {
   "cell_type": "code",
   "execution_count": 37,
   "metadata": {},
   "outputs": [
    {
     "data": {
      "text/html": [
       "<div>\n",
       "<style>\n",
       "    .dataframe thead tr:only-child th {\n",
       "        text-align: right;\n",
       "    }\n",
       "\n",
       "    .dataframe thead th {\n",
       "        text-align: left;\n",
       "    }\n",
       "\n",
       "    .dataframe tbody tr th {\n",
       "        vertical-align: top;\n",
       "    }\n",
       "</style>\n",
       "<table border=\"1\" class=\"dataframe\">\n",
       "  <thead>\n",
       "    <tr style=\"text-align: right;\">\n",
       "      <th></th>\n",
       "      <th>reserve_visitors</th>\n",
       "    </tr>\n",
       "    <tr>\n",
       "      <th>visit_datetime</th>\n",
       "      <th></th>\n",
       "    </tr>\n",
       "  </thead>\n",
       "  <tbody>\n",
       "    <tr>\n",
       "      <th>2016-01-01 19:00:00</th>\n",
       "      <td>1</td>\n",
       "    </tr>\n",
       "    <tr>\n",
       "      <th>2016-01-01 19:00:00</th>\n",
       "      <td>3</td>\n",
       "    </tr>\n",
       "    <tr>\n",
       "      <th>2016-01-01 19:00:00</th>\n",
       "      <td>6</td>\n",
       "    </tr>\n",
       "    <tr>\n",
       "      <th>2016-01-01 20:00:00</th>\n",
       "      <td>2</td>\n",
       "    </tr>\n",
       "    <tr>\n",
       "      <th>2016-01-01 20:00:00</th>\n",
       "      <td>5</td>\n",
       "    </tr>\n",
       "  </tbody>\n",
       "</table>\n",
       "</div>"
      ],
      "text/plain": [
       "                     reserve_visitors\n",
       "visit_datetime                       \n",
       "2016-01-01 19:00:00                 1\n",
       "2016-01-01 19:00:00                 3\n",
       "2016-01-01 19:00:00                 6\n",
       "2016-01-01 20:00:00                 2\n",
       "2016-01-01 20:00:00                 5"
      ]
     },
     "execution_count": 37,
     "metadata": {},
     "output_type": "execute_result"
    }
   ],
   "source": [
    "\n",
    "ts.head()"
   ]
  },
  {
   "cell_type": "code",
   "execution_count": 54,
   "metadata": {},
   "outputs": [
    {
     "name": "stderr",
     "output_type": "stream",
     "text": [
      "IOPub data rate exceeded.\n",
      "The notebook server will temporarily stop sending output\n",
      "to the client in order to avoid crashing it.\n",
      "To change this limit, set the config variable\n",
      "`--NotebookApp.iopub_data_rate_limit`.\n"
     ]
    }
   ],
   "source": [
    "ts_dates = air_reservations_indexed['visit_datetime'].as_matrix()\n",
    "\n",
    "window_size = 30\n",
    "window = np.ones(window_size)/float(window_size)\n",
    "ts_avg = np.convolve(air_reservations_indexed['reserve_visitors'].as_matrix(), window, 'same')\n",
    "\n",
    "# create a new plot with a a datetime axis type\n",
    "p = figure(width=800, height=350, x_axis_type=\"datetime\")\n",
    "\n",
    "# add renderers\n",
    "p.circle(ts_dates, air_reservations_indexed['reserve_visitors'].as_matrix(), \n",
    "         size=4, color='darkgrey', alpha=0.2, legend='close')\n",
    "p.line(ts_dates, ts_avg, color='navy', legend='avg')\n",
    "\n",
    "# NEW: customize by setting attributes\n",
    "p.title.text = \"Visitors 1 Month Average\"\n",
    "p.legend.location = \"top_left\"\n",
    "p.grid.grid_line_alpha=0\n",
    "p.xaxis.axis_label = 'Date'\n",
    "p.yaxis.axis_label = 'Visitors'\n",
    "p.ygrid.band_fill_color=\"olive\"\n",
    "p.ygrid.band_fill_alpha = 0.1\n",
    "\n",
    "# show the results\n",
    "show(p)"
   ]
  },
  {
   "cell_type": "code",
   "execution_count": 46,
   "metadata": {},
   "outputs": [
    {
     "name": "stderr",
     "output_type": "stream",
     "text": [
      "D:\\Users\\Luis\\Programs\\Anaconda3\\envs\\PREDICT-env\\lib\\site-packages\\statsmodels\\compat\\pandas.py:56: FutureWarning: The pandas.core.datetools module is deprecated and will be removed in a future version. Please use the pandas.tseries module instead.\n",
      "  from pandas.core import datetools\n"
     ]
    }
   ],
   "source": [
    "from statsmodels.tsa.stattools import adfuller\n",
    "\n",
    "def test_stationarity(timeseries):\n",
    "    \n",
    "    #Determing rolling statistics\n",
    "    rolmean = pd.rolling_mean(timeseries, window=12)\n",
    "    rolstd = pd.rolling_std(timeseries, window=12)\n",
    "\n",
    "    #Plot rolling statistics:\n",
    "    orig = plt.plot(timeseries, color='blue',label='Original')\n",
    "    mean = plt.plot(rolmean, color='red', label='Rolling Mean')\n",
    "    std = plt.plot(rolstd, color='black', label = 'Rolling Std')\n",
    "    plt.legend(loc='best')\n",
    "    plt.title('Rolling Mean & Standard Deviation')\n",
    "    plt.show(block=False)\n",
    "    \n",
    "    #Perform Dickey-Fuller test:\n",
    "    print('Results of Dickey-Fuller Test:')\n",
    "    dftest = adfuller(timeseries, autolag='AIC')\n",
    "    dfoutput = pd.Series(dftest[0:4], index=['Test Statistic','p-value','#Lags Used','Number of Observations Used'])\n",
    "    for key,value in dftest[4].items():\n",
    "        dfoutput['Critical Value (%s)'%key] = value\n",
    "    print(dfoutput)"
   ]
  },
  {
   "cell_type": "code",
   "execution_count": 47,
   "metadata": {},
   "outputs": [
    {
     "name": "stderr",
     "output_type": "stream",
     "text": [
      "D:\\Users\\Luis\\Programs\\Anaconda3\\envs\\PREDICT-env\\lib\\site-packages\\ipykernel_launcher.py:6: FutureWarning: pd.rolling_mean is deprecated for DataFrame and will be removed in a future version, replace with \n",
      "\tDataFrame.rolling(window=12,center=False).mean()\n",
      "  \n",
      "D:\\Users\\Luis\\Programs\\Anaconda3\\envs\\PREDICT-env\\lib\\site-packages\\ipykernel_launcher.py:7: FutureWarning: pd.rolling_std is deprecated for DataFrame and will be removed in a future version, replace with \n",
      "\tDataFrame.rolling(window=12,center=False).std()\n",
      "  import sys\n"
     ]
    },
    {
     "data": {
      "image/png": "[encoded data removed]",
      "text/plain": [
       "<matplotlib.figure.Figure at 0x178e0ae3828>"
      ]
     },
     "metadata": {},
     "output_type": "display_data"
    },
    {
     "name": "stdout",
     "output_type": "stream",
     "text": [
      "Results of Dickey-Fuller Test:\n"
     ]
    },
    {
     "ename": "ValueError",
     "evalue": "too many values to unpack (expected 2)",
     "output_type": "error",
     "traceback": [
      "\u001b[1;31m---------------------------------------------------------------------------\u001b[0m",
      "\u001b[1;31mValueError\u001b[0m                                Traceback (most recent call last)",
      "\u001b[1;32m<ipython-input-47-ddca5f0ac4cf>\u001b[0m in \u001b[0;36m<module>\u001b[1;34m()\u001b[0m\n\u001b[1;32m----> 1\u001b[1;33m \u001b[0mtest_stationarity\u001b[0m\u001b[1;33m(\u001b[0m\u001b[0mts\u001b[0m\u001b[1;33m)\u001b[0m\u001b[1;33m\u001b[0m\u001b[0m\n\u001b[0m",
      "\u001b[1;32m<ipython-input-46-fac7d4e565df>\u001b[0m in \u001b[0;36mtest_stationarity\u001b[1;34m(timeseries)\u001b[0m\n\u001b[0;32m     17\u001b[0m     \u001b[1;31m#Perform Dickey-Fuller test:\u001b[0m\u001b[1;33m\u001b[0m\u001b[1;33m\u001b[0m\u001b[0m\n\u001b[0;32m     18\u001b[0m     \u001b[0mprint\u001b[0m\u001b[1;33m(\u001b[0m\u001b[1;34m'Results of Dickey-Fuller Test:'\u001b[0m\u001b[1;33m)\u001b[0m\u001b[1;33m\u001b[0m\u001b[0m\n\u001b[1;32m---> 19\u001b[1;33m     \u001b[0mdftest\u001b[0m \u001b[1;33m=\u001b[0m \u001b[0madfuller\u001b[0m\u001b[1;33m(\u001b[0m\u001b[0mtimeseries\u001b[0m\u001b[1;33m,\u001b[0m \u001b[0mautolag\u001b[0m\u001b[1;33m=\u001b[0m\u001b[1;34m'AIC'\u001b[0m\u001b[1;33m)\u001b[0m\u001b[1;33m\u001b[0m\u001b[0m\n\u001b[0m\u001b[0;32m     20\u001b[0m     \u001b[0mdfoutput\u001b[0m \u001b[1;33m=\u001b[0m \u001b[0mpd\u001b[0m\u001b[1;33m.\u001b[0m\u001b[0mSeries\u001b[0m\u001b[1;33m(\u001b[0m\u001b[0mdftest\u001b[0m\u001b[1;33m[\u001b[0m\u001b[1;36m0\u001b[0m\u001b[1;33m:\u001b[0m\u001b[1;36m4\u001b[0m\u001b[1;33m]\u001b[0m\u001b[1;33m,\u001b[0m \u001b[0mindex\u001b[0m\u001b[1;33m=\u001b[0m\u001b[1;33m[\u001b[0m\u001b[1;34m'Test Statistic'\u001b[0m\u001b[1;33m,\u001b[0m\u001b[1;34m'p-value'\u001b[0m\u001b[1;33m,\u001b[0m\u001b[1;34m'#Lags Used'\u001b[0m\u001b[1;33m,\u001b[0m\u001b[1;34m'Number of Observations Used'\u001b[0m\u001b[1;33m]\u001b[0m\u001b[1;33m)\u001b[0m\u001b[1;33m\u001b[0m\u001b[0m\n\u001b[0;32m     21\u001b[0m     \u001b[1;32mfor\u001b[0m \u001b[0mkey\u001b[0m\u001b[1;33m,\u001b[0m\u001b[0mvalue\u001b[0m \u001b[1;32min\u001b[0m \u001b[0mdftest\u001b[0m\u001b[1;33m[\u001b[0m\u001b[1;36m4\u001b[0m\u001b[1;33m]\u001b[0m\u001b[1;33m.\u001b[0m\u001b[0mitems\u001b[0m\u001b[1;33m(\u001b[0m\u001b[1;33m)\u001b[0m\u001b[1;33m:\u001b[0m\u001b[1;33m\u001b[0m\u001b[0m\n",
      "\u001b[1;32mD:\\Users\\Luis\\Programs\\Anaconda3\\envs\\PREDICT-env\\lib\\site-packages\\statsmodels\\tsa\\stattools.py\u001b[0m in \u001b[0;36madfuller\u001b[1;34m(x, maxlag, regression, autolag, store, regresults)\u001b[0m\n\u001b[0;32m    218\u001b[0m \u001b[1;33m\u001b[0m\u001b[0m\n\u001b[0;32m    219\u001b[0m     \u001b[0mxdiff\u001b[0m \u001b[1;33m=\u001b[0m \u001b[0mnp\u001b[0m\u001b[1;33m.\u001b[0m\u001b[0mdiff\u001b[0m\u001b[1;33m(\u001b[0m\u001b[0mx\u001b[0m\u001b[1;33m)\u001b[0m\u001b[1;33m\u001b[0m\u001b[0m\n\u001b[1;32m--> 220\u001b[1;33m     \u001b[0mxdall\u001b[0m \u001b[1;33m=\u001b[0m \u001b[0mlagmat\u001b[0m\u001b[1;33m(\u001b[0m\u001b[0mxdiff\u001b[0m\u001b[1;33m[\u001b[0m\u001b[1;33m:\u001b[0m\u001b[1;33m,\u001b[0m \u001b[1;32mNone\u001b[0m\u001b[1;33m]\u001b[0m\u001b[1;33m,\u001b[0m \u001b[0mmaxlag\u001b[0m\u001b[1;33m,\u001b[0m \u001b[0mtrim\u001b[0m\u001b[1;33m=\u001b[0m\u001b[1;34m'both'\u001b[0m\u001b[1;33m,\u001b[0m \u001b[0moriginal\u001b[0m\u001b[1;33m=\u001b[0m\u001b[1;34m'in'\u001b[0m\u001b[1;33m)\u001b[0m\u001b[1;33m\u001b[0m\u001b[0m\n\u001b[0m\u001b[0;32m    221\u001b[0m     \u001b[0mnobs\u001b[0m \u001b[1;33m=\u001b[0m \u001b[0mxdall\u001b[0m\u001b[1;33m.\u001b[0m\u001b[0mshape\u001b[0m\u001b[1;33m[\u001b[0m\u001b[1;36m0\u001b[0m\u001b[1;33m]\u001b[0m  \u001b[1;31m# pylint: disable=E1103\u001b[0m\u001b[1;33m\u001b[0m\u001b[0m\n\u001b[0;32m    222\u001b[0m \u001b[1;33m\u001b[0m\u001b[0m\n",
      "\u001b[1;32mD:\\Users\\Luis\\Programs\\Anaconda3\\envs\\PREDICT-env\\lib\\site-packages\\statsmodels\\tsa\\tsatools.py\u001b[0m in \u001b[0;36mlagmat\u001b[1;34m(x, maxlag, trim, original, use_pandas)\u001b[0m\n\u001b[0;32m    373\u001b[0m     \u001b[1;32mif\u001b[0m \u001b[0mxa\u001b[0m\u001b[1;33m.\u001b[0m\u001b[0mndim\u001b[0m \u001b[1;33m==\u001b[0m \u001b[1;36m1\u001b[0m\u001b[1;33m:\u001b[0m\u001b[1;33m\u001b[0m\u001b[0m\n\u001b[0;32m    374\u001b[0m         \u001b[0mxa\u001b[0m \u001b[1;33m=\u001b[0m \u001b[0mxa\u001b[0m\u001b[1;33m[\u001b[0m\u001b[1;33m:\u001b[0m\u001b[1;33m,\u001b[0m \u001b[1;32mNone\u001b[0m\u001b[1;33m]\u001b[0m\u001b[1;33m\u001b[0m\u001b[0m\n\u001b[1;32m--> 375\u001b[1;33m     \u001b[0mnobs\u001b[0m\u001b[1;33m,\u001b[0m \u001b[0mnvar\u001b[0m \u001b[1;33m=\u001b[0m \u001b[0mxa\u001b[0m\u001b[1;33m.\u001b[0m\u001b[0mshape\u001b[0m\u001b[1;33m\u001b[0m\u001b[0m\n\u001b[0m\u001b[0;32m    376\u001b[0m     \u001b[1;32mif\u001b[0m \u001b[0moriginal\u001b[0m \u001b[1;32min\u001b[0m \u001b[1;33m[\u001b[0m\u001b[1;34m'ex'\u001b[0m\u001b[1;33m,\u001b[0m \u001b[1;34m'sep'\u001b[0m\u001b[1;33m]\u001b[0m\u001b[1;33m:\u001b[0m\u001b[1;33m\u001b[0m\u001b[0m\n\u001b[0;32m    377\u001b[0m         \u001b[0mdropidx\u001b[0m \u001b[1;33m=\u001b[0m \u001b[0mnvar\u001b[0m\u001b[1;33m\u001b[0m\u001b[0m\n",
      "\u001b[1;31mValueError\u001b[0m: too many values to unpack (expected 2)"
     ]
    }
   ],
   "source": [
    "test_stationarity(ts)"
   ]
  },
  {
   "cell_type": "code",
   "execution_count": 43,
   "metadata": {},
   "outputs": [
    {
     "name": "stdout",
     "output_type": "stream",
     "text": [
      "Creating C:\\Users\\luism\\.bokeh directory\n",
      "Creating C:\\Users\\luism\\.bokeh\\data directory\n",
      "Using data directory: C:\\Users\\luism\\.bokeh\\data\n",
      "Downloading: CGM.csv (1589982 bytes)\n",
      "   1589982 [100.00%]\n",
      "Downloading: US_Counties.zip (3182088 bytes)\n",
      "   3182088 [100.00%]\n",
      "Unpacking: US_Counties.csv\n",
      "Downloading: us_cities.json (713565 bytes)\n",
      "    713565 [100.00%]\n",
      "Downloading: unemployment09.csv (253301 bytes)\n",
      "    253301 [100.00%]\n",
      "Downloading: AAPL.csv (166698 bytes)\n",
      "    166698 [100.00%]\n",
      "Downloading: FB.csv (9706 bytes)\n",
      "      9706 [100.00%]\n",
      "Downloading: GOOG.csv (113894 bytes)\n",
      "    113894 [100.00%]\n",
      "Downloading: IBM.csv (165625 bytes)\n",
      "    165625 [100.00%]\n",
      "Downloading: MSFT.csv (161614 bytes)\n",
      "    161614 [100.00%]\n",
      "Downloading: WPP2012_SA_DB03_POPULATION_QUINQUENNIAL.zip (5148539 bytes)\n",
      "   5148539 [100.00%]\n",
      "Unpacking: WPP2012_SA_DB03_POPULATION_QUINQUENNIAL.csv\n",
      "Downloading: gapminder_fertility.csv (64346 bytes)\n",
      "     64346 [100.00%]\n",
      "Downloading: gapminder_population.csv (94509 bytes)\n",
      "     94509 [100.00%]\n",
      "Downloading: gapminder_life_expectancy.csv (73243 bytes)\n",
      "     73243 [100.00%]\n",
      "Downloading: gapminder_regions.csv (7781 bytes)\n",
      "      7781 [100.00%]\n",
      "Downloading: world_cities.zip (646858 bytes)\n",
      "    646858 [100.00%]\n",
      "Unpacking: world_cities.csv\n",
      "Downloading: airports.json (6373 bytes)\n",
      "      6373 [100.00%]\n",
      "Downloading: movies.db.zip (5067833 bytes)\n",
      "   5067833 [100.00%]\n",
      "Unpacking: movies.db\n"
     ]
    }
   ],
   "source": [
    "import bokeh\n",
    "bokeh.sampledata.download()\n",
    "from bokeh.sampledata.stocks import AAPL\n",
    "\n",
    "# prepare some data\n",
    "aapl = np.array(AAPL['adj_close'])\n",
    "aapl_dates = np.array(AAPL['date'], dtype=np.datetime64)"
   ]
  },
  {
   "cell_type": "code",
   "execution_count": 49,
   "metadata": {},
   "outputs": [
    {
     "data": {
      "text/plain": [
       "array(['2000-03-01', '2000-03-02', '2000-03-03', ..., '2013-02-27',\n",
       "       '2013-02-28', '2013-03-01'], dtype='datetime64[D]')"
      ]
     },
     "execution_count": 49,
     "metadata": {},
     "output_type": "execute_result"
    }
   ],
   "source": [
    "aapl_dates"
   ]
  },
  {
   "cell_type": "code",
   "execution_count": 53,
   "metadata": {},
   "outputs": [
    {
     "data": {
      "text/plain": [
       "array([  31.68,   29.66,   31.12, ...,  438.75,  435.62,  424.83])"
      ]
     },
     "execution_count": 53,
     "metadata": {},
     "output_type": "execute_result"
    }
   ],
   "source": [
    "aapl"
   ]
  },
  {
   "cell_type": "code",
   "execution_count": 51,
   "metadata": {},
   "outputs": [
    {
     "data": {
      "text/plain": [
       "array(['2016-01-01T19:00:00.000000000', '2016-01-01T19:00:00.000000000',\n",
       "       '2016-01-01T19:00:00.000000000', ...,\n",
       "       '2017-05-31T20:00:00.000000000', '2017-05-31T20:00:00.000000000',\n",
       "       '2017-05-31T21:00:00.000000000'], dtype='datetime64[ns]')"
      ]
     },
     "execution_count": 51,
     "metadata": {},
     "output_type": "execute_result"
    }
   ],
   "source": [
    "ts_dates"
   ]
  },
  {
   "cell_type": "code",
   "execution_count": 52,
   "metadata": {},
   "outputs": [
    {
     "data": {
      "text/plain": [
       "array([ 1.66666667,  3.03333333,  3.46666667, ...,  6.76666667,\n",
       "        6.6       ,  6.5       ])"
      ]
     },
     "execution_count": 52,
     "metadata": {},
     "output_type": "execute_result"
    }
   ],
   "source": [
    "ts_avg"
   ]
  },
  {
   "cell_type": "code",
   "execution_count": null,
   "metadata": {
    "collapsed": true
   },
   "outputs": [],
   "source": []
  }
 ],
 "metadata": {
  "kernelspec": {
   "display_name": "Python 3",
   "language": "python",
   "name": "python3"
  },
  "language_info": {
   "codemirror_mode": {
    "name": "ipython",
    "version": 3
   },
   "file_extension": ".py",
   "mimetype": "text/x-python",
   "name": "python",
   "nbconvert_exporter": "python",
   "pygments_lexer": "ipython3",
   "version": "3.6.2"
  }
 },
 "nbformat": 4,
 "nbformat_minor": 1
}
