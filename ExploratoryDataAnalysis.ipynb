{
 "cells": [
  {
   "cell_type": "code",
   "execution_count": 2,
   "metadata": {},
   "outputs": [],
   "source": [
    "import pandas as pd"
   ]
  },
  {
   "cell_type": "code",
   "execution_count": 3,
   "metadata": {
    "collapsed": true
   },
   "outputs": [],
   "source": [
    "# Import data into pandas data frames\n",
    "air_reserve_df = pd.read_csv(r'./data/air_reserve.csv')\n",
    "air_store_info_df = pd.read_csv(r'./data/air_store_info.csv')\n",
    "air_visit_data_df = pd.read_csv(r'./data/air_visit_data.csv')\n",
    "date_info_df = pd.read_csv(r'./data/date_info.csv')\n",
    "hpg_reserve_df = pd.read_csv(r'./data/hpg_reserve.csv')\n",
    "hpg_store_info_df = pd.read_csv(r'./data/hpg_store_info.csv')\n",
    "sample_submission_df = pd.read_csv(r'./data/sample_submission.csv')\n",
    "store_id_relation_df = pd.read_csv(r'./data/store_id_relation.csv')"
   ]
  },
  {
   "cell_type": "code",
   "execution_count": 4,
   "metadata": {},
   "outputs": [
    {
     "name": "stdout",
     "output_type": "stream",
     "text": [
      "           air_store_id       visit_datetime     reserve_datetime  \\\n",
      "0  air_877f79706adbfb06  2016-01-01 19:00:00  2016-01-01 16:00:00   \n",
      "1  air_db4b38ebe7a7ceff  2016-01-01 19:00:00  2016-01-01 19:00:00   \n",
      "2  air_db4b38ebe7a7ceff  2016-01-01 19:00:00  2016-01-01 19:00:00   \n",
      "3  air_877f79706adbfb06  2016-01-01 20:00:00  2016-01-01 16:00:00   \n",
      "4  air_db80363d35f10926  2016-01-01 20:00:00  2016-01-01 01:00:00   \n",
      "\n",
      "   reserve_visitors  \n",
      "0                 1  \n",
      "1                 3  \n",
      "2                 6  \n",
      "3                 2  \n",
      "4                 5  \n"
     ]
    }
   ],
   "source": [
    "print(air_reserve_df.head())"
   ]
  },
  {
   "cell_type": "code",
   "execution_count": 5,
   "metadata": {},
   "outputs": [
    {
     "name": "stdout",
     "output_type": "stream",
     "text": [
      "           air_store_id  air_genre_name                 air_area_name  \\\n",
      "0  air_0f0cdeee6c9bf3d7  Italian/French  Hyōgo-ken Kōbe-shi Kumoidōri   \n",
      "1  air_7cc17a324ae5c7dc  Italian/French  Hyōgo-ken Kōbe-shi Kumoidōri   \n",
      "2  air_fee8dcf4d619598e  Italian/French  Hyōgo-ken Kōbe-shi Kumoidōri   \n",
      "3  air_a17f0778617c76e2  Italian/French  Hyōgo-ken Kōbe-shi Kumoidōri   \n",
      "4  air_83db5aff8f50478e  Italian/French  Tōkyō-to Minato-ku Shibakōen   \n",
      "\n",
      "    latitude   longitude  \n",
      "0  34.695124  135.197852  \n",
      "1  34.695124  135.197852  \n",
      "2  34.695124  135.197852  \n",
      "3  34.695124  135.197852  \n",
      "4  35.658068  139.751599  \n"
     ]
    }
   ],
   "source": [
    "print(air_store_info_df.head())"
   ]
  },
  {
   "cell_type": "code",
   "execution_count": 6,
   "metadata": {},
   "outputs": [
    {
     "name": "stdout",
     "output_type": "stream",
     "text": [
      "           air_store_id  visit_date  visitors\n",
      "0  air_ba937bf13d40fb24  2016-01-13        25\n",
      "1  air_ba937bf13d40fb24  2016-01-14        32\n",
      "2  air_ba937bf13d40fb24  2016-01-15        29\n",
      "3  air_ba937bf13d40fb24  2016-01-16        22\n",
      "4  air_ba937bf13d40fb24  2016-01-18         6\n"
     ]
    }
   ],
   "source": [
    "print(air_visit_data_df.head())"
   ]
  },
  {
   "cell_type": "code",
   "execution_count": 7,
   "metadata": {},
   "outputs": [
    {
     "name": "stdout",
     "output_type": "stream",
     "text": [
      "  calendar_date day_of_week  holiday_flg\n",
      "0    2016-01-01      Friday            1\n",
      "1    2016-01-02    Saturday            1\n",
      "2    2016-01-03      Sunday            1\n",
      "3    2016-01-04      Monday            0\n",
      "4    2016-01-05     Tuesday            0\n"
     ]
    }
   ],
   "source": [
    "print(date_info_df.head())"
   ]
  },
  {
   "cell_type": "code",
   "execution_count": 8,
   "metadata": {},
   "outputs": [
    {
     "name": "stdout",
     "output_type": "stream",
     "text": [
      "           hpg_store_id       visit_datetime     reserve_datetime  \\\n",
      "0  hpg_c63f6f42e088e50f  2016-01-01 11:00:00  2016-01-01 09:00:00   \n",
      "1  hpg_dac72789163a3f47  2016-01-01 13:00:00  2016-01-01 06:00:00   \n",
      "2  hpg_c8e24dcf51ca1eb5  2016-01-01 16:00:00  2016-01-01 14:00:00   \n",
      "3  hpg_24bb207e5fd49d4a  2016-01-01 17:00:00  2016-01-01 11:00:00   \n",
      "4  hpg_25291c542ebb3bc2  2016-01-01 17:00:00  2016-01-01 03:00:00   \n",
      "\n",
      "   reserve_visitors  \n",
      "0                 1  \n",
      "1                 3  \n",
      "2                 2  \n",
      "3                 5  \n",
      "4                13  \n"
     ]
    }
   ],
   "source": [
    "print(hpg_reserve_df.head())"
   ]
  },
  {
   "cell_type": "code",
   "execution_count": 9,
   "metadata": {},
   "outputs": [
    {
     "name": "stdout",
     "output_type": "stream",
     "text": [
      "           hpg_store_id  hpg_genre_name                  hpg_area_name  \\\n",
      "0  hpg_6622b62385aec8bf  Japanese style  Tōkyō-to Setagaya-ku Taishidō   \n",
      "1  hpg_e9e068dd49c5fa00  Japanese style  Tōkyō-to Setagaya-ku Taishidō   \n",
      "2  hpg_2976f7acb4b3a3bc  Japanese style  Tōkyō-to Setagaya-ku Taishidō   \n",
      "3  hpg_e51a522e098f024c  Japanese style  Tōkyō-to Setagaya-ku Taishidō   \n",
      "4  hpg_e3d0e1519894f275  Japanese style  Tōkyō-to Setagaya-ku Taishidō   \n",
      "\n",
      "    latitude   longitude  \n",
      "0  35.643675  139.668221  \n",
      "1  35.643675  139.668221  \n",
      "2  35.643675  139.668221  \n",
      "3  35.643675  139.668221  \n",
      "4  35.643675  139.668221  \n"
     ]
    }
   ],
   "source": [
    "print(hpg_store_info_df.head())"
   ]
  },
  {
   "cell_type": "code",
   "execution_count": 10,
   "metadata": {},
   "outputs": [
    {
     "name": "stdout",
     "output_type": "stream",
     "text": [
      "                                id  visitors\n",
      "0  air_00a91d42b08b08d9_2017-04-23         0\n",
      "1  air_00a91d42b08b08d9_2017-04-24         0\n",
      "2  air_00a91d42b08b08d9_2017-04-25         0\n",
      "3  air_00a91d42b08b08d9_2017-04-26         0\n",
      "4  air_00a91d42b08b08d9_2017-04-27         0\n"
     ]
    }
   ],
   "source": [
    "print(sample_submission_df.head())"
   ]
  },
  {
   "cell_type": "code",
   "execution_count": 11,
   "metadata": {},
   "outputs": [
    {
     "name": "stdout",
     "output_type": "stream",
     "text": [
      "           air_store_id          hpg_store_id\n",
      "0  air_63b13c56b7201bd9  hpg_4bc649e72e2a239a\n",
      "1  air_a24bf50c3e90d583  hpg_c34b496d0305a809\n",
      "2  air_c7f78b4f3cba33ff  hpg_cd8ae0d9bbd58ff9\n",
      "3  air_947eb2cae4f3e8f2  hpg_de24ea49dc25d6b8\n",
      "4  air_965b2e0cf4119003  hpg_653238a84804d8e7\n"
     ]
    }
   ],
   "source": [
    "print(store_id_relation_df.head())"
   ]
  },
  {
   "cell_type": "code",
   "execution_count": null,
   "metadata": {
    "collapsed": true
   },
   "outputs": [],
   "source": []
  }
 ],
 "metadata": {
  "kernelspec": {
   "display_name": "Python 3",
   "language": "python",
   "name": "python3"
  },
  "language_info": {
   "codemirror_mode": {
    "name": "ipython",
    "version": 3
   },
   "file_extension": ".py",
   "mimetype": "text/x-python",
   "name": "python",
   "nbconvert_exporter": "python",
   "pygments_lexer": "ipython3",
   "version": "3.6.2"
  }
 },
 "nbformat": 4,
 "nbformat_minor": 1
}
