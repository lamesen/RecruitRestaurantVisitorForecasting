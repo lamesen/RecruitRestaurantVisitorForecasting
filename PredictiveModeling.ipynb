{
 "cells": [
  {
   "cell_type": "markdown",
   "metadata": {},
   "source": [
    "# Recruit Restaurant Visitor Forecasting\n",
    "## Predict how many future visitors a restaurant will receive\n",
    "\n",
    "Running a thriving local restaurant isn't always as charming as first impressions appear. There are often all sorts of unexpected troubles popping up that could hurt business.\n",
    "\n",
    "One common predicament is that restaurants need to know how many customers to expect each day to effectively purchase ingredients and schedule staff members. This forecast isn't easy to make because many unpredictable factors affect restaurant attendance, like weather and local competition. It's even harder for newer restaurants with little historical data.\n",
    "\n",
    "Recruit Holdings has unique access to key datasets that could make automated future customer prediction possible. Specifically, Recruit Holdings owns Hot Pepper Gourmet (a restaurant review service), AirREGI (a restaurant point of sales service), and Restaurant Board (reservation log management software).\n",
    "\n",
    "In this competition, you're challenged to use reservation and visitation data to predict the total number of visitors to a restaurant for future dates. This information will help restaurants be much more efficient and allow them to focus on creating an enjoyable dining experience for their customers."
   ]
  },
  {
   "cell_type": "markdown",
   "metadata": {},
   "source": [
    "### Prepare for modeling"
   ]
  },
  {
   "cell_type": "code",
   "execution_count": 1,
   "metadata": {},
   "outputs": [
    {
     "name": "stderr",
     "output_type": "stream",
     "text": [
      "D:\\Users\\Luis\\Programs\\Anaconda3\\envs\\PREDICT-env\\lib\\site-packages\\statsmodels\\compat\\pandas.py:56: FutureWarning: The pandas.core.datetools module is deprecated and will be removed in a future version. Please use the pandas.tseries module instead.\n",
      "  from pandas.core import datetools\n"
     ]
    }
   ],
   "source": [
    "import recruit_utils\n",
    "import pandas as pd\n",
    "import numpy as np\n",
    "\n",
    "import matplotlib.pyplot as plt\n",
    "\n",
    "from sklearn import linear_model\n",
    "from sklearn.ensemble import RandomForestRegressor\n",
    "from lightgbm import LGBMRegressor\n",
    "\n",
    "import statsmodels.api as sm\n",
    "from statsmodels.stats.outliers_influence import variance_inflation_factor\n",
    "\n",
    "%matplotlib inline"
   ]
  },
  {
   "cell_type": "code",
   "execution_count": 2,
   "metadata": {},
   "outputs": [],
   "source": [
    "# Import data into pandas data frames\n",
    "data, stores = recruit_utils.import_data()"
   ]
  },
  {
   "cell_type": "code",
   "execution_count": 3,
   "metadata": {},
   "outputs": [
    {
     "name": "stdout",
     "output_type": "stream",
     "text": [
      "Optimization terminated successfully.\n",
      "         Current function value: 0.004078\n",
      "         Iterations 13\n"
     ]
    }
   ],
   "source": [
    "train, test = recruit_utils.create_train_test(data, stores, clean=True, predict_large_party=True)"
   ]
  },
  {
   "cell_type": "code",
   "execution_count": 4,
   "metadata": {},
   "outputs": [],
   "source": [
    "# Define list of main predictor variables for visualizations\n",
    "categorical_predictors = ['day', 'month', 'air_area_name4', 'air_area_name',\n",
    "                    'air_area_name2', 'wom', 'date_int', 'dow',\n",
    "                    'air_genre_name1', 'air_genre_name0', 'air_genre_name',  \n",
    "                    'holiday_flg', 'year', 'air_area_name0']\n",
    "                    \n",
    "\n",
    "numeric_predictors = ['median_visitors', 'max_visitors', 'min_visitors', 'rv1_x',\n",
    "                'count_observations', 'rv2_x', 'longitude', 'rs2_x', 'rs1_x']\n",
    "\n",
    "target_columns = ['visitors', 'log_visitors']\n",
    "\n",
    "id_columns = ['air_store_id', 'id', 'air_store_id2']"
   ]
  },
  {
   "cell_type": "markdown",
   "metadata": {},
   "source": [
    "### Fit a linear model using OLS"
   ]
  },
  {
   "cell_type": "code",
   "execution_count": 5,
   "metadata": {},
   "outputs": [
    {
     "name": "stdout",
     "output_type": "stream",
     "text": [
      "                            OLS Regression Results                            \n",
      "==============================================================================\n",
      "Dep. Variable:           log_visitors   R-squared:                       0.500\n",
      "Model:                            OLS   Adj. R-squared:                  0.500\n",
      "Method:                 Least Squares   F-statistic:                 1.254e+04\n",
      "Date:                Tue, 06 Feb 2018   Prob (F-statistic):               0.00\n",
      "Time:                        19:15:27   Log-Likelihood:            -2.4427e+05\n",
      "No. Observations:              250468   AIC:                         4.886e+05\n",
      "Df Residuals:                  250447   BIC:                         4.888e+05\n",
      "Df Model:                          20                                         \n",
      "Covariance Type:            nonrobust                                         \n",
      "======================================================================================\n",
      "                         coef    std err          t      P>|t|      [0.025      0.975]\n",
      "--------------------------------------------------------------------------------------\n",
      "median_visitors        0.0468      0.000    269.261      0.000       0.046       0.047\n",
      "max_visitors           0.0009   4.16e-05     21.555      0.000       0.001       0.001\n",
      "min_visitors           0.0008      0.000      2.520      0.012       0.000       0.001\n",
      "rv1_x                  0.0061      0.000     19.550      0.000       0.006       0.007\n",
      "count_observations     0.0040   9.35e-05     42.379      0.000       0.004       0.004\n",
      "rv2_x                  0.0149      0.001     17.704      0.000       0.013       0.017\n",
      "longitude             -0.0042      0.001     -4.467      0.000      -0.006      -0.002\n",
      "rs2_x               1.963e-05      0.001      0.039      0.969      -0.001       0.001\n",
      "rs1_x                 -0.0001   1.13e-05    -13.113      0.000      -0.000      -0.000\n",
      "day                   -0.0003      0.001     -0.406      0.685      -0.002       0.001\n",
      "month                  0.0035      0.000      9.817      0.000       0.003       0.004\n",
      "air_area_name4         0.0002   4.91e-05      3.418      0.001    7.16e-05       0.000\n",
      "air_area_name         -0.0009      0.000     -3.456      0.001      -0.001      -0.000\n",
      "air_area_name2         0.0012      0.000      5.336      0.000       0.001       0.002\n",
      "wom                    0.0189      0.004      4.229      0.000       0.010       0.028\n",
      "date_int            9.976e-08   6.05e-09     16.480      0.000    8.79e-08    1.12e-07\n",
      "dow                   -0.0022      0.001     -3.131      0.002      -0.004      -0.001\n",
      "air_genre_name1        0.0033      0.000      8.066      0.000       0.002       0.004\n",
      "air_genre_name0        0.0024      0.000     11.369      0.000       0.002       0.003\n",
      "air_genre_name         0.0024      0.000     11.369      0.000       0.002       0.003\n",
      "holiday_flg            0.1510      0.006     25.677      0.000       0.139       0.163\n",
      "year               -3.457e-05   3.53e-06     -9.804      0.000   -4.15e-05   -2.77e-05\n",
      "air_area_name0         0.0114      0.003      3.909      0.000       0.006       0.017\n",
      "==============================================================================\n",
      "Omnibus:                    43104.285   Durbin-Watson:                   1.596\n",
      "Prob(Omnibus):                  0.000   Jarque-Bera (JB):            96713.423\n",
      "Skew:                          -1.001   Prob(JB):                         0.00\n",
      "Kurtosis:                       5.293   Cond. No.                     1.78e+23\n",
      "==============================================================================\n",
      "\n",
      "Warnings:\n",
      "[1] Standard Errors assume that the covariance matrix of the errors is correctly specified.\n",
      "[2] The smallest eigenvalue is 3.2e-27. This might indicate that there are\n",
      "strong multicollinearity problems or that the design matrix is singular.\n"
     ]
    }
   ],
   "source": [
    "subset = numeric_predictors + categorical_predictors\n",
    "\n",
    "y = train[target_columns[1]]\n",
    "X = train[subset]\n",
    "\n",
    "lm = sm.OLS(y, X).fit()\n",
    "print(lm.summary())"
   ]
  },
  {
   "cell_type": "code",
   "execution_count": 6,
   "metadata": {},
   "outputs": [
    {
     "name": "stderr",
     "output_type": "stream",
     "text": [
      "D:\\Users\\Luis\\Programs\\Anaconda3\\envs\\PREDICT-env\\lib\\site-packages\\statsmodels\\stats\\outliers_influence.py:167: RuntimeWarning: divide by zero encountered in double_scalars\n",
      "  vif = 1. / (1. - r_squared_i)\n",
      "D:\\Users\\Luis\\Programs\\Anaconda3\\envs\\PREDICT-env\\lib\\site-packages\\pandas\\core\\series.py:1410: RuntimeWarning: invalid value encountered in rint\n",
      "  result = _values_from_object(self).round(decimals)\n"
     ]
    },
    {
     "data": {
      "text/html": [
       "<div>\n",
       "<style scoped>\n",
       "    .dataframe tbody tr th:only-of-type {\n",
       "        vertical-align: middle;\n",
       "    }\n",
       "\n",
       "    .dataframe tbody tr th {\n",
       "        vertical-align: top;\n",
       "    }\n",
       "\n",
       "    .dataframe thead th {\n",
       "        text-align: right;\n",
       "    }\n",
       "</style>\n",
       "<table border=\"1\" class=\"dataframe\">\n",
       "  <thead>\n",
       "    <tr style=\"text-align: right;\">\n",
       "      <th></th>\n",
       "      <th>VIF Factor</th>\n",
       "      <th>features</th>\n",
       "    </tr>\n",
       "  </thead>\n",
       "  <tbody>\n",
       "    <tr>\n",
       "      <th>0</th>\n",
       "      <td>3.000000</td>\n",
       "      <td>median_visitors</td>\n",
       "    </tr>\n",
       "    <tr>\n",
       "      <th>1</th>\n",
       "      <td>1.400000</td>\n",
       "      <td>max_visitors</td>\n",
       "    </tr>\n",
       "    <tr>\n",
       "      <th>2</th>\n",
       "      <td>2.300000</td>\n",
       "      <td>min_visitors</td>\n",
       "    </tr>\n",
       "    <tr>\n",
       "      <th>3</th>\n",
       "      <td>3.300000</td>\n",
       "      <td>rv1_x</td>\n",
       "    </tr>\n",
       "    <tr>\n",
       "      <th>4</th>\n",
       "      <td>1.100000</td>\n",
       "      <td>count_observations</td>\n",
       "    </tr>\n",
       "    <tr>\n",
       "      <th>5</th>\n",
       "      <td>3.000000</td>\n",
       "      <td>rv2_x</td>\n",
       "    </tr>\n",
       "    <tr>\n",
       "      <th>6</th>\n",
       "      <td>7.100000</td>\n",
       "      <td>longitude</td>\n",
       "    </tr>\n",
       "    <tr>\n",
       "      <th>7</th>\n",
       "      <td>2.000000</td>\n",
       "      <td>rs2_x</td>\n",
       "    </tr>\n",
       "    <tr>\n",
       "      <th>8</th>\n",
       "      <td>1.900000</td>\n",
       "      <td>rs1_x</td>\n",
       "    </tr>\n",
       "    <tr>\n",
       "      <th>9</th>\n",
       "      <td>inf</td>\n",
       "      <td>day</td>\n",
       "    </tr>\n",
       "    <tr>\n",
       "      <th>10</th>\n",
       "      <td>inf</td>\n",
       "      <td>month</td>\n",
       "    </tr>\n",
       "    <tr>\n",
       "      <th>11</th>\n",
       "      <td>1.200000</td>\n",
       "      <td>air_area_name4</td>\n",
       "    </tr>\n",
       "    <tr>\n",
       "      <th>12</th>\n",
       "      <td>41.300000</td>\n",
       "      <td>air_area_name</td>\n",
       "    </tr>\n",
       "    <tr>\n",
       "      <th>13</th>\n",
       "      <td>7.900000</td>\n",
       "      <td>air_area_name2</td>\n",
       "    </tr>\n",
       "    <tr>\n",
       "      <th>14</th>\n",
       "      <td>19.000000</td>\n",
       "      <td>wom</td>\n",
       "    </tr>\n",
       "    <tr>\n",
       "      <th>15</th>\n",
       "      <td>inf</td>\n",
       "      <td>date_int</td>\n",
       "    </tr>\n",
       "    <tr>\n",
       "      <th>16</th>\n",
       "      <td>1.100000</td>\n",
       "      <td>dow</td>\n",
       "    </tr>\n",
       "    <tr>\n",
       "      <th>17</th>\n",
       "      <td>1.000000</td>\n",
       "      <td>air_genre_name1</td>\n",
       "    </tr>\n",
       "    <tr>\n",
       "      <th>18</th>\n",
       "      <td>inf</td>\n",
       "      <td>air_genre_name0</td>\n",
       "    </tr>\n",
       "    <tr>\n",
       "      <th>19</th>\n",
       "      <td>inf</td>\n",
       "      <td>air_genre_name</td>\n",
       "    </tr>\n",
       "    <tr>\n",
       "      <th>20</th>\n",
       "      <td>1.000000</td>\n",
       "      <td>holiday_flg</td>\n",
       "    </tr>\n",
       "    <tr>\n",
       "      <th>21</th>\n",
       "      <td>inf</td>\n",
       "      <td>year</td>\n",
       "    </tr>\n",
       "    <tr>\n",
       "      <th>22</th>\n",
       "      <td>43.000000</td>\n",
       "      <td>air_area_name0</td>\n",
       "    </tr>\n",
       "  </tbody>\n",
       "</table>\n",
       "</div>"
      ],
      "text/plain": [
       "    VIF Factor            features\n",
       "0     3.000000     median_visitors\n",
       "1     1.400000        max_visitors\n",
       "2     2.300000        min_visitors\n",
       "3     3.300000               rv1_x\n",
       "4     1.100000  count_observations\n",
       "5     3.000000               rv2_x\n",
       "6     7.100000           longitude\n",
       "7     2.000000               rs2_x\n",
       "8     1.900000               rs1_x\n",
       "9          inf                 day\n",
       "10         inf               month\n",
       "11    1.200000      air_area_name4\n",
       "12   41.300000       air_area_name\n",
       "13    7.900000      air_area_name2\n",
       "14   19.000000                 wom\n",
       "15         inf            date_int\n",
       "16    1.100000                 dow\n",
       "17    1.000000     air_genre_name1\n",
       "18         inf     air_genre_name0\n",
       "19         inf      air_genre_name\n",
       "20    1.000000         holiday_flg\n",
       "21         inf                year\n",
       "22   43.000000      air_area_name0"
      ]
     },
     "execution_count": 6,
     "metadata": {},
     "output_type": "execute_result"
    }
   ],
   "source": [
    "# For each X, calculate VIF and save in dataframe\n",
    "vif = pd.DataFrame()\n",
    "vif[\"VIF Factor\"] = [variance_inflation_factor(X.values, i) for i in range(X.shape[1])]\n",
    "vif[\"features\"] = X.columns\n",
    "vif.round(1)"
   ]
  },
  {
   "cell_type": "code",
   "execution_count": 48,
   "metadata": {},
   "outputs": [],
   "source": [
    "# Define list of main predictor variables for visualizations\n",
    "categorical_predictors = ['day', 'month', 'air_area_name', 'day_of_week', \n",
    "                    'air_genre_name', 'holiday_flg']                    \n",
    "\n",
    "numeric_predictors = ['median_visitors', 'max_visitors', 'min_visitors', 'rv2_x', 'rs2_x']\n",
    "\n",
    "subset = numeric_predictors + categorical_predictors"
   ]
  },
  {
   "cell_type": "code",
   "execution_count": 8,
   "metadata": {},
   "outputs": [
    {
     "name": "stdout",
     "output_type": "stream",
     "text": [
      "                            OLS Regression Results                            \n",
      "==============================================================================\n",
      "Dep. Variable:           log_visitors   R-squared:                       0.932\n",
      "Model:                            OLS   Adj. R-squared:                  0.932\n",
      "Method:                 Least Squares   F-statistic:                 3.097e+05\n",
      "Date:                Tue, 06 Feb 2018   Prob (F-statistic):               0.00\n",
      "Time:                        19:15:35   Log-Likelihood:            -2.8222e+05\n",
      "No. Observations:              250468   AIC:                         5.645e+05\n",
      "Df Residuals:                  250457   BIC:                         5.646e+05\n",
      "Df Model:                          11                                         \n",
      "Covariance Type:            nonrobust                                         \n",
      "===================================================================================\n",
      "                      coef    std err          t      P>|t|      [0.025      0.975]\n",
      "-----------------------------------------------------------------------------------\n",
      "median_visitors     0.0588      0.000    302.816      0.000       0.058       0.059\n",
      "max_visitors        0.0029   4.76e-05     60.624      0.000       0.003       0.003\n",
      "min_visitors       -0.0067      0.000    -18.907      0.000      -0.007      -0.006\n",
      "rv2_x               0.0178      0.001     23.284      0.000       0.016       0.019\n",
      "rs2_x              -0.0014      0.001     -2.615      0.009      -0.003      -0.000\n",
      "day                 0.0207      0.000    132.600      0.000       0.020       0.021\n",
      "month               0.0416      0.000    111.082      0.000       0.041       0.042\n",
      "air_area_name       0.0053   4.47e-05    118.774      0.000       0.005       0.005\n",
      "day_of_week         0.0724      0.001    105.448      0.000       0.071       0.074\n",
      "air_genre_name      0.0516      0.000    114.770      0.000       0.051       0.052\n",
      "holiday_flg         0.2588      0.007     37.959      0.000       0.245       0.272\n",
      "==============================================================================\n",
      "Omnibus:                    26755.844   Durbin-Watson:                   1.337\n",
      "Prob(Omnibus):                  0.000   Jarque-Bera (JB):            51799.395\n",
      "Skew:                          -0.705   Prob(JB):                         0.00\n",
      "Kurtosis:                       4.725   Cond. No.                         377.\n",
      "==============================================================================\n",
      "\n",
      "Warnings:\n",
      "[1] Standard Errors assume that the covariance matrix of the errors is correctly specified.\n"
     ]
    }
   ],
   "source": [
    "y = train[target_columns[1]]\n",
    "X = train[subset]\n",
    "\n",
    "lm2 = sm.OLS(y, X).fit()\n",
    "print(lm2.summary())"
   ]
  },
  {
   "cell_type": "code",
   "execution_count": 9,
   "metadata": {},
   "outputs": [
    {
     "data": {
      "text/html": [
       "<div>\n",
       "<style scoped>\n",
       "    .dataframe tbody tr th:only-of-type {\n",
       "        vertical-align: middle;\n",
       "    }\n",
       "\n",
       "    .dataframe tbody tr th {\n",
       "        vertical-align: top;\n",
       "    }\n",
       "\n",
       "    .dataframe thead th {\n",
       "        text-align: right;\n",
       "    }\n",
       "</style>\n",
       "<table border=\"1\" class=\"dataframe\">\n",
       "  <thead>\n",
       "    <tr style=\"text-align: right;\">\n",
       "      <th></th>\n",
       "      <th>VIF Factor</th>\n",
       "      <th>features</th>\n",
       "    </tr>\n",
       "  </thead>\n",
       "  <tbody>\n",
       "    <tr>\n",
       "      <th>0</th>\n",
       "      <td>9.4</td>\n",
       "      <td>median_visitors</td>\n",
       "    </tr>\n",
       "    <tr>\n",
       "      <th>1</th>\n",
       "      <td>3.9</td>\n",
       "      <td>max_visitors</td>\n",
       "    </tr>\n",
       "    <tr>\n",
       "      <th>2</th>\n",
       "      <td>3.8</td>\n",
       "      <td>min_visitors</td>\n",
       "    </tr>\n",
       "    <tr>\n",
       "      <th>3</th>\n",
       "      <td>1.8</td>\n",
       "      <td>rv2_x</td>\n",
       "    </tr>\n",
       "    <tr>\n",
       "      <th>4</th>\n",
       "      <td>1.8</td>\n",
       "      <td>rs2_x</td>\n",
       "    </tr>\n",
       "    <tr>\n",
       "      <th>5</th>\n",
       "      <td>3.5</td>\n",
       "      <td>day</td>\n",
       "    </tr>\n",
       "    <tr>\n",
       "      <th>6</th>\n",
       "      <td>3.3</td>\n",
       "      <td>month</td>\n",
       "    </tr>\n",
       "    <tr>\n",
       "      <th>7</th>\n",
       "      <td>3.1</td>\n",
       "      <td>air_area_name</td>\n",
       "    </tr>\n",
       "    <tr>\n",
       "      <th>8</th>\n",
       "      <td>2.8</td>\n",
       "      <td>day_of_week</td>\n",
       "    </tr>\n",
       "    <tr>\n",
       "      <th>9</th>\n",
       "      <td>3.4</td>\n",
       "      <td>air_genre_name</td>\n",
       "    </tr>\n",
       "    <tr>\n",
       "      <th>10</th>\n",
       "      <td>1.1</td>\n",
       "      <td>holiday_flg</td>\n",
       "    </tr>\n",
       "  </tbody>\n",
       "</table>\n",
       "</div>"
      ],
      "text/plain": [
       "    VIF Factor         features\n",
       "0          9.4  median_visitors\n",
       "1          3.9     max_visitors\n",
       "2          3.8     min_visitors\n",
       "3          1.8            rv2_x\n",
       "4          1.8            rs2_x\n",
       "5          3.5              day\n",
       "6          3.3            month\n",
       "7          3.1    air_area_name\n",
       "8          2.8      day_of_week\n",
       "9          3.4   air_genre_name\n",
       "10         1.1      holiday_flg"
      ]
     },
     "execution_count": 9,
     "metadata": {},
     "output_type": "execute_result"
    }
   ],
   "source": [
    "# For each X, calculate VIF and save in dataframe\n",
    "vif = pd.DataFrame()\n",
    "vif[\"VIF Factor\"] = [variance_inflation_factor(X.values, i) for i in range(X.shape[1])]\n",
    "vif[\"features\"] = X.columns\n",
    "vif.round(1)"
   ]
  },
  {
   "cell_type": "code",
   "execution_count": 10,
   "metadata": {},
   "outputs": [
    {
     "name": "stdout",
     "output_type": "stream",
     "text": [
      "0.643821711963\n"
     ]
    }
   ],
   "source": [
    "# Cross-validation testing for linear model\n",
    "lm = linear_model.LinearRegression()\n",
    "y = train[target_columns[1]].as_matrix()\n",
    "X = train[subset].as_matrix()\n",
    "\n",
    "cv_results = recruit_utils.time_series_cv(y, X, lm)\n",
    "print(np.mean(cv_results))"
   ]
  },
  {
   "cell_type": "code",
   "execution_count": 11,
   "metadata": {},
   "outputs": [],
   "source": [
    "# Store and score using OLS linear model\n",
    "lm_fit = lm.fit(X, y)\n",
    "X_test = test[subset].as_matrix()\n",
    "lm_predictions = lm_fit.predict(X_test)\n",
    "recruit_utils.score_predictions(lm_predictions, 'scored_lm')"
   ]
  },
  {
   "cell_type": "code",
   "execution_count": 44,
   "metadata": {},
   "outputs": [],
   "source": [
    "# Prepare subset again for the next model\n",
    "subset = train.columns.values.tolist()\n",
    "subset = [col for col in subset if col not in target_columns + id_columns]\n",
    "subset.remove('visit_date')\n",
    "subset.remove('subset')"
   ]
  },
  {
   "cell_type": "markdown",
   "metadata": {},
   "source": [
    "### Lasso regression regularization"
   ]
  },
  {
   "cell_type": "code",
   "execution_count": 20,
   "metadata": {},
   "outputs": [
    {
     "data": {
      "image/png": "[encoded data removed]",
      "text/plain": [
       "<matplotlib.figure.Figure at 0x233947b8>"
      ]
     },
     "metadata": {},
     "output_type": "display_data"
    }
   ],
   "source": [
    "# Lasso regression model and CV results\n",
    "y = train[target_columns[1]].as_matrix()\n",
    "X = train[subset].as_matrix()\n",
    "cv_results_df = pd.DataFrame(columns=['lambda', 'RMSLE'])\n",
    "\n",
    "for alpha in np.arange(0.001, 1.000, 0.005):\n",
    "    clf = linear_model.Lasso(alpha=alpha)\n",
    "\n",
    "    cv_results = recruit_utils.time_series_cv(y, X, clf)\n",
    "    temp_df = pd.DataFrame([[alpha, np.mean(cv_results)]], columns=['lambda', 'RMSLE'])\n",
    "    cv_results_df = cv_results_df.append(temp_df, ignore_index=True)\n",
    "    \n",
    "cv_results_df.plot.scatter(x='lambda', y='RMSLE', figsize=(15, 10))\n",
    "lasso_cv_results_df = cv_results_df"
   ]
  },
  {
   "cell_type": "code",
   "execution_count": 21,
   "metadata": {},
   "outputs": [
    {
     "name": "stdout",
     "output_type": "stream",
     "text": [
      "0.240841571591\n"
     ]
    }
   ],
   "source": [
    "# Minimum RMSLE CV result\n",
    "print(lasso_cv_results_df.RMSLE.min())"
   ]
  },
  {
   "cell_type": "code",
   "execution_count": 49,
   "metadata": {},
   "outputs": [],
   "source": [
    "# Lasso fit and scoring\n",
    "y = train[target_columns[1]].as_matrix()\n",
    "X = train[subset].as_matrix()\n",
    "X_test = test[subset].as_matrix()\n",
    "\n",
    "clf = linear_model.Lasso(alpha=0.001)\n",
    "clf_fit = clf.fit(X, y)\n",
    "\n",
    "lasso_predictions = clf_fit.predict(X_test)\n",
    "recruit_utils.score_predictions(lasso_predictions, 'scored_lasso.csv')"
   ]
  },
  {
   "cell_type": "code",
   "execution_count": 6,
   "metadata": {},
   "outputs": [],
   "source": [
    "# Prepare subset again for the next model\n",
    "subset = train.columns.values.tolist()\n",
    "subset = [col for col in subset if col not in target_columns + id_columns]\n",
    "subset.remove('visit_date')\n",
    "subset.remove('subset')"
   ]
  },
  {
   "cell_type": "markdown",
   "metadata": {},
   "source": [
    "### Tree-based regression"
   ]
  },
  {
   "cell_type": "code",
   "execution_count": 51,
   "metadata": {},
   "outputs": [],
   "source": [
    "# Random forest regression\n",
    "y = train[target_columns[1]].as_matrix()\n",
    "X = train[subset].as_matrix()\n",
    "\n",
    "rfr = RandomForestRegressor(n_estimators=1000, \n",
    "                            max_features=\"sqrt\", \n",
    "                            max_depth=3, \n",
    "                            n_jobs=-1, \n",
    "                            random_state=0)\n",
    "\n",
    "rfr_cv_results = recruit_utils.time_series_cv(y, X, rfr)"
   ]
  },
  {
   "cell_type": "code",
   "execution_count": 52,
   "metadata": {},
   "outputs": [
    {
     "name": "stdout",
     "output_type": "stream",
     "text": [
      "0.0583627526939\n"
     ]
    }
   ],
   "source": [
    "# Random Forest CV results\n",
    "print(np.mean(rfr_cv_results))"
   ]
  },
  {
   "cell_type": "code",
   "execution_count": 8,
   "metadata": {},
   "outputs": [],
   "source": [
    "# Random forest fit and scoring\n",
    "y = train[target_columns[1]].as_matrix()\n",
    "X = train[subset].as_matrix()\n",
    "X_test = test[subset].as_matrix()\n",
    "\n",
    "rfr = RandomForestRegressor(n_estimators=1000, max_features=\"sqrt\", max_depth=3, n_jobs=-1, random_state=0)\n",
    "rfr_fit = rfr.fit(X, y)\n",
    "\n",
    "random_forest_predictions = rfr_fit.predict(X_test)"
   ]
  },
  {
   "cell_type": "code",
   "execution_count": 9,
   "metadata": {},
   "outputs": [],
   "source": [
    "recruit_utils.score_predictions(random_forest_predictions, 'scored_random_forest')"
   ]
  },
  {
   "cell_type": "markdown",
   "metadata": {},
   "source": [
    "### Gradient Boosting using LightGBM\n",
    "\n",
    "Documentation: https://lightgbm.readthedocs.io/en/latest/\n",
    "\n",
    "Quick overview: https://medium.com/@pushkarmandot/https-medium-com-pushkarmandot-what-is-lightgbm-how-to-implement-it-how-to-fine-tune-the-parameters-60347819b7fc"
   ]
  },
  {
   "cell_type": "code",
   "execution_count": 53,
   "metadata": {},
   "outputs": [],
   "source": [
    "# LightGBM Cross Validation\n",
    "lgbm = LGBMRegressor(n_estimators=1000, learning_rate=0.01)\n",
    "lgbm_cv_results = recruit_utils.time_series_cv(y, X, lgbm)"
   ]
  },
  {
   "cell_type": "code",
   "execution_count": 54,
   "metadata": {},
   "outputs": [
    {
     "name": "stdout",
     "output_type": "stream",
     "text": [
      "0.0720092699232\n"
     ]
    }
   ],
   "source": [
    "# LightGBM Cross Validation results\n",
    "print(np.mean(lgbm_cv_results))"
   ]
  },
  {
   "cell_type": "code",
   "execution_count": 55,
   "metadata": {},
   "outputs": [],
   "source": [
    "# Light GBM fit and scoring\n",
    "lgbm_fit = lgbm.fit(X, y)\n",
    "X_test = test[subset].as_matrix()\n",
    "lgbm_predictions = lgbm_fit.predict(X_test)\n",
    "recruit_utils.score_predictions(lgbm_predictions, 'scored_lgbm')"
   ]
  },
  {
   "cell_type": "code",
   "execution_count": 57,
   "metadata": {},
   "outputs": [
    {
     "data": {
      "text/plain": [
       "<matplotlib.axes._subplots.AxesSubplot at 0xed48e10>"
      ]
     },
     "execution_count": 57,
     "metadata": {},
     "output_type": "execute_result"
    },
    {
     "data": {
      "image/png": "[encoded data removed]",
      "text/plain": [
       "<matplotlib.figure.Figure at 0x101cc4e0>"
      ]
     },
     "metadata": {},
     "output_type": "display_data"
    }
   ],
   "source": [
    "# Plot y vs y-hat\n",
    "p = np.exp(lgbm_fit.predict(train[subset]))\n",
    "train['Predictions'] = p\n",
    "train.plot.scatter(x='Predictions', y='visitors', figsize=(15, 10), title='Prediction vs. Visitors')"
   ]
  },
  {
   "cell_type": "code",
   "execution_count": null,
   "metadata": {},
   "outputs": [],
   "source": []
  }
 ],
 "metadata": {
  "kernelspec": {
   "display_name": "Python 2",
   "language": "python",
   "name": "python2"
  },
  "language_info": {
   "codemirror_mode": {
    "name": "ipython",
    "version": 2
   },
   "file_extension": ".py",
   "mimetype": "text/x-python",
   "name": "python",
   "nbconvert_exporter": "python",
   "pygments_lexer": "ipython2",
   "version": "2.7.14"
  }
 },
 "nbformat": 4,
 "nbformat_minor": 1
}
